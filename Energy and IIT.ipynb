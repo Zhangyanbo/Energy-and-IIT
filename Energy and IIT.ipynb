{
 "cells": [
  {
   "cell_type": "markdown",
   "metadata": {},
   "source": [
    "### Logic to Karnaugh map"
   ]
  },
  {
   "cell_type": "markdown",
   "metadata": {},
   "source": [
    "[Wiki: Karnaugh map](https://en.wikipedia.org/wiki/Karnaugh_map)\n",
    "![](https://upload.wikimedia.org/wikipedia/commons/thumb/0/02/K-map_6%2C8%2C9%2C10%2C11%2C12%2C13%2C14_anti-race.svg/440px-K-map_6%2C8%2C9%2C10%2C11%2C12%2C13%2C14_anti-race.svg.png)"
   ]
  },
  {
   "cell_type": "markdown",
   "metadata": {},
   "source": [
    "# 导入"
   ]
  },
  {
   "cell_type": "code",
   "execution_count": 1,
   "metadata": {
    "collapsed": true
   },
   "outputs": [],
   "source": [
    "from sympy.combinatorics.graycode import GrayCode\n",
    "from itertools import permutations\n",
    "import numpy as np"
   ]
  },
  {
   "cell_type": "code",
   "execution_count": 2,
   "metadata": {
    "collapsed": true
   },
   "outputs": [],
   "source": [
    "def ReverseBinCode(l):\n",
    "    # Generate reversed binary code for pyphi\n",
    "    maxIndex = 2 ** l - 1\n",
    "    return [np.binary_repr(maxIndex - index, width=l) for index in range(2 ** l)]"
   ]
  },
  {
   "cell_type": "markdown",
   "metadata": {},
   "source": [
    "# 函数 Functions"
   ]
  },
  {
   "cell_type": "markdown",
   "metadata": {},
   "source": [
    "## 重标记 Re-labeling"
   ]
  },
  {
   "cell_type": "code",
   "execution_count": 3,
   "metadata": {
    "collapsed": true
   },
   "outputs": [],
   "source": [
    "def code2str(codeList):\n",
    "    s = ''\n",
    "    for i in codeList:\n",
    "        s += str(i)\n",
    "    return s\n",
    "\n",
    "def relabel(m0, order):\n",
    "    length = len(m0[0])\n",
    "    bcode = ReverseBinCode(length)\n",
    "    reorderRule = {}\n",
    "    for originLabel, newLabel in zip(bcode, order):\n",
    "        reorderRule[originLabel] = newLabel\n",
    "    #print(reorderRule)\n",
    "    rule = {}\n",
    "    # 初始化rule\n",
    "    for currentState, nextState in zip(bcode, m0):\n",
    "        rule[code2str(currentState)] = nextState\n",
    "    # 更新顺序\n",
    "    for currentState, nextState in zip(bcode, m0):\n",
    "        #print(reorderRule[code2str(currentState)], 'to', str(nextState))\n",
    "        rule[code2str(reorderRule[code2str(currentState)])] = reorderRule[code2str(nextState)]\n",
    "    \n",
    "    new_m = [rule[startState] for startState in ReverseBinCode(length)]\n",
    "    \n",
    "    return np.array(new_m)\n",
    "\n",
    "def AllLabelConfigurations(mat):\n",
    "    # 返回所有可能的重标记方法\n",
    "    _check = {}\n",
    "    all_elements = [\n",
    "    [1,1,1],\n",
    "    [1,1,0],\n",
    "    [1,0,1],\n",
    "    [1,0,0],\n",
    "    [0,1,1],\n",
    "    [0,1,0],\n",
    "    [0,0,1],\n",
    "    [0,0,0]\n",
    "    ]\n",
    "    for order in permutations(all_elements):\n",
    "        _relabel = relabel(mat, list(order))\n",
    "        _check[str(_relabel)] = _relabel\n",
    "    return list(_check.values())"
   ]
  },
  {
   "cell_type": "markdown",
   "metadata": {},
   "source": [
    "## Karnaugh Map & Karnaugh-Ising Energy"
   ]
  },
  {
   "cell_type": "markdown",
   "metadata": {},
   "source": [
    "### 输入`pyphi`中状态转移矩阵，给出各个变量的卡诺图"
   ]
  },
  {
   "cell_type": "code",
   "execution_count": 4,
   "metadata": {
    "collapsed": true
   },
   "outputs": [],
   "source": [
    "# 输入状态转移列表，给出各个量的卡诺图矩阵\n",
    "\n",
    "def MapToKarnaughMap(_map):\n",
    "    # Turn map to MapToKarnaugh Maps\n",
    "    # Generate ReverseBinCode\n",
    "    index = ReverseBinCode(len(_map[0]))\n",
    "    #index = np.array([[int(char) for char in strcode] for strcode in index])\n",
    "    \n",
    "    dim1 = (int(len(_map[0]) / 2))\n",
    "    dim2 = (len(_map[0]) - int(len(_map[0]) / 2))\n",
    "    #print('dim =', dim1, 'x', dim2)\n",
    "    \n",
    "    gc1 = GrayCode(dim1)\n",
    "    gc2 = GrayCode(dim2)\n",
    "    gd1 = dict(zip(list(gc1.generate_gray()), range(2 ** dim1)))\n",
    "    gd2 = dict(zip(list(gc2.generate_gray()), range(2 ** dim2)))\n",
    "    #print(gd1)\n",
    "    #print(gd2)\n",
    "    \n",
    "    _map = np.array(_map).T\n",
    "    KarnaughMaps = []\n",
    "    for targetStates in _map:\n",
    "        #print('-------')\n",
    "        Karnaugh = np.array(([[0] * (2 ** dim1)]) * (2 ** dim2)).T\n",
    "        #print(Karnaugh)\n",
    "        for state, mcode in zip(index, targetStates):\n",
    "            #print(state, '->', mcode)\n",
    "            #print('c1=',state[0:dim1])\n",
    "            #print('c2=',state[dim1:])\n",
    "            Karnaugh[gd1[state[0:dim1]], gd2[state[dim1:]]] = mcode\n",
    "        KarnaughMaps += [Karnaugh]\n",
    "        #print(Karnaugh)\n",
    "    \n",
    "    return np.array(KarnaughMaps)"
   ]
  },
  {
   "cell_type": "markdown",
   "metadata": {},
   "source": [
    "### 输入矩阵，给出Ising模型能量"
   ]
  },
  {
   "cell_type": "code",
   "execution_count": 5,
   "metadata": {
    "collapsed": true
   },
   "outputs": [],
   "source": [
    "def IsingEnergy(mat, energy={0:-1, 1:1}):\n",
    "    # 给出mat的Ising能量\n",
    "    # Return Ising energy of mat\n",
    "    mat = np.array(mat)\n",
    "    # If mat is a list of mat, then return all energy\n",
    "    if len(mat.shape) == 3:\n",
    "        return np.array([IsingEnergy(_mat, energy) for _mat in mat])\n",
    "    # Otherwise return this energy\n",
    "    x, y = mat.shape\n",
    "    total_E = 0\n",
    "    for i in range(x):\n",
    "        for j in range(y):\n",
    "            total_E += energy[mat[i][j]] * energy[mat[(i - 1) % x][j]]\n",
    "            total_E += energy[mat[i][j]] * energy[mat[(i + 1) % x][j]]\n",
    "            total_E += energy[mat[i][j]] * energy[mat[i][(j - 1) % y]]\n",
    "            total_E += energy[mat[i][j]] * energy[mat[i][(j + 1) % y]]\n",
    "    return -total_E"
   ]
  },
  {
   "cell_type": "code",
   "execution_count": 6,
   "metadata": {},
   "outputs": [
    {
     "data": {
      "text/plain": [
       "array([[[1, 1, 1, 1],\n",
       "        [0, 0, 0, 0]],\n",
       "\n",
       "       [[1, 1, 0, 0],\n",
       "        [1, 1, 0, 0]],\n",
       "\n",
       "       [[1, 0, 0, 1],\n",
       "        [1, 0, 0, 1]]])"
      ]
     },
     "execution_count": 6,
     "metadata": {},
     "output_type": "execute_result"
    }
   ],
   "source": [
    "m = [\n",
    "    [0,0,0],\n",
    "    [0,0,1],\n",
    "    [0,1,0],\n",
    "    [0,1,1],\n",
    "    [1,0,0],\n",
    "    [1,0,1],\n",
    "    [1,1,0],\n",
    "    [1,1,1]\n",
    "    ]\n",
    "MapToKarnaughMap(m)"
   ]
  },
  {
   "cell_type": "markdown",
   "metadata": {},
   "source": [
    "### 计算不同排序的Ising能量"
   ]
  },
  {
   "cell_type": "code",
   "execution_count": 54,
   "metadata": {},
   "outputs": [
    {
     "name": "stdout",
     "output_type": "stream",
     "text": [
      "[0, -16, -16, 0, -16, 32, 0, -16, -16, 0, 8, 8, 0, 8, 8, 0, 32, -16, 0, -16, 32, 0, -16, -16, 0, 8, 8, 0, 0, -16, 0, 16, 16, 0, 8, 8, 0, 8, 8, 0, 16, 16, 0, 32, -16, 0, 8, 8, 0, -16, -16, 0, -16, 0, 0, 0, -16, 0, 8, 8, 0, 8, 8, 0, -16, -16, 0, -16, 0, 0, -16, -16, 0, -16, -16, 0, -16, 32, 0, -16, -16, 0, 8, 8, 0, 8, 8, 0, 32, -16, -16, 0, -16, -16, 0, 32, 0, 0, 0, 8, 0, 8, 0, 16, 16, 8, 16, -16, 0, 0, 0, 0, 16, 16, -16, -16, 0, 8, -16, 16, -16, 32, 0, 8, 8, 0, 8, 0, 8, 8, 16, -16, 8, -16, 16, 32, -16, -16, 8, 8, 0, 32, -16, -16, 0, -16, 32, 0, -16, -16]\n"
     ]
    }
   ],
   "source": [
    "m = [\n",
    "    [0,0,0],\n",
    "    [0,0,1],\n",
    "    [0,1,0],\n",
    "    [0,1,1],\n",
    "    [1,0,0],\n",
    "    [1,0,1],\n",
    "    [1,1,0],\n",
    "    [1,1,1]\n",
    "    ]\n",
    "energyList = []\n",
    "maxlen = 50\n",
    "\n",
    "testorders=permutations(m)\n",
    "\n",
    "for i, order in zip(range(maxlen), testorders):\n",
    "    current_m = relabel(m, list(order))\n",
    "    energy = [IsingEnergy(kmap) for kmap in MapToKarnaughMap(current_m)]\n",
    "    energyList += energy\n",
    "\n",
    "print(energyList)"
   ]
  },
  {
   "cell_type": "markdown",
   "metadata": {
    "collapsed": true
   },
   "source": [
    "## NN Energy / Cost"
   ]
  },
  {
   "cell_type": "code",
   "execution_count": 28,
   "metadata": {
    "collapsed": true
   },
   "outputs": [],
   "source": [
    "import torch\n",
    "import torch.nn as nn\n",
    "import torch.nn.functional as F\n",
    "import torch.utils.data as data\n",
    "import torch.optim as optim"
   ]
  },
  {
   "cell_type": "code",
   "execution_count": 465,
   "metadata": {
    "collapsed": true
   },
   "outputs": [],
   "source": [
    "class net(nn.Module):\n",
    "    # 单个神经网络\n",
    "    def __init__(self, size_vis, size_hidden):\n",
    "        super(net, self).__init__()\n",
    "        self.fcn_v = nn.Linear(size_vis, size_vis)\n",
    "        self.fcn_v2h = nn.Linear(size_vis, size_hidden)\n",
    "        self.fcn_h2v = nn.Linear(size_hidden, size_vis)\n",
    "        \n",
    "    def forward(self, x):\n",
    "        h = torch.sigmoid(self.fcn_v2h(x))\n",
    "        xp = torch.sigmoid(self.fcn_v(x))\n",
    "        \n",
    "        xout = torch.sigmoid(self.fcn_h2v(h) + self.fcn_v(xp))\n",
    "        \n",
    "        return xout\n",
    "    \n",
    "class multinet(nn.Module):\n",
    "    # 多个并行的神经网络，用以加速训练\n",
    "    def __init__(self, size_vis, size_hidden, total_num = 1):\n",
    "        # size_vis: number of visable nodes\n",
    "        # size_hidden: number of hidden nodes\n",
    "        # total_num: number of parallel networks\n",
    "        super(multinet, self).__init__()\n",
    "        self.fcn_v2h = nn.ModuleList([nn.Linear(size_vis, size_hidden, bias=False) for i in range(total_num)])\n",
    "        self.fcn_h2v = nn.ModuleList([nn.Linear(size_hidden, size_vis, bias=False) for i in range(total_num)])\n",
    "        self.total_n = total_num\n",
    "    \n",
    "    def forward_one(self, x):\n",
    "        h = [torch.sigmoid(f1(a_input)) for f1, a_input in zip(self.fcn_v2h, x)]\n",
    "        xout = torch.stack([torch.sigmoid(f2(a_input)) for f2, a_input in zip(self.fcn_h2v, h)])\n",
    "        return xout\n",
    "    \n",
    "    def forward(self, x):\n",
    "        xout = torch.stack([self.forward_one(ax) for ax in x])\n",
    "        return xout"
   ]
  },
  {
   "cell_type": "code",
   "execution_count": 408,
   "metadata": {
    "collapsed": true
   },
   "outputs": [],
   "source": [
    "def BinCodeList(length):\n",
    "    # 给出长度为length的倒序01序列\n",
    "    s = ReverseBinCode(length)\n",
    "\n",
    "    return [[int(char) for char in ss] for ss in s]\n",
    "\n",
    "class graphData(data.Dataset):\n",
    "    #输入转移图，输出训练集（输入、输出）\n",
    "    def __init__(self, _m):\n",
    "        super(graphData, self).__init__()\n",
    "        self.inputs = BinCodeList(len(m[0]))\n",
    "        self.m = _m\n",
    "        \n",
    "    def __len__(self):\n",
    "        return len(self.inputs)\n",
    "    def __getitem__(self, index):\n",
    "        return torch.Tensor(self.inputs[index]), torch.Tensor(self.m[index])\n",
    "    \n",
    "class multiGraphData(data.Dataset):\n",
    "    #输入转移图，输出训练集（输入、输出）\n",
    "    #输出部分扩增，以便并行计算\n",
    "    def __init__(self, _m, total_num=1):\n",
    "        super(multiGraphData, self).__init__()\n",
    "        self.inputs = BinCodeList(len(m[0]))\n",
    "        self.inputs = torch.Tensor([[am] * total_num for am in self.inputs])\n",
    "        \n",
    "        self.m = _m\n",
    "        self.m = torch.Tensor([[am] * total_num for am in self.m])\n",
    "        \n",
    "    def __len__(self):\n",
    "        return len(self.inputs)\n",
    "    def __getitem__(self, index):\n",
    "        return self.inputs[index], self.m[index]"
   ]
  },
  {
   "cell_type": "code",
   "execution_count": 467,
   "metadata": {},
   "outputs": [
    {
     "name": "stdout",
     "output_type": "stream",
     "text": [
      "tensor([[[0.5614, 0.5758, 0.4821],\n",
      "         [0.4393, 0.4943, 0.5388],\n",
      "         [0.5340, 0.5007, 0.5857]]], grad_fn=<StackBackward>)\n"
     ]
    }
   ],
   "source": [
    "#同时训练10个平行的网络\n",
    "\n",
    "IITnets = multinet(3, 4, total_num=3)\n",
    "\n",
    "print(IITnets.forward(torch.Tensor([[[1,1,1],[1,1,1],[1,1,1]]])))"
   ]
  },
  {
   "cell_type": "code",
   "execution_count": 340,
   "metadata": {
    "collapsed": true
   },
   "outputs": [],
   "source": [
    "#Test\n",
    "\n",
    "m = [\n",
    "    [0,0,0],\n",
    "    [0,0,1],\n",
    "    [0,1,0],\n",
    "    [0,1,1],\n",
    "    [1,0,0],\n",
    "    [1,0,1],\n",
    "    [1,1,0],\n",
    "    [1,1,1]\n",
    "    ]\n",
    "\n",
    "dataset = multiGraphData(m, total_num=3)\n",
    "setLoader = data.DataLoader(dataset, batch_size = 1, shuffle=True)"
   ]
  },
  {
   "cell_type": "markdown",
   "metadata": {},
   "source": [
    "### 测试单个神经网络的训练"
   ]
  },
  {
   "cell_type": "code",
   "execution_count": 110,
   "metadata": {},
   "outputs": [
    {
     "name": "stdout",
     "output_type": "stream",
     "text": [
      "epco 0 loss: 0.2835400700569153\n",
      "epco 400 loss: 0.12037954479455948\n",
      "epco 800 loss: 0.12377927452325821\n",
      "epco 1200 loss: 0.07433902472257614\n",
      "epco 1600 loss: 0.0601571649312973\n",
      "epco 2000 loss: 0.0337505042552948\n",
      "epco 2400 loss: 0.022427517920732498\n",
      "epco 2800 loss: 0.035545188933610916\n",
      "epco 3200 loss: 0.02056305482983589\n",
      "epco 3600 loss: 0.02959204837679863\n"
     ]
    }
   ],
   "source": [
    "IITnet = net(3, 4)\n",
    "\n",
    "\n",
    "\n",
    "dataset = graphData(m)\n",
    "setLoader = data.DataLoader(dataset, batch_size = 1, shuffle=True)\n",
    "optimizer = optim.SGD(IITnet.parameters(), lr = 0.01, momentum=0.9, weight_decay=0.0005)\n",
    "\n",
    "loss_fn = torch.nn.MSELoss()\n",
    "\n",
    "for epco in range(4000):\n",
    "    for inputdata, target in setLoader:\n",
    "        optimizer.zero_grad()\n",
    "        #print(inputdata)\n",
    "        #print(target)\n",
    "        #inputdata = torch.Tensor(inputdata)\n",
    "        output = IITnet.forward(inputdata)\n",
    "        loss = loss_fn(output, torch.Tensor(target))\n",
    "        loss.backward()\n",
    "        optimizer.step()\n",
    "    if epco % 400 == 0:\n",
    "        print('epco', epco, 'loss:',loss.item())"
   ]
  },
  {
   "cell_type": "markdown",
   "metadata": {},
   "source": [
    "### 测试并行神经网络的训练"
   ]
  },
  {
   "cell_type": "code",
   "execution_count": 350,
   "metadata": {},
   "outputs": [
    {
     "data": {
      "text/plain": [
       "tensor([[[0.3830, 0.4067, 0.4171]],\n",
       "\n",
       "        [[0.5226, 0.5306, 0.4608]],\n",
       "\n",
       "        [[0.5504, 0.3943, 0.5537]],\n",
       "\n",
       "        [[0.5637, 0.6044, 0.4760]],\n",
       "\n",
       "        [[0.4598, 0.5796, 0.5974]]], grad_fn=<StackBackward>)"
      ]
     },
     "execution_count": 350,
     "metadata": {},
     "output_type": "execute_result"
    }
   ],
   "source": [
    "IITNets.forward(torch.Tensor([[1,1,1]]))"
   ]
  },
  {
   "cell_type": "code",
   "execution_count": 468,
   "metadata": {
    "scrolled": true
   },
   "outputs": [
    {
     "name": "stdout",
     "output_type": "stream",
     "text": [
      "input:\n",
      "tensor([[[0., 1., 1.],\n",
      "         [0., 1., 1.],\n",
      "         [0., 1., 1.],\n",
      "         [0., 1., 1.]],\n",
      "\n",
      "        [[1., 0., 1.],\n",
      "         [1., 0., 1.],\n",
      "         [1., 0., 1.],\n",
      "         [1., 0., 1.]]])\n",
      "forward:\n",
      "tensor([[[0.6332, 0.5444, 0.5405],\n",
      "         [0.6064, 0.4733, 0.3953],\n",
      "         [0.3821, 0.5291, 0.5728],\n",
      "         [0.6127, 0.4843, 0.3192]],\n",
      "\n",
      "        [[0.6307, 0.5417, 0.5359],\n",
      "         [0.6214, 0.4574, 0.3728],\n",
      "         [0.3970, 0.5148, 0.5679],\n",
      "         [0.5909, 0.4847, 0.3370]]], grad_fn=<StackBackward>)\n",
      "answer:\n",
      "tensor([[[1., 0., 0.],\n",
      "         [1., 0., 0.],\n",
      "         [1., 0., 0.],\n",
      "         [1., 0., 0.]],\n",
      "\n",
      "        [[0., 1., 0.],\n",
      "         [0., 1., 0.],\n",
      "         [0., 1., 0.],\n",
      "         [0., 1., 0.]]])\n",
      "input:\n",
      "tensor([[[1., 1., 1.],\n",
      "         [1., 1., 1.],\n",
      "         [1., 1., 1.],\n",
      "         [1., 1., 1.]],\n",
      "\n",
      "        [[0., 0., 0.],\n",
      "         [0., 0., 0.],\n",
      "         [0., 0., 0.],\n",
      "         [0., 0., 0.]]])\n",
      "forward:\n",
      "tensor([[[0.6414, 0.5389, 0.5464],\n",
      "         [0.6133, 0.4586, 0.3893],\n",
      "         [0.3773, 0.5219, 0.5670],\n",
      "         [0.6048, 0.4957, 0.3234]],\n",
      "\n",
      "        [[0.6173, 0.5555, 0.5315],\n",
      "         [0.6138, 0.4667, 0.3644],\n",
      "         [0.4105, 0.5154, 0.5750],\n",
      "         [0.5947, 0.4753, 0.3488]]], grad_fn=<StackBackward>)\n",
      "answer:\n",
      "tensor([[[0., 0., 0.],\n",
      "         [0., 0., 0.],\n",
      "         [0., 0., 0.],\n",
      "         [0., 0., 0.]],\n",
      "\n",
      "        [[1., 1., 1.],\n",
      "         [1., 1., 1.],\n",
      "         [1., 1., 1.],\n",
      "         [1., 1., 1.]]])\n",
      "input:\n",
      "tensor([[[1., 0., 0.],\n",
      "         [1., 0., 0.],\n",
      "         [1., 0., 0.],\n",
      "         [1., 0., 0.]],\n",
      "\n",
      "        [[0., 1., 0.],\n",
      "         [0., 1., 0.],\n",
      "         [0., 1., 0.],\n",
      "         [0., 1., 0.]]])\n",
      "forward:\n",
      "tensor([[[0.6277, 0.5484, 0.5382],\n",
      "         [0.6207, 0.4510, 0.3575],\n",
      "         [0.4048, 0.5077, 0.5689],\n",
      "         [0.5881, 0.4892, 0.3513]],\n",
      "\n",
      "        [[0.6301, 0.5512, 0.5428],\n",
      "         [0.6056, 0.4680, 0.3810],\n",
      "         [0.3898, 0.5223, 0.5740],\n",
      "         [0.6114, 0.4895, 0.3324]]], grad_fn=<StackBackward>)\n",
      "answer:\n",
      "tensor([[[0., 1., 1.],\n",
      "         [0., 1., 1.],\n",
      "         [0., 1., 1.],\n",
      "         [0., 1., 1.]],\n",
      "\n",
      "        [[1., 0., 1.],\n",
      "         [1., 0., 1.],\n",
      "         [1., 0., 1.],\n",
      "         [1., 0., 1.]]])\n",
      "input:\n",
      "tensor([[[0., 0., 1.],\n",
      "         [0., 0., 1.],\n",
      "         [0., 0., 1.],\n",
      "         [0., 0., 1.]],\n",
      "\n",
      "        [[1., 1., 0.],\n",
      "         [1., 1., 0.],\n",
      "         [1., 1., 0.],\n",
      "         [1., 1., 0.]]])\n",
      "forward:\n",
      "tensor([[[0.6212, 0.5485, 0.5294],\n",
      "         [0.6146, 0.4728, 0.3797],\n",
      "         [0.4023, 0.5223, 0.5738],\n",
      "         [0.5970, 0.4710, 0.3343]],\n",
      "\n",
      "        [[0.6396, 0.5449, 0.5489],\n",
      "         [0.6126, 0.4523, 0.3738],\n",
      "         [0.3847, 0.5148, 0.5680],\n",
      "         [0.6035, 0.5020, 0.3361]]], grad_fn=<StackBackward>)\n",
      "answer:\n",
      "tensor([[[1., 1., 0.],\n",
      "         [1., 1., 0.],\n",
      "         [1., 1., 0.],\n",
      "         [1., 1., 0.]],\n",
      "\n",
      "        [[0., 0., 1.],\n",
      "         [0., 0., 1.],\n",
      "         [0., 0., 1.],\n",
      "         [0., 0., 1.]]])\n"
     ]
    }
   ],
   "source": [
    "num = 4\n",
    "IITNets = multinet(3,4,total_num=num)\n",
    "\n",
    "dataset = multiGraphData(m, total_num=num)\n",
    "setLoader = data.DataLoader(dataset, batch_size = 2, shuffle=True)\n",
    "\n",
    "for x,y in setLoader:\n",
    "    print('input:')\n",
    "    print(x)\n",
    "    print('forward:')\n",
    "    print(IITNets.forward(x))\n",
    "    print('answer:')\n",
    "    print(y)"
   ]
  },
  {
   "cell_type": "code",
   "execution_count": 470,
   "metadata": {},
   "outputs": [
    {
     "name": "stdout",
     "output_type": "stream",
     "text": [
      "epco 0 loss: 0.22591792047023773\n",
      "epco 400 loss: 0.24268877506256104\n",
      "epco 800 loss: 0.22384046018123627\n",
      "epco 1200 loss: 0.2100454568862915\n",
      "epco 1600 loss: 0.19776733219623566\n",
      "total time cost: 10.187128782272339 s\n"
     ]
    }
   ],
   "source": [
    "import time\n",
    "\n",
    "start = time.time()\n",
    "\n",
    "num = 5\n",
    "IITNets = multinet(3,4,total_num=num)\n",
    "\n",
    "dataset = multiGraphData(m, total_num=num)\n",
    "setLoader = data.DataLoader(dataset, batch_size = 1, shuffle=True)\n",
    "optimizer = optim.SGD(IITNets.parameters(), lr = 0.01, momentum=0.9, weight_decay=0.0005)\n",
    "\n",
    "loss_fn = torch.nn.MSELoss()\n",
    "\n",
    "for epco in range(2000):\n",
    "    for inputdata, target in setLoader:\n",
    "        optimizer.zero_grad()\n",
    "        #print(inputdata)\n",
    "        #print(target)\n",
    "        #inputdata = torch.Tensor(inputdata)\n",
    "        output = IITNets.forward(inputdata)\n",
    "        loss = loss_fn(output, torch.Tensor(target))\n",
    "        loss.backward()\n",
    "        optimizer.step()\n",
    "    if epco % 400 == 0:\n",
    "        print('epco', epco, 'loss:',loss.item())\n",
    "        \n",
    "end = time.time()\n",
    "print('total time cost:', end-start, 's')"
   ]
  },
  {
   "cell_type": "code",
   "execution_count": null,
   "metadata": {
    "collapsed": true
   },
   "outputs": [],
   "source": [
    "{{1, 3.9}, {5, 10.03}, {10, 17.07}, {20, 31.1},{40,58.9}}"
   ]
  },
  {
   "cell_type": "code",
   "execution_count": 447,
   "metadata": {},
   "outputs": [
    {
     "data": {
      "text/plain": [
       "tensor([[[0.8276, 0.3467, 0.2980],\n",
       "         [0.7821, 0.3365, 0.3227],\n",
       "         [0.7472, 0.2479, 0.3422],\n",
       "         [0.8334, 0.3096, 0.4429],\n",
       "         [0.7890, 0.3002, 0.3009]]], grad_fn=<StackBackward>)"
      ]
     },
     "execution_count": 447,
     "metadata": {},
     "output_type": "execute_result"
    }
   ],
   "source": [
    "IITNets.forward(torch.Tensor([[[0,1,1]]*5]))"
   ]
  },
  {
   "cell_type": "code",
   "execution_count": 155,
   "metadata": {
    "collapsed": true
   },
   "outputs": [],
   "source": [
    "def trainNet(_m, batchsize = 1, epco = 1400, print_loss=False, learning_rate = 0.002):\n",
    "    _IITnet = net(3, 4)\n",
    "\n",
    "    dataset = graphData(_m)\n",
    "    setLoader = data.DataLoader(dataset, batch_size = batchsize, shuffle=True)\n",
    "    optimizer = optim.SGD(_IITnet.parameters(), lr = learning_rate, momentum=0.9, weight_decay=1e-5)\n",
    "\n",
    "    loss_fn = torch.nn.MSELoss()\n",
    "\n",
    "    for epco in range(1400):\n",
    "        for inputdata, target in setLoader:\n",
    "            optimizer.zero_grad()\n",
    "            output = _IITnet.forward(torch.Tensor(inputdata))\n",
    "            loss = loss_fn(output, torch.Tensor(target))\n",
    "            loss.backward()\n",
    "            optimizer.step()\n",
    "        #if epco % 400 == 0:\n",
    "            #print('epco', epco, 'loss:',loss.item())\n",
    "    if print_loss:\n",
    "        print('loss:', loss.item())\n",
    "    return _IITnet"
   ]
  },
  {
   "cell_type": "code",
   "execution_count": 159,
   "metadata": {},
   "outputs": [
    {
     "name": "stdout",
     "output_type": "stream",
     "text": [
      "loss: 0.04277151823043823\n",
      "time cost: 1.9210000038146973 s\n"
     ]
    }
   ],
   "source": [
    "import time\n",
    "\n",
    "start = time.time()\n",
    "\n",
    "trainNet(m, batchsize = 2, epco = 10000, print_loss=True, learning_rate=0.03)\n",
    "\n",
    "end = time.time()\n",
    "print('time cost:', end-start, 's')"
   ]
  },
  {
   "cell_type": "code",
   "execution_count": 104,
   "metadata": {},
   "outputs": [
    {
     "name": "stdout",
     "output_type": "stream",
     "text": [
      "[([0, 0, 0], [0, 0, 1], [0, 1, 0], [0, 1, 1], [1, 0, 0], [1, 0, 1], [1, 1, 0], [1, 1, 1]), [113.74878692626953, 112.23719024658203, 112.02633666992188], ([0, 0, 0], [0, 0, 1], [0, 1, 0], [0, 1, 1], [1, 0, 0], [1, 0, 1], [1, 1, 1], [1, 1, 0]), [99.32850646972656, 101.95207214355469, 92.23348999023438], ([0, 0, 0], [0, 0, 1], [0, 1, 0], [0, 1, 1], [1, 0, 0], [1, 1, 0], [1, 0, 1], [1, 1, 1]), [109.4934310913086, 68.52285766601562, 69.92340850830078], ([0, 0, 0], [0, 0, 1], [0, 1, 0], [0, 1, 1], [1, 0, 0], [1, 1, 0], [1, 1, 1], [1, 0, 1]), [98.31291198730469, 112.57115936279297, 122.3484115600586], ([0, 0, 0], [0, 0, 1], [0, 1, 0], [0, 1, 1], [1, 0, 0], [1, 1, 1], [1, 0, 1], [1, 1, 0]), [103.64986419677734, 101.21601867675781, 93.5998306274414]]\n"
     ]
    }
   ],
   "source": [
    "testorders=permutations(m)\n",
    "\n",
    "energylist = []\n",
    "\n",
    "for i,ms in zip(range(5),testorders):\n",
    "    energylist += [ms, [NetEnergy(trainNet(ms)) for j in range(3)]]\n",
    "\n",
    "print(energylist)"
   ]
  },
  {
   "cell_type": "code",
   "execution_count": 16,
   "metadata": {},
   "outputs": [
    {
     "data": {
      "text/plain": [
       "114.14593505859375"
      ]
     },
     "execution_count": 16,
     "metadata": {},
     "output_type": "execute_result"
    }
   ],
   "source": [
    "NetEnergy(IITnet)"
   ]
  },
  {
   "cell_type": "code",
   "execution_count": 32,
   "metadata": {
    "collapsed": true
   },
   "outputs": [],
   "source": [
    "def NetEnergy(net):\n",
    "    totalEnergy = 0.0\n",
    "    for para in net.parameters():\n",
    "        flat_para = para.view(para.numel())\n",
    "        totalEnergy += sum(flat_para * flat_para)\n",
    "    \n",
    "    return totalEnergy.item()"
   ]
  },
  {
   "cell_type": "code",
   "execution_count": 105,
   "metadata": {},
   "outputs": [
    {
     "data": {
      "text/plain": [
       "40315"
      ]
     },
     "execution_count": 105,
     "metadata": {},
     "output_type": "execute_result"
    }
   ],
   "source": [
    "len(list(testorders))"
   ]
  },
  {
   "cell_type": "code",
   "execution_count": 16,
   "metadata": {},
   "outputs": [
    {
     "data": {
      "text/plain": [
       "[[0, 0, 0],\n",
       " [0, 0, 1],\n",
       " [0, 1, 0],\n",
       " [0, 1, 1],\n",
       " [1, 0, 0],\n",
       " [1, 0, 1],\n",
       " [1, 1, 0],\n",
       " [1, 1, 1]]"
      ]
     },
     "execution_count": 16,
     "metadata": {},
     "output_type": "execute_result"
    }
   ],
   "source": [
    "m"
   ]
  },
  {
   "cell_type": "code",
   "execution_count": 18,
   "metadata": {},
   "outputs": [
    {
     "data": {
      "text/plain": [
       "array([[0, 0, 1],\n",
       "       [0, 0, 0],\n",
       "       [1, 1, 1],\n",
       "       [1, 1, 0],\n",
       "       [1, 0, 0],\n",
       "       [1, 0, 1],\n",
       "       [1, 1, 1],\n",
       "       [1, 1, 0]])"
      ]
     },
     "execution_count": 18,
     "metadata": {},
     "output_type": "execute_result"
    }
   ],
   "source": [
    "relabel(m,[[0, 0, 0], [0, 0, 1], [1, 0, 1], [1, 0, 0], [1, 1, 0], [1, 1, 1], [1, 1, 1], [1, 1, 0]])"
   ]
  },
  {
   "cell_type": "code",
   "execution_count": 19,
   "metadata": {
    "scrolled": true
   },
   "outputs": [
    {
     "data": {
      "text/plain": [
       "105"
      ]
     },
     "execution_count": 19,
     "metadata": {},
     "output_type": "execute_result"
    }
   ],
   "source": [
    "len(AllLabelConfigurations(m))"
   ]
  },
  {
   "cell_type": "code",
   "execution_count": 14,
   "metadata": {
    "collapsed": true
   },
   "outputs": [],
   "source": [
    "all_labels = AllLabelConfigurations(m)"
   ]
  },
  {
   "cell_type": "code",
   "execution_count": 37,
   "metadata": {},
   "outputs": [
    {
     "data": {
      "text/plain": [
       "81.47225952148438"
      ]
     },
     "execution_count": 37,
     "metadata": {},
     "output_type": "execute_result"
    }
   ],
   "source": [
    "NetEnergy(trainNet(all_labels[0].tolist(), batchsize = 8))"
   ]
  },
  {
   "cell_type": "code",
   "execution_count": 31,
   "metadata": {},
   "outputs": [
    {
     "name": "stdout",
     "output_type": "stream",
     "text": [
      "[[111.5406494140625, 109.67989349365234, 110.9552993774414, 108.75184631347656, 114.32801055908203, 112.37532043457031, 112.61180877685547, 109.82459259033203, 111.62741088867188, 113.04523468017578, 119.81019592285156, 112.51264953613281, 115.0881118774414, 109.69331359863281, 110.81085968017578, 110.8729248046875, 110.69241333007812, 107.08590698242188, 113.44341278076172, 114.39774322509766, 108.85160064697266, 109.6169662475586, 111.40321350097656, 114.26602935791016, 112.2437744140625, 109.07392120361328, 109.16975402832031, 107.95294189453125, 110.02708435058594, 110.11180114746094, 113.12081146240234, 109.57000732421875, 108.73204803466797, 108.83275604248047, 108.76665496826172, 108.86824035644531, 110.09841918945312, 110.09121704101562, 109.96764373779297, 107.59036254882812], [72.22057342529297, 74.84281921386719, 64.8193130493164, 67.5648422241211, 70.52532196044922, 67.50662231445312, 78.20569610595703, 65.0877914428711, 72.6133041381836, 89.07587432861328, 65.60433197021484, 67.70660400390625, 68.00096130371094, 64.71697235107422, 74.38811492919922, 65.38185119628906, 71.3641128540039, 85.97294616699219, 101.23851776123047, 69.98480987548828, 67.02584838867188, 88.22820281982422, 69.56531524658203, 65.07118225097656, 68.01061248779297, 65.0535888671875, 65.8294906616211, 88.68376159667969, 67.74127197265625, 94.36705780029297, 75.68016052246094, 67.24849700927734, 78.528076171875, 65.8861083984375, 88.3489761352539, 69.08977508544922, 90.478759765625, 75.8103256225586, 90.41149139404297, 75.02064514160156], [117.2233657836914, 125.0372543334961, 109.6888427734375, 111.49925231933594, 110.75116729736328, 109.9981918334961, 113.56477355957031, 116.72833251953125, 111.61629486083984, 113.84720611572266, 110.78685760498047, 116.90801239013672, 111.10768127441406, 111.54426574707031, 110.24624633789062, 112.24322509765625, 111.87388610839844, 110.84176635742188, 109.61512756347656, 121.33712005615234, 121.27110290527344, 116.41744232177734, 111.23687744140625, 109.80029296875, 110.80962371826172, 111.2088623046875, 111.039306640625, 112.98529815673828, 111.67973327636719, 110.54353332519531, 115.41927337646484, 110.6647720336914, 111.65760803222656, 109.76363372802734, 112.39330291748047, 113.09862518310547, 116.54730987548828, 124.3017807006836, 112.80619049072266, 112.32218170166016], [92.33406066894531, 88.81129455566406, 94.4762191772461, 100.27243041992188, 80.93855285644531, 91.24212646484375, 89.04067993164062, 83.60453033447266, 78.21076202392578, 76.72676849365234, 94.74561309814453, 93.61354064941406, 99.22700500488281, 92.38829803466797, 91.83456420898438, 81.12528991699219, 75.7118911743164, 91.066162109375, 97.93385314941406, 75.10762023925781, 86.1317138671875, 94.1889877319336, 81.2527847290039, 92.65775299072266, 89.99980163574219, 94.95279693603516, 85.70132446289062, 91.04065704345703, 94.31106567382812, 91.8089599609375, 80.6400375366211, 86.25846099853516, 89.62185668945312, 89.74605560302734, 102.40279388427734, 99.4928207397461, 80.06448364257812, 89.1058349609375, 90.80117797851562, 96.17495727539062], [88.75968933105469, 81.18256378173828, 91.36408996582031, 74.2540283203125, 81.22371673583984, 77.83499908447266, 81.48778533935547, 99.1550521850586, 82.49799346923828, 102.99117279052734, 76.14407348632812, 85.31900024414062, 80.57069396972656, 96.19850158691406, 83.41686248779297, 93.59716033935547, 105.33768463134766, 77.3218765258789, 89.48416137695312, 72.47371673583984, 90.8436279296875, 87.32013702392578, 94.12059783935547, 88.99519348144531, 85.32447052001953, 88.8046646118164, 93.7333755493164, 74.50273132324219, 78.92732238769531, 93.85636901855469, 81.11354064941406, 73.4670181274414, 89.14464569091797, 91.92333221435547, 88.14851379394531, 81.90740966796875, 110.52220916748047, 92.70999908447266, 94.61332702636719, 82.19569396972656]]\n",
      "time cost: 961.2007584571838\n"
     ]
    }
   ],
   "source": [
    "energys = []\n",
    "\n",
    "# expect time: 16min\n",
    "start = time.time()\n",
    "for i, graph in zip(range(5), all_labels):\n",
    "    energys += [[NetEnergy(trainNet(graph.tolist())) for j in range(40)]]\n",
    "    \n",
    "end = time.time()\n",
    "print(energys)\n",
    "print('time cost:', end-start)"
   ]
  },
  {
   "cell_type": "markdown",
   "metadata": {},
   "source": [
    "# 实验 Experiment"
   ]
  },
  {
   "cell_type": "markdown",
   "metadata": {},
   "source": [
    "### 测试矩阵 Test matrix"
   ]
  },
  {
   "cell_type": "code",
   "execution_count": 7,
   "metadata": {},
   "outputs": [
    {
     "name": "stdout",
     "output_type": "stream",
     "text": [
      "total labels: 10080\n"
     ]
    }
   ],
   "source": [
    "m = [[0, 0, 0],\n",
    "     [0, 0, 1],\n",
    "     [1, 0, 1],\n",
    "     [1, 0, 0],\n",
    "     [1, 1, 0],\n",
    "     [1, 1, 1],\n",
    "     [1, 1, 1],\n",
    "     [1, 1, 0]]\n",
    "\n",
    "all_labels = AllLabelConfigurations(m)\n",
    "print('total labels:',len(all_labels))"
   ]
  },
  {
   "cell_type": "markdown",
   "metadata": {},
   "source": [
    "## Ising"
   ]
  },
  {
   "cell_type": "markdown",
   "metadata": {},
   "source": [
    "### experimental function"
   ]
  },
  {
   "cell_type": "code",
   "execution_count": 8,
   "metadata": {
    "collapsed": true
   },
   "outputs": [],
   "source": [
    "import warnings\n",
    "import pyphi\n",
    "\n",
    "warnings.filterwarnings('ignore')\n",
    "\n",
    "labels = ('A', 'B', 'C')\n",
    "\n",
    "def IsingEnergyExp(exp_m):\n",
    "    print('Computing Ising Energy...')\n",
    "    ising_energy = [IsingEnergy(MapToKarnaughMap(alabel)) for alabel in exp_m]\n",
    "    print('done.')\n",
    "    \n",
    "    print('Computing Phi...')\n",
    "    phis = [getphi(alabel) for alabel in exp_m]\n",
    "    print('done.')\n",
    "    \n",
    "    return ising_energy, phis"
   ]
  },
  {
   "cell_type": "markdown",
   "metadata": {},
   "source": [
    "### experiment"
   ]
  },
  {
   "cell_type": "code",
   "execution_count": 11,
   "metadata": {
    "scrolled": true
   },
   "outputs": [
    {
     "name": "stderr",
     "output_type": "stream",
     "text": [
      "\r",
      "Computing concepts:   0%|          | 0/7 [00:00<?, ?it/s]"
     ]
    },
    {
     "name": "stdout",
     "output_type": "stream",
     "text": [
      "Computing Ising Energy...\n",
      "done.\n",
      "Computing Phi...\n"
     ]
    },
    {
     "name": "stderr",
     "output_type": "stream",
     "text": [
      "                                                         "
     ]
    },
    {
     "name": "stdout",
     "output_type": "stream",
     "text": [
      "done.\n"
     ]
    },
    {
     "name": "stderr",
     "output_type": "stream",
     "text": [
      "\r"
     ]
    }
   ],
   "source": [
    "# Simple test\n",
    "\n",
    "testIsing, testPhi = IsingEnergyExp(all_labels[:2])"
   ]
  },
  {
   "cell_type": "code",
   "execution_count": 9,
   "metadata": {},
   "outputs": [
    {
     "data": {
      "text/plain": [
       "[0, 2, 4, 6, 8]"
      ]
     },
     "execution_count": 9,
     "metadata": {},
     "output_type": "execute_result"
    }
   ],
   "source": [
    "list(range(0,10,2))"
   ]
  },
  {
   "cell_type": "code",
   "execution_count": 23,
   "metadata": {},
   "outputs": [
    {
     "data": {
      "text/plain": [
       "13"
      ]
     },
     "execution_count": 23,
     "metadata": {},
     "output_type": "execute_result"
    }
   ],
   "source": [
    "40 // 3"
   ]
  },
  {
   "cell_type": "code",
   "execution_count": 16,
   "metadata": {},
   "outputs": [
    {
     "name": "stderr",
     "output_type": "stream",
     "text": [
      "\r",
      "Computing concepts:   0%|          | 0/7 [00:00<?, ?it/s]"
     ]
    },
    {
     "name": "stdout",
     "output_type": "stream",
     "text": [
      "Computing Ising Energy...\n",
      "done.\n",
      "Computing Phi...\n"
     ]
    },
    {
     "name": "stderr",
     "output_type": "stream",
     "text": [
      "                                                                 "
     ]
    },
    {
     "name": "stdout",
     "output_type": "stream",
     "text": [
      "done.\n",
      "total time cost: 1140.2095048427582 s\n"
     ]
    },
    {
     "name": "stderr",
     "output_type": "stream",
     "text": [
      "\r"
     ]
    }
   ],
   "source": [
    "# Real experiment\n",
    "\n",
    "import pandas as pd\n",
    "import time\n",
    "\n",
    "start = time.time()\n",
    "\n",
    "total_test = 1000\n",
    "isingEnergys, phis = IsingEnergyExp(all_labels[:total_test])\n",
    "\n",
    "isingEnergyData = pd.DataFrame(isingEnergys)\n",
    "isingEnergyData.to_csv('./data/isingEnergy_0_1000.csv')\n",
    "\n",
    "PhiData = pd.DataFrame(phis)\n",
    "PhiData.to_csv('./data/Phi_0_1000.csv')\n",
    "\n",
    "end = time.time()\n",
    "\n",
    "print('total time cost:', end-start, 's')"
   ]
  },
  {
   "cell_type": "markdown",
   "metadata": {},
   "source": [
    "## Neuron Network"
   ]
  },
  {
   "cell_type": "code",
   "execution_count": 34,
   "metadata": {},
   "outputs": [
    {
     "data": {
      "text/plain": [
       "net(\n",
       "  (fcn_v): Linear(in_features=3, out_features=3, bias=True)\n",
       "  (fcn_v2h): Linear(in_features=3, out_features=4, bias=True)\n",
       "  (fcn_h2v): Linear(in_features=4, out_features=3, bias=True)\n",
       ")"
      ]
     },
     "execution_count": 34,
     "metadata": {},
     "output_type": "execute_result"
    }
   ],
   "source": [
    "trainNet(m)"
   ]
  },
  {
   "cell_type": "code",
   "execution_count": 39,
   "metadata": {},
   "outputs": [
    {
     "name": "stdout",
     "output_type": "stream",
     "text": [
      "0.0 %\n",
      "0.1 %\n",
      "0.2 %\n",
      "0.3 %\n",
      "0.4 %\n",
      "0.5 %\n",
      "0.6 %\n",
      "0.7 %\n",
      "0.8 %\n",
      "0.9 %\n",
      "[[125.3689193725586, 114.34842681884766, 77.66404724121094, 80.1391372680664, 100.38593292236328, 95.96160125732422, 79.7577896118164, 81.27345275878906, 96.10023498535156, 83.8078842163086, 88.44671630859375, 85.97489929199219, 81.16421508789062, 106.55809783935547, 118.70069122314453, 81.2342300415039, 87.16758728027344, 98.25985717773438, 82.06558990478516, 94.70956420898438, 91.53181457519531, 82.59296417236328, 126.27677917480469, 80.054931640625, 111.71385955810547, 85.78819274902344, 80.1546401977539, 106.10945892333984, 92.69000244140625, 80.84135437011719, 82.78980255126953, 83.82793426513672], [93.68472290039062, 81.88871765136719, 101.65992736816406, 85.98505401611328, 79.86389923095703, 82.20327758789062, 97.70317077636719, 135.9124298095703, 92.10265350341797, 85.17431640625, 108.1070785522461, 100.34458923339844, 96.89277648925781, 81.30494689941406, 77.02705383300781, 81.74012756347656, 80.44074249267578, 82.93588256835938, 85.5709228515625, 82.05461883544922, 89.29373168945312, 122.04873657226562, 101.05976104736328, 130.65155029296875, 81.264892578125, 83.19473266601562, 132.52369689941406, 99.03459167480469, 103.4189682006836, 100.92996978759766, 84.88267517089844, 100.70036315917969], [89.37113189697266, 106.86090850830078, 110.16557312011719, 107.27142333984375, 108.05484771728516, 107.87134552001953, 89.18053436279297, 105.0165023803711, 101.89067077636719, 100.34134674072266, 91.56050872802734, 104.7276611328125, 105.74154663085938, 119.68623352050781, 99.96766662597656, 111.91973876953125, 114.05052185058594, 109.4279556274414, 101.32437896728516, 105.78857421875, 99.05748748779297, 122.76935577392578, 103.82376098632812, 104.23805236816406, 104.44580841064453, 108.92007446289062, 107.18655395507812, 110.13985443115234, 108.09088134765625, 99.1634750366211, 99.63433837890625, 118.93253326416016], [106.20510864257812, 103.53897857666016, 105.87153625488281, 102.64888763427734, 104.37542724609375, 107.73340606689453, 103.66316223144531, 102.6029281616211, 104.72868347167969, 96.64186096191406, 102.94518280029297, 102.10969543457031, 101.32687377929688, 103.76252746582031, 105.2150650024414, 104.44159698486328, 101.36371612548828, 99.7919692993164, 106.12958526611328, 110.3416976928711, 103.8241958618164, 98.87151336669922, 103.19125366210938, 96.31653594970703, 103.9216537475586, 105.70207977294922, 102.18163299560547, 107.04252624511719, 102.18106079101562, 105.15957641601562, 105.75491333007812, 106.75890350341797], [93.05003356933594, 96.2612075805664, 109.83440399169922, 100.95292663574219, 89.19611358642578, 86.61547088623047, 103.71133422851562, 97.92705535888672, 91.8379135131836, 93.17186737060547, 106.1686782836914, 99.71463012695312, 89.30683135986328, 92.69881439208984, 99.89173889160156, 87.07881164550781, 91.29749298095703, 103.0337905883789, 89.84294128417969, 102.36907958984375, 93.48568725585938, 100.62603759765625, 91.63133239746094, 108.36853790283203, 92.33535766601562, 101.08885955810547, 101.10089111328125, 107.10497283935547, 99.16070556640625, 95.86339569091797, 102.73648071289062, 97.27691650390625], [107.32596588134766, 106.47804260253906, 106.89010620117188, 116.1668472290039, 113.07807159423828, 104.19629669189453, 99.0792465209961, 105.53387451171875, 97.17212677001953, 104.18482971191406, 104.8522720336914, 105.92527770996094, 104.52740478515625, 100.95243835449219, 110.69117736816406, 104.45762634277344, 99.84072875976562, 99.2323226928711, 116.55101013183594, 99.16761779785156, 109.11000061035156, 96.36832427978516, 106.6421127319336, 104.42996215820312, 99.39149475097656, 103.01371002197266, 106.35979461669922, 104.11311340332031, 102.64479064941406, 115.87963104248047, 102.79415130615234, 101.70738983154297], [102.79438018798828, 110.13643646240234, 100.39929962158203, 95.19667053222656, 93.98700714111328, 97.67727661132812, 101.16605377197266, 102.70298767089844, 111.87388610839844, 103.11215209960938, 99.79461669921875, 89.04058074951172, 98.59088134765625, 102.57662963867188, 105.2811050415039, 96.29434967041016, 97.97514343261719, 97.19466400146484, 92.49890899658203, 101.65863037109375, 93.82703399658203, 104.63160705566406, 108.61023712158203, 108.5691146850586, 103.35222625732422, 105.06121063232422, 108.93585205078125, 103.34259796142578, 103.56161499023438, 105.12408447265625, 108.7987060546875, 129.23641967773438], [82.5683364868164, 97.09359741210938, 83.55262756347656, 89.45417022705078, 106.13475799560547, 87.61457824707031, 81.73357391357422, 86.40921783447266, 85.84579467773438, 92.23301696777344, 79.29933166503906, 82.28706359863281, 93.01908111572266, 123.77313232421875, 79.3289566040039, 107.7375717163086, 84.29544830322266, 81.72061920166016, 97.53351593017578, 81.1463851928711, 134.46566772460938, 139.88925170898438, 98.48419189453125, 127.87754821777344, 83.2470703125, 94.34721374511719, 98.53350067138672, 101.91374969482422, 87.03292846679688, 78.80460357666016, 82.41970825195312, 85.68870544433594], [84.43222045898438, 135.04747009277344, 102.41634368896484, 97.33622741699219, 100.97664642333984, 130.28616333007812, 105.71036529541016, 130.8840789794922, 93.48450469970703, 93.16427612304688, 84.62171936035156, 87.95059204101562, 94.39662170410156, 94.36334228515625, 114.13630676269531, 120.268310546875, 124.87516021728516, 148.7941131591797, 78.88622283935547, 137.33877563476562, 83.56739807128906, 89.78720092773438, 82.2257308959961, 85.06693267822266, 124.62995910644531, 116.883544921875, 131.65065002441406, 122.15975189208984, 133.61215209960938, 85.87818908691406, 96.82881927490234, 132.05674743652344], [113.85221099853516, 112.23758697509766, 117.74440002441406, 110.53825378417969, 121.82215881347656, 107.83206176757812, 105.2437744140625, 111.74639129638672, 112.28865051269531, 121.02633666992188, 111.31202697753906, 118.86388397216797, 122.86598205566406, 109.46916198730469, 112.41127014160156, 113.29761505126953, 115.42929077148438, 117.59728240966797, 117.08077239990234, 110.6782455444336, 113.5376205444336, 106.1939926147461, 117.3288345336914, 111.76366424560547, 113.61602783203125, 108.39508819580078, 116.44898223876953, 108.1559829711914, 109.31487274169922, 116.74385070800781, 113.92942810058594, 105.0370101928711], [102.51348114013672, 90.4886245727539, 104.33576202392578, 101.04484558105469, 109.64836883544922, 99.74760437011719, 103.0565414428711, 106.01528930664062, 104.74519348144531, 108.4610595703125, 109.95213317871094, 112.59711456298828, 102.33588409423828, 108.25221252441406, 106.39950561523438, 105.34578704833984, 95.35443115234375, 119.22623443603516, 101.26525115966797, 113.62540435791016, 100.79559326171875, 105.6024169921875, 112.2042236328125, 93.00293731689453, 110.78209686279297, 110.14545440673828, 102.21922302246094, 120.21796417236328, 113.37562561035156, 113.2578125, 104.08008575439453, 100.88723754882812], [101.29978942871094, 138.76840209960938, 112.5247802734375, 113.82817077636719, 115.73100280761719, 152.0801544189453, 123.56135559082031, 107.99481201171875, 148.91485595703125, 120.55228424072266, 126.43631744384766, 107.61945343017578, 126.67242431640625, 120.010498046875, 95.6947250366211, 102.46105194091797, 95.80793762207031, 117.64436340332031, 143.41287231445312, 144.9387664794922, 131.48663330078125, 100.52802276611328, 118.26246643066406, 95.06576538085938, 105.93766021728516, 147.26930236816406, 103.5151138305664, 106.1731948852539, 104.09425354003906, 127.85450744628906, 146.10128784179688, 110.79397583007812], [105.14802551269531, 100.13232421875, 101.55364227294922, 101.51354217529297, 109.96294403076172, 118.39604187011719, 119.27584838867188, 125.4732666015625, 110.3769760131836, 110.73918151855469, 127.46102142333984, 117.69247436523438, 104.96515655517578, 99.74927520751953, 126.22443389892578, 107.72624206542969, 103.98621368408203, 98.3819580078125, 98.76248931884766, 107.67964935302734, 108.97852325439453, 128.2955780029297, 104.90404510498047, 113.41215515136719, 102.14288330078125, 101.63607788085938, 109.12127685546875, 103.74156951904297, 109.22783660888672, 98.786376953125, 101.5201644897461, 107.9691390991211], [79.41971588134766, 86.06979370117188, 90.18678283691406, 100.85960388183594, 84.90866088867188, 93.05848693847656, 87.22374725341797, 82.31237030029297, 92.39521026611328, 83.30892944335938, 102.13067626953125, 89.88789367675781, 89.21971130371094, 83.81961059570312, 84.60354614257812, 88.68280792236328, 84.51079559326172, 84.55233001708984, 92.64771270751953, 87.88422393798828, 88.30289459228516, 94.66458129882812, 94.59278106689453, 81.55785369873047, 83.30831146240234, 85.32493591308594, 91.53898620605469, 91.31395721435547, 88.40991973876953, 82.87045288085938, 86.26807403564453, 85.77457427978516], [113.97352600097656, 114.30426025390625, 112.56565856933594, 113.28340148925781, 108.91563415527344, 115.1867904663086, 116.68363952636719, 112.51782989501953, 139.86647033691406, 113.89923095703125, 110.09544372558594, 107.05690002441406, 115.96820068359375, 113.14171600341797, 115.32195281982422, 113.35690307617188, 117.45603942871094, 113.64752197265625, 117.5257797241211, 111.06362915039062, 107.92704772949219, 115.36994171142578, 115.65452575683594, 114.04798126220703, 113.47660827636719, 107.72174835205078, 110.88627624511719, 118.54676818847656, 108.5998764038086, 111.2679672241211, 115.96485137939453, 113.18272399902344], [103.73868560791016, 92.96515655517578, 110.99678039550781, 100.0143051147461, 94.91849517822266, 99.54363250732422, 99.97142791748047, 91.46955108642578, 100.29579162597656, 94.49166107177734, 101.20661926269531, 96.0593490600586, 107.2787857055664, 95.96671295166016, 104.43704223632812, 105.94609832763672, 103.45525360107422, 105.4620132446289, 123.7994613647461, 97.9013900756836, 99.4148941040039, 112.97502899169922, 106.80825805664062, 108.83134460449219, 106.95626068115234, 102.48086547851562, 103.7833480834961, 101.3226547241211, 112.61245727539062, 103.27484130859375, 92.9908447265625, 101.21780395507812], [93.91272735595703, 103.34607696533203, 92.616455078125, 112.20317077636719, 98.2390365600586, 107.533935546875, 93.73937225341797, 97.57096862792969, 114.07726287841797, 101.80399322509766, 98.21884155273438, 102.96173095703125, 105.83021545410156, 90.00157165527344, 100.96701049804688, 96.28250885009766, 101.97673797607422, 98.40660858154297, 104.95899963378906, 102.34845733642578, 100.38594818115234, 95.04872131347656, 100.98773193359375, 93.97106170654297, 102.0645980834961, 105.89176177978516, 96.4876708984375, 109.98638916015625, 91.34979248046875, 103.04778289794922, 98.81710052490234, 99.15155792236328], [105.06683349609375, 120.98577880859375, 109.25794982910156, 127.35736083984375, 109.57694244384766, 124.42382049560547, 112.73484802246094, 115.609375, 102.97688293457031, 100.39828491210938, 98.92256164550781, 105.86297607421875, 109.66009521484375, 103.60763549804688, 127.92797088623047, 103.88033294677734, 108.70166778564453, 102.76991271972656, 98.50191497802734, 113.84575653076172, 105.91999053955078, 122.43811798095703, 104.52208709716797, 120.58720397949219, 102.8021011352539, 100.94612121582031, 109.0384750366211, 97.68152618408203, 120.66608428955078, 104.29296112060547, 105.78337097167969, 128.83419799804688], [110.2484359741211, 137.90904235839844, 129.7285919189453, 135.7553253173828, 104.48895263671875, 119.99566650390625, 108.29813385009766, 117.14957427978516, 126.81681823730469, 120.40257263183594, 120.70716094970703, 148.41387939453125, 125.63695526123047, 127.35452270507812, 106.7490005493164, 119.34777069091797, 129.425048828125, 127.21221923828125, 123.2209243774414, 119.81976318359375, 136.9377899169922, 108.51985931396484, 115.39920043945312, 132.74107360839844, 127.19988250732422, 138.81300354003906, 135.36724853515625, 107.34754180908203, 139.93861389160156, 132.42294311523438, 124.64773559570312, 111.01663208007812], [110.8060302734375, 104.38505554199219, 105.98833465576172, 101.53081512451172, 100.4504623413086, 108.5400161743164, 105.16924285888672, 101.64984893798828, 108.39716339111328, 108.59866333007812, 115.27835845947266, 110.4011001586914, 116.18545532226562, 106.75354766845703, 100.253662109375, 110.70138549804688, 119.11068725585938, 103.7540054321289, 99.64876556396484, 93.14490509033203, 102.9342041015625, 105.03794860839844, 118.7754898071289, 98.4336929321289, 94.41049194335938, 114.31743621826172, 97.30155944824219, 107.09941864013672, 114.00950622558594, 100.73957061767578, 100.60551452636719, 96.93070983886719], [88.76470184326172, 79.92235565185547, 114.36286163330078, 81.56632995605469, 107.64952087402344, 74.0640640258789, 92.59305572509766, 85.93724060058594, 86.30686950683594, 89.02735137939453, 115.49420166015625, 80.1204605102539, 93.25680541992188, 135.9800567626953, 87.20404815673828, 84.36137390136719, 76.76721954345703, 104.60391998291016, 77.40943908691406, 84.85749816894531, 81.2679214477539, 82.91729736328125, 88.43827056884766, 79.03333282470703, 82.90780639648438, 74.49272155761719, 101.30120086669922, 92.22329711914062, 82.65388488769531, 95.03543853759766, 106.69454193115234, 81.61502838134766], [104.06555938720703, 78.38516235351562, 95.12789916992188, 85.33268737792969, 77.36457061767578, 112.03958892822266, 81.75385284423828, 103.06320190429688, 122.42815399169922, 102.12757110595703, 88.38524627685547, 81.25343322753906, 109.22848510742188, 90.26068878173828, 88.62069702148438, 101.974609375, 103.95899963378906, 100.19513702392578, 93.27435302734375, 81.71632385253906, 105.4417495727539, 94.91199493408203, 77.35502624511719, 92.54657745361328, 82.04840850830078, 104.26542663574219, 93.84178161621094, 92.40493774414062, 94.6991195678711, 82.12344360351562, 81.25942993164062, 122.68301391601562], [99.05474853515625, 108.93946075439453, 112.78704833984375, 106.7690658569336, 129.740966796875, 101.2314682006836, 109.85147857666016, 100.21085357666016, 114.7358627319336, 105.57025146484375, 100.63680267333984, 108.33748626708984, 102.2754898071289, 106.4307632446289, 106.57926940917969, 104.94511413574219, 112.04713439941406, 110.87420654296875, 110.9098892211914, 117.47151184082031, 112.22522735595703, 103.3592758178711, 107.10423278808594, 106.41886138916016, 109.81595611572266, 102.35086059570312, 106.00372314453125, 80.91424560546875, 106.98363494873047, 102.20398712158203, 103.37369537353516, 97.13470458984375], [104.65001678466797, 104.69632720947266, 104.75321197509766, 95.8551025390625, 96.84244537353516, 89.45689392089844, 108.88057708740234, 102.45319366455078, 104.0008316040039, 108.8114013671875, 107.50330352783203, 95.61626434326172, 85.9284439086914, 92.94683074951172, 101.72895812988281, 85.57549285888672, 94.9312515258789, 102.56494903564453, 109.64728546142578, 111.270263671875, 100.14129638671875, 101.07598114013672, 95.27584838867188, 101.36627960205078, 105.22614288330078, 86.83551788330078, 104.57084655761719, 102.38448333740234, 93.82584381103516, 94.663818359375, 103.37323760986328, 81.97032165527344], [98.12950134277344, 98.8015365600586, 94.27449798583984, 101.02011108398438, 100.61185455322266, 94.7831039428711, 102.4719009399414, 102.26428985595703, 98.38766479492188, 103.58670806884766, 102.5226821899414, 104.47330474853516, 97.53388977050781, 104.79230499267578, 98.4539794921875, 107.54414367675781, 102.59367370605469, 106.16304779052734, 98.3599624633789, 108.2728500366211, 101.98982238769531, 99.59395599365234, 108.21009826660156, 105.15352630615234, 106.99031829833984, 101.28030395507812, 103.31285095214844, 104.42595672607422, 100.20256805419922, 97.78944396972656, 99.92737579345703, 100.61332702636719], [111.42232513427734, 113.50943756103516, 114.05465698242188, 97.4005126953125, 97.08165740966797, 97.8521728515625, 113.30198669433594, 111.05421447753906, 109.26773071289062, 102.4212646484375, 105.74148559570312, 119.79175567626953, 110.0267105102539, 94.17618560791016, 116.28289794921875, 112.31438446044922, 108.6983642578125, 106.46067810058594, 118.51651000976562, 96.54179382324219, 137.8969268798828, 107.83433532714844, 115.40704345703125, 106.35591888427734, 98.27225494384766, 111.4329605102539, 98.76720428466797, 109.47958374023438, 111.58377838134766, 95.29054260253906, 119.42467498779297, 106.92498016357422], [102.6158218383789, 112.05062103271484, 107.5577621459961, 108.06629180908203, 113.38729858398438, 114.03562927246094, 113.6155776977539, 112.92337799072266, 115.64281463623047, 106.42418670654297, 114.19645690917969, 117.94298553466797, 113.64512634277344, 106.52911376953125, 117.0225601196289, 113.37409973144531, 109.12953186035156, 107.98017120361328, 107.22203063964844, 114.80046081542969, 115.8387451171875, 108.42460632324219, 114.43482971191406, 116.23590850830078, 112.77395629882812, 109.44058227539062, 104.4046401977539, 108.22456359863281, 115.82196807861328, 115.58451080322266, 111.05091857910156, 108.39759826660156], [102.28501892089844, 127.48583221435547, 103.02942657470703, 101.1407241821289, 117.28241729736328, 120.95284271240234, 121.14099884033203, 101.16140747070312, 102.61466979980469, 118.19662475585938, 120.32591247558594, 116.80548095703125, 110.5201187133789, 108.76683044433594, 122.05111694335938, 105.83895111083984, 100.22264099121094, 113.20465850830078, 109.8286361694336, 102.57836151123047, 126.35855865478516, 118.3139877319336, 92.32405090332031, 105.78779602050781, 105.09131622314453, 105.67113494873047, 110.6309585571289, 111.4948959350586, 108.88925170898438, 129.9663848876953, 107.29830169677734, 103.87529754638672], [122.30729675292969, 114.89215850830078, 123.13304138183594, 130.38705444335938, 109.37281799316406, 114.58000946044922, 116.82331085205078, 111.04049682617188, 106.29166412353516, 110.52313232421875, 117.85008239746094, 117.16899108886719, 128.84434509277344, 118.6987075805664, 109.33336639404297, 122.62230682373047, 127.53919982910156, 121.50012969970703, 111.82234191894531, 124.90684509277344, 105.6558837890625, 104.65818786621094, 116.23712921142578, 109.30623626708984, 108.2670669555664, 105.72566986083984, 119.79837799072266, 121.86323547363281, 108.48480987548828, 127.7556381225586, 111.03559875488281, 130.66151428222656], [101.06727600097656, 103.36234283447266, 104.78840637207031, 83.40438079833984, 105.46292114257812, 99.8125228881836, 104.50809478759766, 82.53855895996094, 106.64405059814453, 85.91622161865234, 102.91506958007812, 100.82479095458984, 101.81986236572266, 98.25537109375, 95.46897888183594, 92.33479309082031, 80.48787689208984, 93.9166259765625, 99.17304992675781, 101.53079986572266, 86.14449310302734, 82.59465026855469, 99.26993560791016, 98.7173080444336, 88.81946563720703, 83.32108306884766, 106.30970764160156, 98.40081787109375, 101.844482421875, 102.1092300415039, 86.97590637207031, 104.25241088867188], [103.5050048828125, 119.86878967285156, 112.61878967285156, 108.54627990722656, 107.96953582763672, 112.81023406982422, 108.01896667480469, 105.0701904296875, 109.79652404785156, 116.95650482177734, 120.80953979492188, 106.04240417480469, 115.67340087890625, 118.44818115234375, 98.94111633300781, 109.88634490966797, 113.23629760742188, 95.68457794189453, 106.72542572021484, 128.93043518066406, 100.79606628417969, 112.4180679321289, 109.24491882324219, 124.38927459716797, 104.28130340576172, 101.72872924804688, 97.72089385986328, 116.28691101074219, 96.87928771972656, 113.89956665039062, 110.5915298461914, 124.26988220214844], [109.35707092285156, 121.89942169189453, 112.34181213378906, 113.93888092041016, 102.2482681274414, 99.87191772460938, 109.06365966796875, 110.38903045654297, 124.52689361572266, 114.57784271240234, 100.24574279785156, 104.83828735351562, 117.99019622802734, 105.40751647949219, 127.68685913085938, 110.62396240234375, 102.68736267089844, 104.68879699707031, 110.92225646972656, 102.08988952636719, 103.2114028930664, 105.79205322265625, 98.86048889160156, 106.72991180419922, 106.72344970703125, 107.40463256835938, 109.13927459716797, 106.7140884399414, 114.7567367553711, 106.48600006103516, 111.23114776611328, 104.29348754882812], [108.62565612792969, 106.317138671875, 107.13888549804688, 99.5278091430664, 96.89569091796875, 103.13851928710938, 110.0185775756836, 108.54624938964844, 108.45811462402344, 109.19050598144531, 82.64955139160156, 104.09005737304688, 91.14740753173828, 105.89740753173828, 92.34564208984375, 109.86072540283203, 100.02171325683594, 99.29138946533203, 86.39661407470703, 87.68693542480469, 89.71420288085938, 104.86770629882812, 106.16352844238281, 100.02424621582031, 105.43262481689453, 106.95059204101562, 106.55142211914062, 114.28559875488281, 106.04434204101562, 110.71690368652344, 101.13269805908203, 97.77704620361328], [120.9427490234375, 125.03186798095703, 124.16033172607422, 124.65430450439453, 124.04512786865234, 118.68879699707031, 121.63982391357422, 120.21916961669922, 118.05946350097656, 113.17247009277344, 120.30818176269531, 118.55480194091797, 118.82018280029297, 118.7274398803711, 119.3564224243164, 119.83843994140625, 118.81622314453125, 116.28474426269531, 117.98558044433594, 119.43318176269531, 117.65389251708984, 118.13107299804688, 112.42839813232422, 122.75738525390625, 126.88442993164062, 124.22296905517578, 118.85147094726562, 120.99716186523438, 122.67682647705078, 124.58623504638672, 117.30189514160156, 118.96920776367188], [113.71304321289062, 112.44876861572266, 107.57398986816406, 109.78544616699219, 104.73213958740234, 131.8147735595703, 109.12730407714844, 112.85302734375, 125.82168579101562, 134.99497985839844, 109.07715606689453, 105.69768524169922, 113.09314727783203, 128.5108642578125, 124.7037582397461, 135.6082305908203, 129.89854431152344, 104.99893188476562, 113.455078125, 117.0016098022461, 110.44140625, 123.77294921875, 131.85113525390625, 109.01446533203125, 128.2841796875, 101.77961730957031, 110.24119567871094, 129.35675048828125, 133.306884765625, 115.23179626464844, 106.69844818115234, 128.45021057128906], [105.23265838623047, 86.80338287353516, 111.52171325683594, 136.3839569091797, 103.15897369384766, 109.24651336669922, 99.41683959960938, 88.85325622558594, 103.57685089111328, 104.41114807128906, 121.65573120117188, 96.41307067871094, 100.01332092285156, 88.44010162353516, 111.65640258789062, 101.01002502441406, 134.5205841064453, 108.01228332519531, 97.9786148071289, 91.90673828125, 115.1984634399414, 94.4188461303711, 102.81881713867188, 88.70502471923828, 92.11199188232422, 121.0936050415039, 111.42798614501953, 102.2027359008789, 95.26964569091797, 120.6622543334961, 129.72373962402344, 103.65708923339844], [70.96198272705078, 127.61051940917969, 71.7606201171875, 67.3322525024414, 110.12224578857422, 129.05325317382812, 72.63563537597656, 95.31430053710938, 69.3368148803711, 101.46185302734375, 72.0926284790039, 68.06478118896484, 69.47610473632812, 69.31043243408203, 78.10155487060547, 79.24224853515625, 94.16316986083984, 104.23275756835938, 70.66797637939453, 71.08012390136719, 69.47338104248047, 73.91964721679688, 123.91010284423828, 100.8331527709961, 80.992431640625, 70.4365234375, 104.24119567871094, 78.84745025634766, 85.39202880859375, 102.14549255371094, 72.29257202148438, 97.38850402832031], [76.75059509277344, 83.78199768066406, 104.0286636352539, 111.68467712402344, 72.29168701171875, 102.60517120361328, 120.43295288085938, 70.46803283691406, 131.656494140625, 117.14410400390625, 118.67562866210938, 131.7487335205078, 131.10427856445312, 71.93153381347656, 73.94298553466797, 81.51384735107422, 129.14114379882812, 122.1020278930664, 71.67045593261719, 126.73416137695312, 85.34764099121094, 110.06254577636719, 81.24737548828125, 76.67290496826172, 115.21885681152344, 100.13896942138672, 74.86331176757812, 123.48528289794922, 74.7559814453125, 100.92449188232422, 96.15876770019531, 71.54264831542969], [110.63034057617188, 106.90350341796875, 112.86373901367188, 112.86262512207031, 114.63432312011719, 106.68399810791016, 109.50975036621094, 111.79764556884766, 105.87875366210938, 118.67558288574219, 109.58223724365234, 107.85578155517578, 111.5799331665039, 115.0211181640625, 112.59874725341797, 105.03008270263672, 113.40939331054688, 108.18643951416016, 103.82322692871094, 127.2433853149414, 99.23426055908203, 109.34212493896484, 100.58635711669922, 112.4405517578125, 117.1934585571289, 108.05474090576172, 109.93400573730469, 102.31438446044922, 104.52877044677734, 119.1167984008789, 107.82859802246094, 113.8833236694336], [97.73047637939453, 81.47514343261719, 84.24724578857422, 102.36309814453125, 82.41002655029297, 97.51730346679688, 100.85751342773438, 82.01538848876953, 102.94377899169922, 92.40106964111328, 91.94242095947266, 97.3838882446289, 83.52649688720703, 80.44229888916016, 103.17381286621094, 82.18028259277344, 99.40705108642578, 89.07989501953125, 83.35140991210938, 87.54708862304688, 92.77021789550781, 84.40917205810547, 97.05157470703125, 103.6578598022461, 94.77591705322266, 84.59317779541016, 101.14481353759766, 104.12001037597656, 98.81129455566406, 99.97813415527344, 87.21508026123047, 103.74816131591797], [120.10420989990234, 117.37373352050781, 92.7936782836914, 93.9033203125, 115.74427795410156, 93.11610412597656, 121.62602996826172, 132.5187225341797, 94.65530395507812, 98.30059051513672, 141.38873291015625, 125.4917984008789, 96.19261169433594, 105.84436798095703, 139.20828247070312, 99.14119720458984, 87.28263854980469, 106.1029281616211, 103.81929016113281, 98.74434661865234, 96.30333709716797, 100.35755920410156, 103.2829360961914, 128.9731903076172, 92.67031860351562, 88.05359649658203, 99.45722198486328, 77.82630157470703, 84.8699951171875, 103.66726684570312, 100.94239044189453, 140.92620849609375], [102.51802062988281, 103.19174194335938, 130.8184814453125, 90.90628814697266, 103.80887603759766, 111.37545776367188, 110.02188110351562, 131.94561767578125, 98.65858459472656, 106.25989532470703, 111.0164566040039, 121.35353088378906, 105.06246185302734, 92.13108825683594, 90.77274322509766, 106.5278091430664, 111.53435516357422, 102.79035949707031, 108.17330932617188, 91.39039611816406, 104.49124908447266, 128.78761291503906, 101.286376953125, 97.52936553955078, 125.60678100585938, 98.2201156616211, 104.25997161865234, 103.46320343017578, 108.50224304199219, 107.70101928710938, 126.78662872314453, 99.18518829345703], [83.7841567993164, 91.40357208251953, 109.4387435913086, 89.7021255493164, 84.72710418701172, 106.37633514404297, 90.26163482666016, 84.09022521972656, 108.09380340576172, 87.45172882080078, 98.28628540039062, 88.56522369384766, 93.96061706542969, 97.12387084960938, 89.04312896728516, 108.14314270019531, 88.4008560180664, 95.84947967529297, 95.68182373046875, 97.60279846191406, 74.30852508544922, 93.4476089477539, 98.5472640991211, 104.02803802490234, 111.73847198486328, 85.1283950805664, 103.14313507080078, 103.57728576660156, 88.79881286621094, 90.0550308227539, 96.52872467041016, 94.94091033935547], [104.99877166748047, 91.76065826416016, 99.08197021484375, 93.94580078125, 114.67206573486328, 98.12908172607422, 91.41124725341797, 109.94247436523438, 92.64799499511719, 95.82587432861328, 99.23401641845703, 105.65432739257812, 94.84661102294922, 101.12181854248047, 104.87791442871094, 111.62055206298828, 116.6496353149414, 94.03450012207031, 93.56611633300781, 106.51177978515625, 84.76895904541016, 92.76580047607422, 91.58257293701172, 100.7498550415039, 94.39196014404297, 105.1380844116211, 103.65325164794922, 93.19418334960938, 108.07837677001953, 113.51728057861328, 91.0745849609375, 97.89181518554688], [96.91635131835938, 89.35262298583984, 97.30672454833984, 94.72332763671875, 95.95699310302734, 103.89390563964844, 91.98509216308594, 101.25432586669922, 100.27410125732422, 102.86573028564453, 116.92713165283203, 101.24232482910156, 90.25772857666016, 92.44719696044922, 90.01331329345703, 91.78451538085938, 103.44538116455078, 103.3868179321289, 105.891845703125, 93.3195571899414, 93.16096496582031, 93.65213012695312, 92.24292755126953, 92.16936492919922, 116.39823913574219, 101.59732055664062, 99.23924255371094, 101.29072570800781, 90.25545501708984, 86.04452514648438, 106.88577270507812, 106.56558990478516], [100.2723159790039, 119.24958801269531, 122.65776824951172, 120.07510375976562, 113.49783325195312, 114.42408752441406, 125.89801788330078, 126.16485595703125, 130.07321166992188, 120.545654296875, 119.7205810546875, 98.53948211669922, 118.26683044433594, 118.03460693359375, 124.35029602050781, 124.0566177368164, 108.33975982666016, 127.59174346923828, 120.1124496459961, 112.78011322021484, 119.51992797851562, 118.21170806884766, 125.92144012451172, 124.05674743652344, 106.12995147705078, 121.80955505371094, 117.42642211914062, 113.78335571289062, 102.19551849365234, 116.19376373291016, 124.33451843261719, 115.99089813232422], [107.66804504394531, 101.28424835205078, 102.9415283203125, 118.14227294921875, 115.46977233886719, 103.29521942138672, 117.35990905761719, 101.64981842041016, 102.70835876464844, 109.40205383300781, 110.90836334228516, 102.7529067993164, 104.56964111328125, 104.22671508789062, 107.65998077392578, 115.20341491699219, 104.52447509765625, 108.1741714477539, 108.9063720703125, 98.09416961669922, 100.5235595703125, 104.83332824707031, 113.53227996826172, 122.91691589355469, 111.26528930664062, 104.30271911621094, 98.82786560058594, 103.65180206298828, 106.65351104736328, 107.58799743652344, 109.22865295410156, 107.33560180664062], [123.82676696777344, 133.3548583984375, 126.17539978027344, 121.06874084472656, 125.11337280273438, 122.96261596679688, 121.13619232177734, 128.0189666748047, 130.4025115966797, 122.73133087158203, 117.5543212890625, 123.69800567626953, 123.66234588623047, 123.09419250488281, 123.0611343383789, 120.45824432373047, 125.378662109375, 122.13843536376953, 119.25077819824219, 126.95281219482422, 120.70816040039062, 130.79225158691406, 122.4404525756836, 122.58954620361328, 127.4733657836914, 120.58606719970703, 126.12089538574219, 120.69796752929688, 123.18499755859375, 126.14244842529297, 129.5369110107422, 129.26881408691406], [118.44283294677734, 129.1641387939453, 122.117919921875, 127.4841079711914, 123.56685638427734, 127.1465072631836, 128.41885375976562, 119.29581451416016, 122.0245132446289, 123.50442504882812, 128.88198852539062, 129.73416137695312, 121.12540435791016, 128.7165985107422, 124.64552307128906, 121.08992004394531, 120.49534606933594, 127.89234161376953, 127.18655395507812, 123.56011962890625, 122.32113647460938, 123.61753845214844, 121.17459106445312, 122.87248229980469, 129.3372344970703, 127.2916030883789, 123.89876556396484, 121.72233581542969, 124.51869201660156, 121.67693328857422, 127.40862274169922, 125.6361083984375], [97.37176513671875, 96.77705383300781, 121.47582244873047, 100.22765350341797, 107.82740020751953, 114.29283142089844, 107.25619506835938, 104.4599838256836, 107.07450866699219, 104.10914611816406, 102.57682800292969, 98.71980285644531, 108.92559814453125, 104.35556030273438, 102.60359191894531, 123.54011535644531, 101.9770278930664, 107.67115783691406, 103.30943298339844, 104.250732421875, 126.3986587524414, 105.30960845947266, 105.30248260498047, 104.15711975097656, 107.68252563476562, 102.62813568115234, 106.222412109375, 105.12118530273438, 103.13035583496094, 100.22099304199219, 100.68746185302734, 106.97528839111328], [120.59688568115234, 110.60503387451172, 105.80198669433594, 136.38575744628906, 111.95060729980469, 107.8787841796875, 114.92900085449219, 112.01380157470703, 123.38034057617188, 99.1678237915039, 107.82891082763672, 134.9764862060547, 99.41800689697266, 102.2522201538086, 113.58648681640625, 98.68255615234375, 108.28299713134766, 136.4071502685547, 114.22761535644531, 108.5757827758789, 124.19937896728516, 117.50220489501953, 130.70933532714844, 126.4288330078125, 123.91364288330078, 120.7346420288086, 97.44491577148438, 117.39825439453125, 96.52625274658203, 128.56097412109375, 129.56089782714844, 105.65985870361328], [99.7136001586914, 88.31715393066406, 90.71047973632812, 90.66972351074219, 91.4204330444336, 125.1085433959961, 89.27167510986328, 142.2559051513672, 117.61016845703125, 86.73180389404297, 135.08912658691406, 124.36725616455078, 92.77478790283203, 84.11139678955078, 102.97539520263672, 128.31480407714844, 93.58759307861328, 123.51439666748047, 83.87335968017578, 120.95207977294922, 95.11408233642578, 122.58790588378906, 88.09901428222656, 116.13582611083984, 112.10674285888672, 136.88778686523438, 111.78388977050781, 112.95236206054688, 121.14522552490234, 84.22180938720703, 86.14787292480469, 83.14622497558594], [82.50633239746094, 140.0950469970703, 143.46902465820312, 80.60027313232422, 133.427734375, 99.4664306640625, 80.48485565185547, 78.7012710571289, 132.57334899902344, 79.1190414428711, 78.79752349853516, 78.38851165771484, 104.46245574951172, 129.94686889648438, 81.2206039428711, 93.03630828857422, 84.56983947753906, 93.00967407226562, 84.25106048583984, 107.3470687866211, 99.3629150390625, 87.25050354003906, 104.0035629272461, 78.43973541259766, 123.83683776855469, 99.40637969970703, 96.72398376464844, 114.71939086914062, 108.5564193725586, 91.47518920898438, 82.61123657226562, 79.17505645751953], [110.302490234375, 78.33448791503906, 75.93260955810547, 109.05465698242188, 94.30940246582031, 83.60125732421875, 132.57196044921875, 126.79288482666016, 140.5175323486328, 79.94422149658203, 96.43731689453125, 104.30879974365234, 100.6392593383789, 102.39905548095703, 96.418212890625, 86.41929626464844, 91.36210632324219, 78.41940307617188, 110.96214294433594, 79.02678680419922, 85.27713012695312, 118.95376586914062, 115.88156127929688, 114.39633178710938, 107.44042205810547, 94.4686050415039, 121.83659362792969, 97.28498840332031, 81.33482360839844, 101.3062744140625, 101.992431640625, 78.22868347167969], [99.58306884765625, 114.80973815917969, 105.57586669921875, 100.54521942138672, 108.7827377319336, 126.7059097290039, 107.97958374023438, 128.69635009765625, 95.97603607177734, 124.73274230957031, 103.2499771118164, 110.48323822021484, 112.0670166015625, 126.14043426513672, 125.90118408203125, 121.65055084228516, 126.23160552978516, 122.02611541748047, 129.2221221923828, 112.06912231445312, 114.43388366699219, 107.00704956054688, 125.4469223022461, 115.51237487792969, 115.16073608398438, 132.75204467773438, 117.32424926757812, 106.08122253417969, 104.06683349609375, 130.47256469726562, 109.0667495727539, 104.71600341796875], [106.10913848876953, 114.16267395019531, 98.26982879638672, 110.5743408203125, 96.19438171386719, 105.01715850830078, 94.94239044189453, 96.184814453125, 97.09315490722656, 107.0724105834961, 115.3990478515625, 112.62239837646484, 100.14513397216797, 113.76954650878906, 101.2912826538086, 111.39514923095703, 95.90148162841797, 113.8045883178711, 111.79786682128906, 104.60340881347656, 100.3263931274414, 113.14576721191406, 93.22470092773438, 100.89521026611328, 100.34317016601562, 112.87850952148438, 119.12535858154297, 109.26860809326172, 109.76492309570312, 97.9915542602539, 101.85131072998047, 106.80722045898438], [89.85124206542969, 98.912353515625, 123.74273681640625, 91.98117065429688, 109.03668975830078, 97.8249740600586, 99.03018951416016, 97.46661376953125, 120.83750915527344, 94.59759521484375, 122.88683319091797, 90.51595306396484, 104.24583435058594, 97.56993865966797, 98.24231719970703, 102.35564422607422, 103.235107421875, 107.08889770507812, 117.87316131591797, 99.74468994140625, 101.29203033447266, 107.2230453491211, 104.18380737304688, 93.62649536132812, 85.85218811035156, 100.53099060058594, 102.46973419189453, 94.41352081298828, 118.28278350830078, 107.15477752685547, 100.12480926513672, 103.73394775390625], [103.45670318603516, 107.85111236572266, 99.44745635986328, 116.695556640625, 111.64238739013672, 114.61591339111328, 115.25193786621094, 127.53207397460938, 110.10140228271484, 100.1623306274414, 106.0775146484375, 100.48915100097656, 97.87783813476562, 125.27557373046875, 109.75589752197266, 86.00285339355469, 97.53974914550781, 96.16240692138672, 115.42063903808594, 103.92818450927734, 95.8697509765625, 107.92047119140625, 93.59452819824219, 100.26840209960938, 94.88290405273438, 89.4847412109375, 113.14073944091797, 111.2688217163086, 99.3573226928711, 103.39197540283203, 121.38717651367188, 111.36703491210938], [104.52994537353516, 97.53215789794922, 104.29240417480469, 99.79673767089844, 104.38284301757812, 103.43870544433594, 108.61309814453125, 94.16154479980469, 96.60108184814453, 93.73433685302734, 104.53150177001953, 116.77238464355469, 88.64663696289062, 93.77365112304688, 97.5045394897461, 102.78650665283203, 105.18109130859375, 100.8969955444336, 109.82011413574219, 106.69095611572266, 91.62808990478516, 107.7111587524414, 95.12760162353516, 100.06400299072266, 98.00112915039062, 104.39287567138672, 103.31513977050781, 119.78233337402344, 101.43577575683594, 99.3450927734375, 107.92416381835938, 98.8591079711914], [117.03433227539062, 107.474609375, 107.52919006347656, 107.88250732421875, 108.43721008300781, 99.00225830078125, 103.22948455810547, 103.08358764648438, 104.0369873046875, 112.3656234741211, 104.1871337890625, 112.13190460205078, 113.50776672363281, 98.80252838134766, 108.3116683959961, 106.7371597290039, 105.37789916992188, 101.93512725830078, 113.32530212402344, 105.2102279663086, 117.25093841552734, 103.59494018554688, 107.65257263183594, 107.208740234375, 116.2298812866211, 108.95220947265625, 105.23250579833984, 88.3316879272461, 96.98802947998047, 102.3853530883789, 96.36065673828125, 110.48304748535156], [114.47416687011719, 105.52413177490234, 135.63795471191406, 113.34873962402344, 122.02631378173828, 114.10258483886719, 136.72621154785156, 138.01548767089844, 138.60406494140625, 106.89321899414062, 102.26873779296875, 110.25215148925781, 119.32599639892578, 113.88369750976562, 134.096435546875, 128.72494506835938, 106.86653137207031, 133.9092254638672, 112.44454956054688, 115.92572784423828, 112.4921646118164, 101.6335220336914, 114.82464599609375, 101.20637512207031, 143.81210327148438, 129.48068237304688, 114.89529418945312, 104.95130157470703, 132.92681884765625, 132.1250762939453, 130.95242309570312, 110.91849517822266], [95.825927734375, 116.65515899658203, 141.694091796875, 88.62545776367188, 95.24481964111328, 125.69208526611328, 103.74339294433594, 95.28373718261719, 107.40608215332031, 113.88401794433594, 132.02236938476562, 107.22747039794922, 89.71794128417969, 93.63921356201172, 99.23829650878906, 91.19225311279297, 101.58338928222656, 101.47793579101562, 89.24826049804688, 96.42967987060547, 139.05242919921875, 108.51248931884766, 96.85509490966797, 99.9139404296875, 91.89649963378906, 119.90460968017578, 95.27229309082031, 128.1567840576172, 94.44438934326172, 100.39678955078125, 99.07953643798828, 137.56895446777344], [93.21644592285156, 105.77557373046875, 89.38314819335938, 94.95555114746094, 90.03750610351562, 98.70491790771484, 87.0895767211914, 83.91986846923828, 91.19047546386719, 110.19157409667969, 86.81250762939453, 99.50640869140625, 90.65445709228516, 93.17790985107422, 85.96143341064453, 87.6443862915039, 91.14697265625, 86.47932434082031, 85.56675720214844, 106.17127990722656, 85.17220306396484, 92.51849365234375, 88.00159454345703, 99.5381088256836, 82.11244201660156, 90.5882797241211, 90.40910339355469, 124.15718841552734, 97.0609130859375, 96.41642761230469, 92.00907897949219, 114.72794342041016], [136.84323120117188, 143.93113708496094, 125.75399780273438, 138.9833526611328, 118.72742462158203, 125.02449035644531, 114.4145736694336, 113.11884307861328, 126.07051849365234, 123.66410827636719, 135.11953735351562, 121.86639404296875, 114.50157165527344, 117.48030090332031, 112.61968231201172, 119.65927124023438, 110.40508270263672, 132.89207458496094, 143.47235107421875, 113.27061462402344, 135.39260864257812, 135.35731506347656, 114.02539825439453, 118.23981475830078, 124.91557312011719, 117.97425842285156, 122.01751708984375, 111.9081802368164, 123.86902618408203, 135.95486450195312, 135.64599609375, 130.0543670654297], [146.76324462890625, 127.17508697509766, 124.48938751220703, 124.707275390625, 114.7989730834961, 125.84573364257812, 120.7795181274414, 116.99503326416016, 147.4168701171875, 121.07582092285156, 123.9388656616211, 146.7857666015625, 136.598388671875, 121.33673858642578, 119.69001007080078, 122.53105926513672, 122.86029052734375, 116.09205627441406, 117.73612976074219, 136.26559448242188, 115.56575775146484, 114.26319122314453, 137.74244689941406, 144.0908203125, 117.36636352539062, 143.05372619628906, 128.32333374023438, 114.94378662109375, 143.61154174804688, 139.23687744140625, 126.4144515991211, 118.543701171875], [121.17853546142578, 122.73169708251953, 119.80460357666016, 110.05583953857422, 109.79439544677734, 135.41189575195312, 111.907470703125, 122.40372467041016, 129.39694213867188, 116.66926574707031, 120.06021881103516, 132.97019958496094, 117.64531707763672, 136.4010467529297, 138.98358154296875, 119.96007537841797, 127.38789367675781, 115.73746490478516, 136.6216278076172, 109.91123962402344, 124.37052917480469, 132.54515075683594, 116.9623794555664, 103.18782806396484, 132.29391479492188, 111.80464172363281, 115.78079986572266, 149.0073699951172, 120.86334228515625, 113.18777465820312, 131.23245239257812, 135.16781616210938], [113.17118835449219, 106.81359100341797, 109.50313568115234, 109.15019989013672, 105.81706237792969, 123.5902099609375, 105.15729522705078, 110.23664093017578, 107.53568267822266, 117.51551055908203, 111.62401580810547, 109.1163558959961, 114.50552368164062, 108.79930877685547, 119.19635772705078, 110.3712387084961, 102.9542236328125, 110.40251159667969, 112.67171478271484, 126.73262786865234, 103.23625183105469, 115.13700103759766, 105.5730972290039, 131.7069854736328, 116.11859893798828, 107.83753967285156, 110.9144515991211, 116.98644256591797, 106.14901733398438, 111.45648956298828, 119.55104064941406, 107.95476531982422], [86.24142456054688, 96.81707000732422, 92.92920684814453, 85.15415954589844, 109.62332153320312, 81.7813949584961, 103.372802734375, 114.14385223388672, 108.15443420410156, 81.44330596923828, 91.33739471435547, 99.24346923828125, 102.24295806884766, 85.901123046875, 102.43219757080078, 129.79971313476562, 112.08613586425781, 104.62320709228516, 100.31599426269531, 113.1866683959961, 105.90562438964844, 128.71823120117188, 85.83039093017578, 99.45244598388672, 105.0477066040039, 103.20893859863281, 93.19291687011719, 122.94559478759766, 95.497314453125, 82.92295837402344, 104.3475570678711, 98.47994232177734], [124.02920532226562, 143.01565551757812, 107.5266342163086, 117.73035430908203, 113.9102783203125, 108.61896514892578, 108.18927764892578, 133.31260681152344, 106.49076843261719, 104.30168151855469, 104.34061431884766, 102.33094024658203, 129.1591339111328, 117.6778793334961, 115.17845916748047, 110.66899108886719, 107.4928970336914, 109.26811981201172, 108.60426330566406, 121.89234924316406, 110.20626068115234, 130.01678466796875, 143.9689178466797, 118.54080200195312, 115.85269927978516, 106.1048355102539, 120.56758117675781, 111.34605407714844, 108.5279312133789, 124.74434661865234, 103.47354888916016, 99.86993408203125], [131.23512268066406, 122.46046447753906, 94.43151092529297, 90.9417495727539, 115.34686279296875, 95.77430725097656, 103.96204376220703, 151.68177795410156, 91.8735122680664, 87.88361358642578, 104.06804656982422, 95.17696380615234, 102.41220092773438, 91.88247680664062, 117.91429138183594, 124.26456451416016, 135.68458557128906, 106.89089965820312, 91.87271118164062, 126.29764556884766, 105.803466796875, 124.13485717773438, 132.04150390625, 89.50318145751953, 95.28855895996094, 98.5022964477539, 143.40631103515625, 140.2942657470703, 89.87275695800781, 90.57979583740234, 110.24858093261719, 93.96745300292969], [109.19996643066406, 145.43121337890625, 120.87920379638672, 108.2481918334961, 129.0697784423828, 104.55244445800781, 91.71951293945312, 106.39258575439453, 104.67292022705078, 99.98089599609375, 123.44471740722656, 97.42438507080078, 98.96823120117188, 100.82792663574219, 98.78137969970703, 102.2497787475586, 137.62643432617188, 110.23004913330078, 107.60067749023438, 100.78070831298828, 101.01618194580078, 103.89736938476562, 102.79064178466797, 113.0826187133789, 99.80351257324219, 108.28641510009766, 95.94196319580078, 95.06156921386719, 146.40162658691406, 105.7929916381836, 109.44093322753906, 94.50428771972656], [116.32893371582031, 115.9387435913086, 123.21885681152344, 113.29161834716797, 112.8498306274414, 104.68218994140625, 122.35469055175781, 114.10626983642578, 114.0843734741211, 110.85491180419922, 122.12299346923828, 134.71368408203125, 113.2605972290039, 113.40252685546875, 117.74674224853516, 112.72178649902344, 112.8397216796875, 121.91514587402344, 116.29705810546875, 115.55268859863281, 111.99445343017578, 117.5723876953125, 116.69110107421875, 109.84852600097656, 114.37120819091797, 110.36725616455078, 124.22632598876953, 109.3602523803711, 122.36856079101562, 115.25121307373047, 107.5320816040039, 111.66249084472656], [138.58248901367188, 131.55453491210938, 136.7089385986328, 115.93326568603516, 129.19540405273438, 139.09991455078125, 126.89522552490234, 128.4498748779297, 136.6615447998047, 135.77223205566406, 133.45921325683594, 134.27743530273438, 141.31680297851562, 132.28622436523438, 126.86414337158203, 139.48385620117188, 124.841552734375, 143.7522735595703, 142.37374877929688, 121.35037994384766, 138.90234375, 141.42715454101562, 117.79742431640625, 137.1919708251953, 133.3061065673828, 139.06422424316406, 141.620849609375, 120.3179931640625, 134.509521484375, 137.006591796875, 139.73309326171875, 140.13035583496094], [154.0937042236328, 124.47379302978516, 134.5658416748047, 114.60689544677734, 125.87250518798828, 116.80216979980469, 134.44981384277344, 140.2793731689453, 103.68041229248047, 152.47581481933594, 153.1792449951172, 89.1672134399414, 115.24679565429688, 112.55328369140625, 121.5415267944336, 131.01458740234375, 128.2540283203125, 134.0857696533203, 110.33984375, 117.00079345703125, 114.5770492553711, 151.27366638183594, 153.10658264160156, 134.67762756347656, 133.8365936279297, 117.52149963378906, 140.93336486816406, 108.61005401611328, 132.50540161132812, 117.16407012939453, 97.62901306152344, 106.55317687988281], [110.17666625976562, 101.38954162597656, 103.62049865722656, 106.71072387695312, 108.92757415771484, 103.23104858398438, 115.08434295654297, 122.2245101928711, 113.8332748413086, 121.47818756103516, 107.75357818603516, 108.4686279296875, 114.84622955322266, 104.5268325805664, 142.59376525878906, 117.7935562133789, 117.24822235107422, 110.35267639160156, 99.37069702148438, 110.77168273925781, 102.74407958984375, 109.49575805664062, 102.81905364990234, 115.17735290527344, 117.59718322753906, 105.30046844482422, 116.18408203125, 111.70426177978516, 118.59492492675781, 141.60340881347656, 104.20059967041016, 146.0352020263672], [135.89730834960938, 132.70704650878906, 135.18736267089844, 127.14325714111328, 130.84068298339844, 132.3229217529297, 130.03857421875, 128.11651611328125, 131.2765655517578, 128.5640411376953, 136.28433227539062, 135.5111541748047, 133.631103515625, 136.39425659179688, 127.15425872802734, 130.07232666015625, 132.55116271972656, 136.58990478515625, 127.89923858642578, 126.04190063476562, 131.87783813476562, 125.12701416015625, 134.7606201171875, 129.53562927246094, 130.68936157226562, 134.36061096191406, 130.64950561523438, 135.37350463867188, 131.4177703857422, 132.32525634765625, 136.53756713867188, 132.12472534179688], [101.65531158447266, 147.86767578125, 119.96345520019531, 103.44445037841797, 113.52320861816406, 125.54881286621094, 117.98863220214844, 105.8253173828125, 107.98278045654297, 104.59972381591797, 108.99560546875, 121.41986846923828, 130.8440704345703, 124.57223510742188, 96.03550720214844, 109.40208435058594, 145.5393829345703, 129.86627197265625, 134.35301208496094, 118.36067199707031, 105.26548767089844, 118.62761688232422, 124.19769287109375, 123.09246826171875, 99.82984924316406, 99.13337707519531, 102.10276794433594, 96.06096649169922, 131.0122833251953, 92.92755126953125, 94.4165267944336, 110.78535461425781], [109.47728729248047, 105.18110656738281, 104.36770629882812, 107.89550018310547, 107.32261657714844, 106.22344207763672, 109.71387481689453, 109.68898010253906, 99.38926696777344, 100.98368072509766, 106.58319091796875, 105.58123779296875, 109.95962524414062, 120.34553527832031, 102.1351089477539, 105.52883911132812, 111.0746078491211, 110.19058227539062, 105.79562377929688, 110.36592864990234, 104.45342254638672, 100.4296646118164, 103.9947509765625, 106.68759155273438, 109.47467041015625, 105.53607940673828, 109.6374282836914, 101.96176147460938, 101.8467788696289, 108.17032623291016, 102.30328369140625, 103.85990905761719], [109.81527709960938, 138.4923553466797, 126.10782623291016, 137.33287048339844, 111.21524047851562, 127.76720428466797, 134.99908447265625, 115.18323516845703, 114.60653686523438, 135.90994262695312, 116.92407989501953, 108.1234130859375, 139.73243713378906, 130.260986328125, 135.80491638183594, 128.1154022216797, 138.27024841308594, 126.04293823242188, 128.78182983398438, 135.48635864257812, 139.86529541015625, 122.70214080810547, 137.250732421875, 121.84075164794922, 141.93267822265625, 129.67898559570312, 137.1505126953125, 132.15512084960938, 134.60519409179688, 120.6536865234375, 135.76461791992188, 107.7923812866211], [130.01466369628906, 128.27125549316406, 130.50189208984375, 126.57487487792969, 117.33600616455078, 118.8312759399414, 120.63477325439453, 119.8279037475586, 140.04544067382812, 116.97980499267578, 117.36656951904297, 139.6534423828125, 120.95191192626953, 117.31050109863281, 111.38243865966797, 118.44194793701172, 116.23661804199219, 118.52629089355469, 148.29136657714844, 135.03668212890625, 127.3277359008789, 140.752685546875, 105.88516998291016, 121.74718475341797, 126.81668853759766, 97.91838073730469, 122.22300720214844, 123.8320541381836, 144.769287109375, 142.80270385742188, 117.9494857788086, 115.48993682861328], [104.42451477050781, 97.18864440917969, 98.7286376953125, 89.82843780517578, 97.9117431640625, 124.87769317626953, 100.74650573730469, 102.82521057128906, 152.23280334472656, 145.27383422851562, 139.46249389648438, 107.93246459960938, 134.0131072998047, 104.56105041503906, 99.59943389892578, 115.66886901855469, 104.58391571044922, 94.98399353027344, 109.50699615478516, 145.3151092529297, 96.90550231933594, 114.92991638183594, 99.35067749023438, 98.94467163085938, 84.8470230102539, 98.49037170410156, 92.6120834350586, 94.15868377685547, 97.06263732910156, 144.28916931152344, 98.2052001953125, 126.84416198730469], [91.11398315429688, 132.83766174316406, 145.0942840576172, 136.07167053222656, 105.18637084960938, 129.63475036621094, 92.01895904541016, 143.8717041015625, 148.3564910888672, 104.02311706542969, 107.92129516601562, 147.2145538330078, 123.89033508300781, 92.70793914794922, 144.0498809814453, 112.58509063720703, 97.20744323730469, 147.73614501953125, 91.2673110961914, 109.59837341308594, 106.87855529785156, 91.05709075927734, 94.49608612060547, 90.60746002197266, 141.47537231445312, 95.84065246582031, 141.36138916015625, 139.5187530517578, 122.09883117675781, 105.9072494506836, 150.22756958007812, 141.22781372070312], [142.84500122070312, 125.15853881835938, 97.9975814819336, 102.41592407226562, 94.07160186767578, 141.5012969970703, 128.51919555664062, 133.985107421875, 98.76725006103516, 94.32833099365234, 126.1908950805664, 96.17621612548828, 99.36409759521484, 95.65289306640625, 100.03614044189453, 103.0409164428711, 114.11918640136719, 151.66664123535156, 94.1955337524414, 129.82354736328125, 114.84908294677734, 98.78965759277344, 139.5727081298828, 121.14737701416016, 112.8955078125, 157.445556640625, 91.0141372680664, 98.60487365722656, 156.95130920410156, 117.58485412597656, 98.10882568359375, 148.64450073242188], [97.48683166503906, 94.55799102783203, 150.8141326904297, 120.82877349853516, 123.91852569580078, 99.90552520751953, 92.07942962646484, 129.4257049560547, 96.5800552368164, 130.0043182373047, 95.6004409790039, 106.73845672607422, 96.80686950683594, 95.73310089111328, 133.51307678222656, 145.9491729736328, 112.82649230957031, 110.64068603515625, 99.01832580566406, 95.568359375, 116.5718765258789, 106.03741455078125, 114.93504333496094, 100.0631332397461, 138.94384765625, 149.6854248046875, 117.15626525878906, 108.96514892578125, 97.09115600585938, 101.81397247314453, 106.99893951416016, 112.46247100830078], [65.6968994140625, 76.51537322998047, 78.34326934814453, 80.61712646484375, 50.213958740234375, 69.31704711914062, 51.441917419433594, 66.43132781982422, 59.360313415527344, 64.20170593261719, 64.85797119140625, 77.94277954101562, 82.03839874267578, 53.26018524169922, 64.25554656982422, 47.199920654296875, 44.2794303894043, 57.38467025756836, 46.502323150634766, 74.0319595336914, 60.807373046875, 79.66596984863281, 50.57220458984375, 58.63484191894531, 54.538753509521484, 42.80466842651367, 61.916046142578125, 58.293304443359375, 43.495426177978516, 63.20654296875, 46.60588836669922, 62.81925582885742], [46.827796936035156, 39.209373474121094, 49.29973220825195, 62.30844497680664, 49.82805252075195, 49.34484100341797, 45.54228591918945, 40.05340576171875, 54.3977165222168, 42.80961990356445, 50.0890998840332, 47.64445877075195, 66.57046508789062, 44.61687088012695, 52.31538391113281, 50.751121520996094, 49.213130950927734, 62.14864730834961, 57.892539978027344, 43.87146759033203, 50.37956619262695, 39.506649017333984, 48.68672561645508, 75.44737243652344, 47.71001052856445, 58.30243682861328, 60.9617805480957, 43.02396011352539, 55.397647857666016, 51.499305725097656, 58.32130432128906, 42.89257049560547], [52.43183898925781, 57.45558166503906, 56.2147331237793, 71.11248016357422, 72.83526611328125, 54.57380676269531, 66.5235824584961, 57.4778938293457, 74.78558349609375, 62.2309684753418, 59.82712173461914, 67.73135375976562, 56.104042053222656, 62.39103317260742, 54.17041778564453, 41.52503967285156, 73.36168670654297, 75.72356414794922, 48.8930778503418, 54.40151596069336, 62.6319694519043, 62.092376708984375, 73.2399673461914, 68.2625732421875, 55.733741760253906, 69.04238891601562, 64.53816223144531, 63.82320785522461, 57.97019958496094, 54.816165924072266, 77.19978332519531, 76.87789154052734], [66.80206298828125, 63.10000991821289, 82.43399047851562, 84.97441864013672, 86.56919860839844, 70.68798828125, 79.28826141357422, 82.71685791015625, 60.230010986328125, 79.2290267944336, 74.52059173583984, 65.36090850830078, 82.69418334960938, 98.8001708984375, 73.28352355957031, 67.4659652709961, 77.0652847290039, 86.26033020019531, 98.66678619384766, 66.18053436279297, 77.83153533935547, 109.13591003417969, 61.82361602783203, 85.29602813720703, 95.5284423828125, 82.65851593017578, 61.87184143066406, 82.91913604736328, 78.0110092163086, 80.73868560791016, 63.79653549194336, 96.62568664550781], [68.49418640136719, 59.72653579711914, 53.93644332885742, 71.4728012084961, 68.18254852294922, 64.98273468017578, 62.45552062988281, 66.11923217773438, 51.82405471801758, 65.87335968017578, 75.85577392578125, 94.9518051147461, 89.53694152832031, 63.21160888671875, 88.56307983398438, 54.165775299072266, 53.737266540527344, 52.33185958862305, 53.70046615600586, 53.585880279541016, 89.05223846435547, 65.16107940673828, 68.87055969238281, 92.10367584228516, 63.65193557739258, 76.3166275024414, 65.69194030761719, 67.44971466064453, 48.929039001464844, 55.00396728515625, 54.926048278808594, 67.429931640625], [44.228939056396484, 43.69007110595703, 49.34777069091797, 38.4329948425293, 41.97181701660156, 55.79726028442383, 35.40348815917969, 55.25996780395508, 61.95940399169922, 54.51416778564453, 47.31718063354492, 43.96723175048828, 45.97194290161133, 48.33194351196289, 53.89647674560547, 59.248497009277344, 44.288570404052734, 44.9529914855957, 47.33992385864258, 45.30780792236328, 58.40514373779297, 39.5606689453125, 46.743621826171875, 59.55199432373047, 58.30464172363281, 57.75324249267578, 61.538230895996094, 58.58915328979492, 31.26961898803711, 40.53150939941406, 42.364967346191406, 41.570796966552734], [45.41414260864258, 49.08317565917969, 58.2344970703125, 51.9777717590332, 51.93739318847656, 49.47319030761719, 39.869319915771484, 51.884521484375, 49.57490158081055, 43.60921096801758, 44.84159851074219, 51.32820510864258, 67.39897918701172, 59.00667953491211, 41.95172119140625, 39.48898696899414, 43.97966766357422, 48.79057693481445, 71.80998229980469, 50.71617889404297, 44.974056243896484, 53.64962387084961, 71.54676055908203, 48.00069808959961, 66.49344635009766, 44.7451057434082, 51.25555419921875, 77.3660888671875, 70.80601501464844, 44.29292297363281, 47.52023696899414, 61.25819778442383], [67.52714538574219, 61.13148498535156, 78.31138610839844, 64.64924621582031, 61.2933349609375, 50.939544677734375, 68.81522369384766, 81.2522201538086, 94.79481506347656, 57.89596939086914, 75.87904357910156, 58.43160629272461, 70.41326141357422, 70.15904998779297, 73.19651794433594, 74.8463363647461, 56.01235580444336, 72.95448303222656, 60.91763687133789, 103.48675537109375, 56.165184020996094, 66.9350357055664, 64.11238861083984, 63.97721862792969, 86.36408233642578, 63.788978576660156, 64.58258056640625, 89.93904113769531, 70.41650390625, 76.66189575195312, 59.021183013916016, 64.73442840576172], [78.97881317138672, 85.98890686035156, 85.48714447021484, 118.51339721679688, 87.12312316894531, 79.97593688964844, 81.6955795288086, 79.42413330078125, 89.10541534423828, 73.40752410888672, 71.2690200805664, 86.14976501464844, 75.6024398803711, 74.8360595703125, 77.86354064941406, 73.15390014648438, 80.8708267211914, 81.40522003173828, 69.27091217041016, 65.4571533203125, 87.52344512939453, 69.2689437866211, 74.64994049072266, 80.82451629638672, 75.27017974853516, 75.7613525390625, 75.94740295410156, 70.4177474975586, 78.25920867919922, 80.6062240600586, 77.53370666503906, 79.03738403320312], [107.90928649902344, 98.20225524902344, 81.4139633178711, 81.4985580444336, 101.28031921386719, 88.60208892822266, 80.83684539794922, 81.17391204833984, 83.91004943847656, 104.58749389648438, 93.04839324951172, 85.33296203613281, 95.98725128173828, 90.65586853027344, 78.62068176269531, 92.09332275390625, 84.11253356933594, 108.8077392578125, 89.14796447753906, 86.23961639404297, 94.2330322265625, 91.74371337890625, 84.06346130371094, 84.90254211425781, 98.10138702392578, 96.7588882446289, 85.69904327392578, 94.65044403076172, 85.2206802368164, 87.23885345458984, 85.16117095947266, 81.93172454833984], [49.14873504638672, 69.9825668334961, 48.606117248535156, 42.683067321777344, 57.587520599365234, 48.068904876708984, 65.16808319091797, 56.92097473144531, 65.67867279052734, 43.44908905029297, 45.09415054321289, 53.167335510253906, 56.41966247558594, 51.67772674560547, 52.34499740600586, 42.32740783691406, 49.49517059326172, 54.65149688720703, 73.69355773925781, 62.85487365722656, 56.92643356323242, 43.4018669128418, 64.3997573852539, 45.10758590698242, 73.31182098388672, 43.18122863769531, 67.56832885742188, 58.051979064941406, 63.55739974975586, 57.9249267578125, 52.94580078125, 62.99361038208008], [95.85729217529297, 105.13436126708984, 97.61235809326172, 107.93895721435547, 94.6327896118164, 105.22349548339844, 95.6852035522461, 96.71306610107422, 92.37500762939453, 110.07542419433594, 82.24297332763672, 103.08216094970703, 117.74065399169922, 110.40372467041016, 88.7349853515625, 90.97066497802734, 98.53042602539062, 103.85396575927734, 112.15296173095703, 97.74891662597656, 102.7673110961914, 96.43029022216797, 99.23441314697266, 108.1307373046875, 119.45802307128906, 92.7557373046875, 99.22322845458984, 106.532958984375, 85.93658447265625, 101.01496124267578, 96.96113586425781, 100.66630554199219], [54.63092041015625, 52.511573791503906, 47.57735824584961, 81.15687561035156, 83.56073760986328, 67.38770294189453, 63.08798599243164, 83.00718688964844, 66.04297637939453, 74.33992004394531, 116.18314361572266, 74.329833984375, 56.61079406738281, 75.53343963623047, 77.94303894042969, 54.38949966430664, 75.88685607910156, 60.97219467163086, 69.50938415527344, 74.94319152832031, 82.08048248291016, 65.16470336914062, 72.72140502929688, 47.545372009277344, 72.69031524658203, 52.865379333496094, 86.34845733642578, 114.76436614990234, 87.11856842041016, 63.48670196533203, 46.060935974121094, 73.16947937011719], [60.06937789916992, 59.55112838745117, 55.180301666259766, 71.52429962158203, 45.69762420654297, 49.479095458984375, 42.55215072631836, 52.4553337097168, 52.17477798461914, 48.944549560546875, 49.153133392333984, 43.85498046875, 49.14945602416992, 68.08944702148438, 44.84041976928711, 53.40639877319336, 52.4713134765625, 56.6672477722168, 57.1708869934082, 41.198272705078125, 45.226470947265625, 59.889183044433594, 50.15325927734375, 56.98856735229492, 54.62434768676758, 59.33332443237305, 61.59292221069336, 53.00320816040039, 51.350547790527344, 53.44673538208008, 44.10877990722656, 43.11338424682617], [84.46379852294922, 86.80105590820312, 91.38626098632812, 89.4283218383789, 88.45640563964844, 94.38028717041016, 90.9701919555664, 93.42027282714844, 94.11174011230469, 89.43258666992188, 109.55363464355469, 91.82393646240234, 93.59445190429688, 89.63420867919922, 86.18240356445312, 90.60326385498047, 91.51216888427734, 89.17598724365234, 91.15042877197266, 91.19615173339844, 108.35716247558594, 90.56510162353516, 88.51251983642578, 93.03608703613281, 91.12533569335938, 100.3908920288086, 90.62725830078125, 94.3573989868164, 88.98426818847656, 89.20092010498047, 89.4021224975586, 96.99198150634766], [51.04526138305664, 67.22783660888672, 50.1577033996582, 40.77155685424805, 46.18013381958008, 68.61798858642578, 69.52613067626953, 50.336097717285156, 70.22138977050781, 48.99178695678711, 77.18657684326172, 55.24605178833008, 52.387001037597656, 50.030452728271484, 48.21239471435547, 69.1019058227539, 60.32692337036133, 52.03723907470703, 57.155303955078125, 57.25800323486328, 54.24607849121094, 54.230430603027344, 68.77933502197266, 51.90489959716797, 63.555362701416016, 47.741058349609375, 53.43901824951172, 47.86942672729492, 44.76438903808594, 55.833885192871094, 74.90349578857422, 52.97140884399414]]\n",
      "time cost: 174.99690827528636 min\n"
     ]
    }
   ],
   "source": [
    "energys = []\n",
    "\n",
    "start = time.time()\n",
    "# expect time: 3h\n",
    "for i, graph in zip(range(100), all_labels):\n",
    "    energys += [[NetEnergy(trainNet(graph.tolist())) for j in range(32)]]\n",
    "    if i % 10 == 0:\n",
    "        print(i/100,\"%\")\n",
    "    \n",
    "end = time.time()\n",
    "print(energys)\n",
    "print('time cost:', (end-start)/60, 'min')"
   ]
  },
  {
   "cell_type": "code",
   "execution_count": 52,
   "metadata": {
    "collapsed": true
   },
   "outputs": [],
   "source": [
    "import pandas as pd\n",
    "\n",
    "energyData = pd.DataFrame(energys)\n",
    "\n",
    "energyData.to_csv('./data/energyData.csv')"
   ]
  },
  {
   "cell_type": "code",
   "execution_count": 53,
   "metadata": {
    "collapsed": true
   },
   "outputs": [],
   "source": [
    "first100Labels = []\n",
    "\n",
    "for lb in all_labels[:100]:\n",
    "    first100Labels += lb.tolist()\n",
    "    \n",
    "lbData = pd.DataFrame(first100Labels)\n",
    "lbData.to_csv('./data/lbData.csv')"
   ]
  },
  {
   "cell_type": "markdown",
   "metadata": {},
   "source": [
    "## $\\Phi$"
   ]
  },
  {
   "cell_type": "code",
   "execution_count": 172,
   "metadata": {},
   "outputs": [
    {
     "name": "stdout",
     "output_type": "stream",
     "text": [
      "total labels: 10080\n"
     ]
    }
   ],
   "source": [
    "import pyphi\n",
    "\n",
    "m = [[0, 0, 0],\n",
    "     [0, 0, 1],\n",
    "     [1, 0, 1],\n",
    "     [1, 0, 0],\n",
    "     [1, 1, 0],\n",
    "     [1, 1, 1],\n",
    "     [1, 1, 1],\n",
    "     [1, 1, 0]]\n",
    "\n",
    "cm = np.array([\n",
    "     [0, 0, 1],\n",
    "     [1, 0, 1],\n",
    "     [1, 1, 0]\n",
    " ])\n",
    "\n",
    "all_labels = AllLabelConfigurations(m)\n",
    "\n",
    "print('total labels:', len(all_labels))\n",
    "\n",
    "labels = ('A', 'B', 'C')"
   ]
  },
  {
   "cell_type": "code",
   "execution_count": 179,
   "metadata": {},
   "outputs": [
    {
     "data": {
      "text/plain": [
       "array([[1, 1, 0],\n",
       "       [1, 0, 0],\n",
       "       [1, 0, 1],\n",
       "       [0, 0, 0],\n",
       "       [1, 1, 1],\n",
       "       [1, 0, 0],\n",
       "       [0, 0, 1],\n",
       "       [1, 1, 1]])"
      ]
     },
     "execution_count": 179,
     "metadata": {},
     "output_type": "execute_result"
    }
   ],
   "source": [
    "all_labels[903]"
   ]
  },
  {
   "cell_type": "code",
   "execution_count": 10,
   "metadata": {
    "collapsed": true
   },
   "outputs": [],
   "source": [
    "def is_in(state, tpm):\n",
    "    for astate in tpm:\n",
    "        if state == astate.tolist():\n",
    "            return True\n",
    "    return False\n",
    "\n",
    "def getphi(tpm):\n",
    "    network = pyphi.Network(tpm, node_labels=labels)\n",
    "    phis = []\n",
    "    for i in range(2):\n",
    "        for j in range(2):\n",
    "            for k in range(2):\n",
    "                state = (i, j, k)\n",
    "                node_indices = (0, 1, 2)\n",
    "                if is_in(list(state), tpm):\n",
    "                    subsystem = pyphi.Subsystem(network, state, node_indices)\n",
    "                    phis += [pyphi.compute.phi(subsystem)]\n",
    "    return phis"
   ]
  },
  {
   "cell_type": "code",
   "execution_count": 19,
   "metadata": {},
   "outputs": [
    {
     "name": "stderr",
     "output_type": "stream",
     "text": [
      "                                                                 \r"
     ]
    }
   ],
   "source": [
    "import pandas as pd\n",
    "import warnings\n",
    "warnings.filterwarnings('ignore')\n",
    "\n",
    "phis = [getphi(alabel) for i, alabel in zip(range(len(all_labels)), all_labels)]\n",
    "\n",
    "phisData=pd.DataFrame(phis)\n",
    "phisData.to_csv('./data/phis.csv')"
   ]
  },
  {
   "cell_type": "code",
   "execution_count": 31,
   "metadata": {
    "scrolled": true
   },
   "outputs": [
    {
     "data": {
      "text/plain": [
       "[[0.1875, 0.1875, 2.3125, 0.687499, 0.1875, 0.1875],\n",
       " [0, 0, 0, 0, 0, 0],\n",
       " [0.168403, 0.150625, 0.08507, 0.067292, 0.08507, 0.067292],\n",
       " [0.28125, 0.28125, 1.215279, 0.708332, 0.197917, 0.197917],\n",
       " [0.09375, 0.09375, 0.4125, 0.06875, 0.06875],\n",
       " [0.09375, 0.088125, 0.063125, 0.06875, 0.063125],\n",
       " [0, 0, 0, 0, 0],\n",
       " [0.078125, 0.078125, 0.678125, 0.078125, 0.078125],\n",
       " [0, 0, 0, 0, 0],\n",
       " [0.18125, 0.209375, 0.888119, 0.428125, 0.18125, 0.209375],\n",
       " [0.07875, 0.096528, 0.063125, 0.080903, 0.063125, 0.080903],\n",
       " [0, 0, 0, 0, 0, 0],\n",
       " [0.0625, 0.0625, 0.0625, 0.0625, 0.0625, 0.0625],\n",
       " [0.078125, 0.078125, 0.390625, 0.078125, 0.078125],\n",
       " [0.096528, 0.07875, 0.559219, 0.219375, 0.080903, 0.063125],\n",
       " [0.209375, 0.18125, 0.871874, 0.3375, 0.209375, 0.18125],\n",
       " [0.140625, 0.140625, 0.515625, 0.140625, 0.140625],\n",
       " [0, 0, 0.375, 0, 0],\n",
       " [0.0625, 0.0625, 0.635, 0.25, 0.0625, 0.0625],\n",
       " [0, 0, 0, 0, 0, 0],\n",
       " [0.078125, 0.078125, 1.459375, 0.078125, 0.078125],\n",
       " [0, 0, 0, 0, 0],\n",
       " [0.09375, 0.088125, 0.06875, 0.06875, 0.063125],\n",
       " [0.09375, 0.09375, 1.204862, 0.06875, 0.06875],\n",
       " [0.088125, 0.09375, 0.063125, 0.063125, 0.06875],\n",
       " [0.18125, 0.209375, 0.888119, 0.428125, 0.18125, 0.209375],\n",
       " [0.07875, 0.096528, 0.063125, 0.080903, 0.063125, 0.080903],\n",
       " [0, 0, 0, 0, 0, 0],\n",
       " [0.0625, 0.0625, 0.0625, 0.0625, 0.0625, 0.0625],\n",
       " [0.09375, 0.088125, 0.4125, 0.06875, 0.063125],\n",
       " [0.096528, 0.07875, 0.559219, 0.219375, 0.080903, 0.063125],\n",
       " [0.209375, 0.18125, 0.871874, 0.3375, 0.209375, 0.18125],\n",
       " [0.09375, 0.09375, 1.204862, 0.06875, 0.06875],\n",
       " [0.078125, 0.078125, 0.459375, 0.053125, 0.053125],\n",
       " [0.0625, 0.0625, 0.635, 0.25, 0.0625, 0.0625],\n",
       " [0, 0, 0, 0, 0, 0],\n",
       " [0.25, 0.25, 0.25, 0.25],\n",
       " [0.0, 0.0, 0.0, 0.0],\n",
       " [0.053125, 0.053125, 0.053125, 0.078125, 0.078125],\n",
       " [0.053125, 0.053125, 0.053125, 0.078125, 0.078125],\n",
       " [0.0, 0.0, 0.0, 0.0, 0.0],\n",
       " [0.0625, 0.0625, 0.0625, 0.0625, 0.0625],\n",
       " [0.0625, 0.0625, 0.0625, 0.0625],\n",
       " [0.0625, 0.0625, 0.0625, 0.0625],\n",
       " [0, 0, 0, 0, 0],\n",
       " [0.1375, 0.1375, 0.1375, 0.1875, 0.1875],\n",
       " [0.053125, 0.053125, 0.053125, 0.078125, 0.078125],\n",
       " [0.078125, 0.078125, 0.078125, 0.078125, 0.078125],\n",
       " [0.078125, 0.078125, 0.078125, 0.078125, 0.078125],\n",
       " [0.053125, 0.053125, 0.053125, 0.078125, 0.078125],\n",
       " [0.0625, 0.0625, 0.0625, 0.0625, 0.0625],\n",
       " [0.0, 0.0, 0.0, 0.0, 0.0],\n",
       " [0.0, 0.0, 0.0, 0.0, 0.0, 0.0],\n",
       " [0.0, 0.0, 0.0, 0.0, 0.0, 0.0],\n",
       " [0.1375, 0.1375, 0.1375, 0.1875, 0.1875],\n",
       " [0, 0, 0, 0, 0],\n",
       " [0.053125, 0.053125, 0.053125, 0.078125, 0.078125],\n",
       " [0.053125, 0.053125, 0.053125, 0.078125, 0.078125],\n",
       " [0, 0, 0, 0, 0, 0],\n",
       " [0, 0, 0, 0, 0, 0],\n",
       " [0.105903, 0.088125, 0.080903, 0.063125],\n",
       " [0, 0, 0, 0, 0],\n",
       " [0.0625, 0.0625, 0.0625, 0.0625, 0.0625],\n",
       " [0.105903, 0.088125, 0.317405, 0.178349],\n",
       " [0.0625, 0.0625, 0.0625, 0.306875, 0.160725],\n",
       " [0.078125, 0.078125, 0.120089, 0.053125, 0.053125],\n",
       " [0.0625, 0.0625, 0.0625, 0.0625, 0.0625],\n",
       " [0.0625, 0.0625, 0.0625, 0.0625, 0.0625],\n",
       " [0, 0, 0, 0, 0],\n",
       " [0.0625, 0.0625, 0.0625, 0.0625, 0.0625],\n",
       " [0.035, 0.035, 0.035, 0.035, 0.052083, 0.052083],\n",
       " [0.035, 0.035, 0.035, 0.035, 0.052083, 0.052083],\n",
       " [0.0625, 0.0625, 0.343257, 0.195371],\n",
       " [0.0625, 0.0625, 0.408423, 0.358216, 0.176109],\n",
       " [0, 0, 0, 0, 0],\n",
       " [0.25, 0.25, 0.2, 0.2],\n",
       " [0.0625, 0.0625, 0.204081, 0.0625, 0.0625],\n",
       " [0.0625, 0.0625, 0.0625, 0.306875, 0.160725],\n",
       " [0.078125, 0.078125, 0.421354, 0.053125, 0.053125],\n",
       " [0.0625, 0.0625, 0.0625, 0.0625, 0.0625],\n",
       " [0.0625, 0.0625, 0.230867, 0.358216, 0.176109],\n",
       " [0, 0, 0, 0, 0],\n",
       " [0, 0, 0, 0, 0, 0],\n",
       " [0, 0, 0, 0, 0, 0],\n",
       " [1.0, 1.0, 0.576389, 0.576389, 0.576389, 0.576389],\n",
       " [0.0, 0.0, 0.0, 0.0, 0.0, 0.0],\n",
       " [0.078125, 0.078125, 0.036458, 0.036458, 0.036458, 0.036458],\n",
       " [0.717014, 0.792411, 0.54975, 0.653899, 0.476755, 0.52683],\n",
       " [1.198661, 1.123264, 0.455261, 0.270559, 0.24084],\n",
       " [0.078125, 0.078125, 0.036458, 0.369629, 0.289249],\n",
       " [0, 0, 0, 0, 0],\n",
       " [0.138712, 0.421877, 0.301506, 0.146669, 0.146669],\n",
       " [0, 0, 0, 0, 0],\n",
       " [0.140818, 0.420897, 0.110108, 0.317826, 0.11757, 0.11757],\n",
       " [0.435069, 0.583957, 0.0475, 0.050625, 0.063125, 0.067708],\n",
       " [0, 0, 0, 0, 0, 0],\n",
       " [0.413718, 0.567707, 0.015625, 0.015625, 0.015625, 0.015625],\n",
       " [0.125, 0.069444, 0.069444, 0.125, 0.069444],\n",
       " [0.105903, 0.088125, 0.064236, 0.046458, 0.064236, 0.046458],\n",
       " [0.771873, 0.686042, 0.297845, 0.266506, 0.231647, 0.199179]]"
      ]
     },
     "execution_count": 31,
     "metadata": {},
     "output_type": "execute_result"
    }
   ],
   "source": [
    "phis"
   ]
  },
  {
   "cell_type": "markdown",
   "metadata": {},
   "source": [
    "# Random"
   ]
  },
  {
   "cell_type": "code",
   "execution_count": 13,
   "metadata": {},
   "outputs": [
    {
     "name": "stdout",
     "output_type": "stream",
     "text": [
      "-24\n",
      "-16\n",
      "-16\n",
      "-24\n",
      "0\n",
      "-16\n",
      "-16\n",
      "-16\n",
      "-8\n",
      "-24\n"
     ]
    }
   ],
   "source": [
    "for arm in rm[:10]:\n",
    "    #print(MapToKarnaughMap(arm))\n",
    "    print(IsingEnergy(arm))"
   ]
  },
  {
   "cell_type": "code",
   "execution_count": 14,
   "metadata": {},
   "outputs": [
    {
     "data": {
      "text/plain": [
       "1552528487.9991295"
      ]
     },
     "execution_count": 14,
     "metadata": {},
     "output_type": "execute_result"
    }
   ],
   "source": [
    "import time\n",
    "\n",
    "time.time()"
   ]
  },
  {
   "cell_type": "code",
   "execution_count": null,
   "metadata": {
    "collapsed": true
   },
   "outputs": [],
   "source": []
  }
 ],
 "metadata": {
  "kernelspec": {
   "display_name": "Python 3",
   "language": "python",
   "name": "python3"
  },
  "language_info": {
   "codemirror_mode": {
    "name": "ipython",
    "version": 3
   },
   "file_extension": ".py",
   "mimetype": "text/x-python",
   "name": "python",
   "nbconvert_exporter": "python",
   "pygments_lexer": "ipython3",
   "version": "3.6.7"
  },
  "toc": {
   "base_numbering": 1,
   "nav_menu": {},
   "number_sections": true,
   "sideBar": true,
   "skip_h1_title": false,
   "title_cell": "Table of Contents",
   "title_sidebar": "Contents",
   "toc_cell": false,
   "toc_position": {
    "height": "calc(100% - 180px)",
    "left": "10px",
    "top": "150px",
    "width": "248px"
   },
   "toc_section_display": true,
   "toc_window_display": true
  }
 },
 "nbformat": 4,
 "nbformat_minor": 2
}
