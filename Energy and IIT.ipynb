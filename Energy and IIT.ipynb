{
 "cells": [
  {
   "cell_type": "markdown",
   "metadata": {},
   "source": [
    "## Logic to Karnaugh map"
   ]
  },
  {
   "cell_type": "markdown",
   "metadata": {},
   "source": [
    "[Wiki: Karnaugh map](https://en.wikipedia.org/wiki/Karnaugh_map)\n",
    "![](https://upload.wikimedia.org/wikipedia/commons/thumb/0/02/K-map_6%2C8%2C9%2C10%2C11%2C12%2C13%2C14_anti-race.svg/440px-K-map_6%2C8%2C9%2C10%2C11%2C12%2C13%2C14_anti-race.svg.png)"
   ]
  },
  {
   "cell_type": "code",
   "execution_count": 26,
   "metadata": {
    "collapsed": true
   },
   "outputs": [],
   "source": [
    "from sympy.combinatorics.graycode import GrayCode\n",
    "from itertools import permutations\n",
    "import numpy as np"
   ]
  },
  {
   "cell_type": "code",
   "execution_count": 27,
   "metadata": {
    "collapsed": true
   },
   "outputs": [],
   "source": [
    "def ReverseBinCode(l):\n",
    "    # Generate reversed binary code for pyphi\n",
    "    maxIndex = 2 ** l - 1\n",
    "    return [np.binary_repr(maxIndex - index, width=l) for index in range(2 ** l)]"
   ]
  },
  {
   "cell_type": "markdown",
   "metadata": {},
   "source": [
    "## 输入`pyphi`中状态转移矩阵，给出各个变量的卡诺图"
   ]
  },
  {
   "cell_type": "code",
   "execution_count": 3,
   "metadata": {
    "collapsed": true
   },
   "outputs": [],
   "source": [
    "# 输入状态转移列表，给出各个量的卡诺图矩阵\n",
    "\n",
    "def MapToKarnaughMap(_map):\n",
    "    # Turn map to MapToKarnaugh Maps\n",
    "    # Generate ReverseBinCode\n",
    "    index = ReverseBinCode(len(_map[0]))\n",
    "    #index = np.array([[int(char) for char in strcode] for strcode in index])\n",
    "    \n",
    "    dim1 = (int(len(_map[0]) / 2))\n",
    "    dim2 = (len(_map[0]) - int(len(_map[0]) / 2))\n",
    "    #print('dim =', dim1, 'x', dim2)\n",
    "    \n",
    "    gc1 = GrayCode(dim1)\n",
    "    gc2 = GrayCode(dim2)\n",
    "    gd1 = dict(zip(list(gc1.generate_gray()), range(2 ** dim1)))\n",
    "    gd2 = dict(zip(list(gc2.generate_gray()), range(2 ** dim2)))\n",
    "    #print(gd1)\n",
    "    #print(gd2)\n",
    "    \n",
    "    _map = np.array(_map).T\n",
    "    KarnaughMaps = []\n",
    "    for targetStates in _map:\n",
    "        #print('-------')\n",
    "        Karnaugh = np.array(([[0] * (2 ** dim1)]) * (2 ** dim2)).T\n",
    "        #print(Karnaugh)\n",
    "        for state, mcode in zip(index, targetStates):\n",
    "            #print(state, '->', mcode)\n",
    "            #print('c1=',state[0:dim1])\n",
    "            #print('c2=',state[dim1:])\n",
    "            Karnaugh[gd1[state[0:dim1]], gd2[state[dim1:]]] = mcode\n",
    "        KarnaughMaps += [Karnaugh]\n",
    "        #print(Karnaugh)\n",
    "    \n",
    "    return np.array(KarnaughMaps)"
   ]
  },
  {
   "cell_type": "markdown",
   "metadata": {},
   "source": [
    "## 输入矩阵，给出Ising模型能量"
   ]
  },
  {
   "cell_type": "code",
   "execution_count": 4,
   "metadata": {
    "collapsed": true
   },
   "outputs": [],
   "source": [
    "def IsingEnergy(mat, energy={0:-1, 1:1}):\n",
    "    # 给出mat的Ising能量\n",
    "    # Return Ising energy of mat\n",
    "    mat = np.array(mat)\n",
    "    # If mat is a list of mat, then return all energy\n",
    "    if len(mat.shape) == 3:\n",
    "        return np.array([IsingEnergy(_mat, energy) for _mat in mat])\n",
    "    # Otherwise return this energy\n",
    "    x, y = mat.shape\n",
    "    total_E = 0\n",
    "    for i in range(x):\n",
    "        for j in range(y):\n",
    "            total_E += energy[mat[i][j]] * energy[mat[(i - 1) % x][j]]\n",
    "            total_E += energy[mat[i][j]] * energy[mat[(i + 1) % x][j]]\n",
    "            total_E += energy[mat[i][j]] * energy[mat[i][(j - 1) % y]]\n",
    "            total_E += energy[mat[i][j]] * energy[mat[i][(j + 1) % y]]\n",
    "    return -total_E"
   ]
  },
  {
   "cell_type": "code",
   "execution_count": 57,
   "metadata": {},
   "outputs": [
    {
     "data": {
      "text/plain": [
       "array([[[1, 1, 1, 1],\n",
       "        [0, 0, 0, 0]],\n",
       "\n",
       "       [[1, 1, 0, 0],\n",
       "        [1, 1, 0, 0]],\n",
       "\n",
       "       [[1, 0, 0, 1],\n",
       "        [1, 0, 0, 1]]])"
      ]
     },
     "execution_count": 57,
     "metadata": {},
     "output_type": "execute_result"
    }
   ],
   "source": [
    "m = [\n",
    "    [0,0,0],\n",
    "    [0,0,1],\n",
    "    [0,1,0],\n",
    "    [0,1,1],\n",
    "    [1,0,0],\n",
    "    [1,0,1],\n",
    "    [1,1,0],\n",
    "    [1,1,1]\n",
    "    ]\n",
    "MapToKarnaughMap(m)"
   ]
  },
  {
   "cell_type": "markdown",
   "metadata": {},
   "source": [
    "## 对状态名重新标记 Relabel"
   ]
  },
  {
   "cell_type": "code",
   "execution_count": 6,
   "metadata": {
    "collapsed": true
   },
   "outputs": [],
   "source": [
    "testorder=permutations(m).__next__()"
   ]
  },
  {
   "cell_type": "code",
   "execution_count": 106,
   "metadata": {
    "collapsed": true
   },
   "outputs": [],
   "source": [
    "def code2str(codeList):\n",
    "    s = ''\n",
    "    for i in codeList:\n",
    "        s += str(i)\n",
    "    return s\n",
    "\n",
    "def relabel(m0, order):\n",
    "    length = len(m0[0])\n",
    "    bcode = ReverseBinCode(length)\n",
    "    reorderRule = {}\n",
    "    for originLabel, newLabel in zip(bcode, order):\n",
    "        reorderRule[originLabel] = newLabel\n",
    "    #print(reorderRule)\n",
    "    rule = {}\n",
    "    for currentState, nextState in zip(bcode, m0):\n",
    "        #print(reorderRule[code2str(currentState)], 'to', str(nextState))\n",
    "        rule[code2str(reorderRule[code2str(currentState)])] = reorderRule[code2str(nextState)]\n",
    "    \n",
    "    new_m = [rule[startState] for startState in ReverseBinCode(length)]\n",
    "    \n",
    "    return np.array(new_m)"
   ]
  },
  {
   "cell_type": "code",
   "execution_count": 107,
   "metadata": {},
   "outputs": [
    {
     "ename": "NameError",
     "evalue": "name 'testorder' is not defined",
     "output_type": "error",
     "traceback": [
      "\u001b[0;31m---------------------------------------------------------------------------\u001b[0m",
      "\u001b[0;31mNameError\u001b[0m                                 Traceback (most recent call last)",
      "\u001b[0;32m<ipython-input-107-0d50bd9bbe28>\u001b[0m in \u001b[0;36m<module>\u001b[0;34m()\u001b[0m\n\u001b[0;32m----> 1\u001b[0;31m \u001b[0mprint\u001b[0m\u001b[0;34m(\u001b[0m\u001b[0mrelabel\u001b[0m\u001b[0;34m(\u001b[0m\u001b[0mm\u001b[0m\u001b[0;34m,\u001b[0m \u001b[0mtestorder\u001b[0m\u001b[0;34m)\u001b[0m\u001b[0;34m)\u001b[0m\u001b[0;34m\u001b[0m\u001b[0m\n\u001b[0m",
      "\u001b[0;31mNameError\u001b[0m: name 'testorder' is not defined"
     ]
    }
   ],
   "source": [
    "print(relabel(m, testorder))"
   ]
  },
  {
   "cell_type": "code",
   "execution_count": 43,
   "metadata": {},
   "outputs": [
    {
     "data": {
      "text/plain": [
       "array([[[0, 0],\n",
       "        [1, 1]],\n",
       "\n",
       "       [[0, 1],\n",
       "        [1, 0]]])"
      ]
     },
     "execution_count": 43,
     "metadata": {},
     "output_type": "execute_result"
    }
   ],
   "source": [
    "MapToKarnaughMap(relabel(testM, testOrder))"
   ]
  },
  {
   "cell_type": "markdown",
   "metadata": {},
   "source": [
    "## 计算不同排序的Ising能量"
   ]
  },
  {
   "cell_type": "code",
   "execution_count": 54,
   "metadata": {},
   "outputs": [
    {
     "name": "stdout",
     "output_type": "stream",
     "text": [
      "[0, -16, -16, 0, -16, 32, 0, -16, -16, 0, 8, 8, 0, 8, 8, 0, 32, -16, 0, -16, 32, 0, -16, -16, 0, 8, 8, 0, 0, -16, 0, 16, 16, 0, 8, 8, 0, 8, 8, 0, 16, 16, 0, 32, -16, 0, 8, 8, 0, -16, -16, 0, -16, 0, 0, 0, -16, 0, 8, 8, 0, 8, 8, 0, -16, -16, 0, -16, 0, 0, -16, -16, 0, -16, -16, 0, -16, 32, 0, -16, -16, 0, 8, 8, 0, 8, 8, 0, 32, -16, -16, 0, -16, -16, 0, 32, 0, 0, 0, 8, 0, 8, 0, 16, 16, 8, 16, -16, 0, 0, 0, 0, 16, 16, -16, -16, 0, 8, -16, 16, -16, 32, 0, 8, 8, 0, 8, 0, 8, 8, 16, -16, 8, -16, 16, 32, -16, -16, 8, 8, 0, 32, -16, -16, 0, -16, 32, 0, -16, -16]\n"
     ]
    }
   ],
   "source": [
    "m = [\n",
    "    [0,0,0],\n",
    "    [0,0,1],\n",
    "    [0,1,0],\n",
    "    [0,1,1],\n",
    "    [1,0,0],\n",
    "    [1,0,1],\n",
    "    [1,1,0],\n",
    "    [1,1,1]\n",
    "    ]\n",
    "energyList = []\n",
    "maxlen = 50\n",
    "\n",
    "testorders=permutations(m)\n",
    "\n",
    "for i, order in zip(range(maxlen), testorders):\n",
    "    current_m = relabel(m, list(order))\n",
    "    energy = [IsingEnergy(kmap) for kmap in MapToKarnaughMap(current_m)]\n",
    "    energyList += energy\n",
    "\n",
    "print(energyList)"
   ]
  },
  {
   "cell_type": "markdown",
   "metadata": {
    "collapsed": true
   },
   "source": [
    "## NN for learning dynamic of network"
   ]
  },
  {
   "cell_type": "code",
   "execution_count": 41,
   "metadata": {},
   "outputs": [],
   "source": [
    "import torch\n",
    "import torch.nn as nn\n",
    "import torch.nn.functional as F\n",
    "import torch.utils.data as data\n",
    "import torch.optim as optim"
   ]
  },
  {
   "cell_type": "code",
   "execution_count": 6,
   "metadata": {
    "collapsed": true
   },
   "outputs": [],
   "source": [
    "class net(nn.Module):\n",
    "    def __init__(self, size_vis, size_hidden):\n",
    "        super(net, self).__init__()\n",
    "        self.fcn_v = nn.Linear(size_vis, size_vis)\n",
    "        self.fcn_v2h = nn.Linear(size_vis, size_hidden)\n",
    "        self.fcn_h2v = nn.Linear(size_hidden, size_vis)\n",
    "        \n",
    "    def forward(self, x):\n",
    "        h = torch.sigmoid(self.fcn_v2h(x))\n",
    "        xp = torch.sigmoid(self.fcn_v(x))\n",
    "        \n",
    "        xout = torch.sigmoid(self.fcn_h2v(h) + self.fcn_v(xp))\n",
    "        \n",
    "        return xout"
   ]
  },
  {
   "cell_type": "code",
   "execution_count": 7,
   "metadata": {
    "collapsed": true
   },
   "outputs": [],
   "source": [
    "IITnet = net(3, 4)"
   ]
  },
  {
   "cell_type": "code",
   "execution_count": 8,
   "metadata": {},
   "outputs": [
    {
     "data": {
      "text/plain": [
       "tensor([0.4163, 0.6362, 0.3800], grad_fn=<SigmoidBackward>)"
      ]
     },
     "execution_count": 8,
     "metadata": {},
     "output_type": "execute_result"
    }
   ],
   "source": [
    "IITnet.forward(torch.Tensor([0,0,0]))"
   ]
  },
  {
   "cell_type": "code",
   "execution_count": 34,
   "metadata": {},
   "outputs": [],
   "source": [
    "m = [\n",
    "    [0,0,0],\n",
    "    [0,0,1],\n",
    "    [0,1,0],\n",
    "    [0,1,1],\n",
    "    [1,0,0],\n",
    "    [1,0,1],\n",
    "    [1,1,0],\n",
    "    [1,1,1]\n",
    "    ]"
   ]
  },
  {
   "cell_type": "code",
   "execution_count": 33,
   "metadata": {},
   "outputs": [],
   "source": [
    "def BinCodeList(length):\n",
    "    s = ReverseBinCode(length)\n",
    "\n",
    "    return [[int(char) for char in ss] for ss in s]\n",
    "\n",
    "class graphData(data.Dataset):\n",
    "    def __init__(self, _m):\n",
    "        super(graphData, self).__init__()\n",
    "        self.inputs = BinCodeList(len(m[0]))\n",
    "        self.m = _m\n",
    "        \n",
    "    def __len__(self):\n",
    "        return len(self.inputs)\n",
    "    def __getitem__(self, index):\n",
    "        return self.inputs[index], self.m[index]"
   ]
  },
  {
   "cell_type": "code",
   "execution_count": 93,
   "metadata": {},
   "outputs": [
    {
     "name": "stdout",
     "output_type": "stream",
     "text": [
      "epco 0 loss: 0.22029556334018707\n",
      "epco 400 loss: 0.08167281746864319\n",
      "epco 800 loss: 0.021813470870256424\n",
      "epco 1200 loss: 0.014217870309948921\n",
      "epco 1600 loss: 0.012218523770570755\n",
      "epco 2000 loss: 0.011513054370880127\n",
      "epco 2400 loss: 0.011218958534300327\n",
      "epco 2800 loss: 0.011076707392930984\n",
      "epco 3200 loss: 0.010997287929058075\n",
      "epco 3600 loss: 0.010946993716061115\n"
     ]
    }
   ],
   "source": [
    "IITnet = net(3, 4)\n",
    "\n",
    "\n",
    "\n",
    "dataset = graphData(m)\n",
    "setLoader = data.DataLoader(dataset, batch_size = 1)\n",
    "optimizer = optim.SGD(IITnet.parameters(), lr = 0.01, momentum=0.9, weight_decay=0.0005)\n",
    "\n",
    "loss_fn = torch.nn.MSELoss()\n",
    "\n",
    "for epco in range(4000):\n",
    "    for inputdata, target in setLoader:\n",
    "        optimizer.zero_grad()\n",
    "        output = IITnet.forward(torch.Tensor(inputdata))\n",
    "        loss = loss_fn(output, torch.Tensor(target))\n",
    "        loss.backward()\n",
    "        optimizer.step()\n",
    "    if epco % 400 == 0:\n",
    "        print('epco', epco, 'loss:',loss.item())"
   ]
  },
  {
   "cell_type": "code",
   "execution_count": 102,
   "metadata": {
    "collapsed": true
   },
   "outputs": [],
   "source": [
    "def trainNet(_m):\n",
    "    _IITnet = net(3, 4)\n",
    "\n",
    "    dataset = graphData(_m)\n",
    "    setLoader = data.DataLoader(dataset, batch_size = 1)\n",
    "    optimizer = optim.SGD(_IITnet.parameters(), lr = 0.01, momentum=0.9, weight_decay=0.0005)\n",
    "\n",
    "    loss_fn = torch.nn.MSELoss()\n",
    "\n",
    "    for epco in range(1400):\n",
    "        for inputdata, target in setLoader:\n",
    "            optimizer.zero_grad()\n",
    "            output = _IITnet.forward(torch.Tensor(inputdata))\n",
    "            loss = loss_fn(output, torch.Tensor(target))\n",
    "            loss.backward()\n",
    "            optimizer.step()\n",
    "        #if epco % 400 == 0:\n",
    "            #print('epco', epco, 'loss:',loss.item())\n",
    "    return _IITnet"
   ]
  },
  {
   "cell_type": "code",
   "execution_count": 145,
   "metadata": {},
   "outputs": [
    {
     "data": {
      "text/plain": [
       "net(\n",
       "  (fcn_v): Linear(in_features=3, out_features=3, bias=True)\n",
       "  (fcn_v2h): Linear(in_features=3, out_features=4, bias=True)\n",
       "  (fcn_h2v): Linear(in_features=4, out_features=3, bias=True)\n",
       ")"
      ]
     },
     "execution_count": 145,
     "metadata": {},
     "output_type": "execute_result"
    }
   ],
   "source": [
    "trainNet(m)"
   ]
  },
  {
   "cell_type": "code",
   "execution_count": 104,
   "metadata": {},
   "outputs": [
    {
     "name": "stdout",
     "output_type": "stream",
     "text": [
      "[([0, 0, 0], [0, 0, 1], [0, 1, 0], [0, 1, 1], [1, 0, 0], [1, 0, 1], [1, 1, 0], [1, 1, 1]), [113.74878692626953, 112.23719024658203, 112.02633666992188], ([0, 0, 0], [0, 0, 1], [0, 1, 0], [0, 1, 1], [1, 0, 0], [1, 0, 1], [1, 1, 1], [1, 1, 0]), [99.32850646972656, 101.95207214355469, 92.23348999023438], ([0, 0, 0], [0, 0, 1], [0, 1, 0], [0, 1, 1], [1, 0, 0], [1, 1, 0], [1, 0, 1], [1, 1, 1]), [109.4934310913086, 68.52285766601562, 69.92340850830078], ([0, 0, 0], [0, 0, 1], [0, 1, 0], [0, 1, 1], [1, 0, 0], [1, 1, 0], [1, 1, 1], [1, 0, 1]), [98.31291198730469, 112.57115936279297, 122.3484115600586], ([0, 0, 0], [0, 0, 1], [0, 1, 0], [0, 1, 1], [1, 0, 0], [1, 1, 1], [1, 0, 1], [1, 1, 0]), [103.64986419677734, 101.21601867675781, 93.5998306274414]]\n"
     ]
    }
   ],
   "source": [
    "testorders=permutations(m)\n",
    "\n",
    "energylist = []\n",
    "\n",
    "for i,ms in zip(range(5),testorders):\n",
    "    energylist += [ms, [NetEnergy(trainNet(ms)) for j in range(3)]]\n",
    "\n",
    "print(energylist)"
   ]
  },
  {
   "cell_type": "code",
   "execution_count": 88,
   "metadata": {},
   "outputs": [
    {
     "data": {
      "text/plain": [
       "111.48381042480469"
      ]
     },
     "execution_count": 88,
     "metadata": {},
     "output_type": "execute_result"
    }
   ],
   "source": [
    "NetEnergy(IITnet)"
   ]
  },
  {
   "cell_type": "code",
   "execution_count": 87,
   "metadata": {
    "collapsed": true
   },
   "outputs": [],
   "source": [
    "def NetEnergy(net):\n",
    "    totalEnergy = 0.0\n",
    "    for para in net.parameters():\n",
    "        flat_para = para.view(para.numel())\n",
    "        totalEnergy += sum(flat_para * flat_para)\n",
    "    \n",
    "    return totalEnergy.item()"
   ]
  },
  {
   "cell_type": "code",
   "execution_count": 105,
   "metadata": {},
   "outputs": [
    {
     "data": {
      "text/plain": [
       "40315"
      ]
     },
     "execution_count": 105,
     "metadata": {},
     "output_type": "execute_result"
    }
   ],
   "source": [
    "len(list(testorders))"
   ]
  },
  {
   "cell_type": "code",
   "execution_count": 108,
   "metadata": {},
   "outputs": [
    {
     "data": {
      "text/plain": [
       "[[0, 0, 0],\n",
       " [0, 0, 1],\n",
       " [0, 1, 0],\n",
       " [0, 1, 1],\n",
       " [1, 0, 0],\n",
       " [1, 0, 1],\n",
       " [1, 1, 0],\n",
       " [1, 1, 1]]"
      ]
     },
     "execution_count": 108,
     "metadata": {},
     "output_type": "execute_result"
    }
   ],
   "source": [
    "m"
   ]
  },
  {
   "cell_type": "code",
   "execution_count": 124,
   "metadata": {},
   "outputs": [],
   "source": [
    "check = {}\n",
    "for order in permutations(m):\n",
    "    check[str(relabel(m, order))] = relabel(m, order)"
   ]
  },
  {
   "cell_type": "code",
   "execution_count": 127,
   "metadata": {},
   "outputs": [],
   "source": [
    "def AllLabelConfigurations(mat):\n",
    "    # 返回所有可能的重标记方法\n",
    "    _check = {}\n",
    "    for order in permutations(mat):\n",
    "        _check[str(relabel(mat, order))] = relabel(mat, order)\n",
    "    return list(_check.values())"
   ]
  },
  {
   "cell_type": "code",
   "execution_count": 129,
   "metadata": {
    "scrolled": true
   },
   "outputs": [
    {
     "data": {
      "text/plain": [
       "105"
      ]
     },
     "execution_count": 129,
     "metadata": {},
     "output_type": "execute_result"
    }
   ],
   "source": [
    "len(AllLabelConfigurations(m))"
   ]
  },
  {
   "cell_type": "code",
   "execution_count": 130,
   "metadata": {
    "collapsed": true
   },
   "outputs": [],
   "source": [
    "all_labels = AllLabelConfigurations(m)"
   ]
  },
  {
   "cell_type": "code",
   "execution_count": 161,
   "metadata": {},
   "outputs": [
    {
     "data": {
      "text/plain": [
       "125.50801086425781"
      ]
     },
     "execution_count": 161,
     "metadata": {},
     "output_type": "execute_result"
    }
   ],
   "source": [
    "NetEnergy(trainNet(all_labels[0].tolist()))"
   ]
  },
  {
   "cell_type": "code",
   "execution_count": null,
   "metadata": {
    "collapsed": true
   },
   "outputs": [],
   "source": []
  }
 ],
 "metadata": {
  "kernelspec": {
   "display_name": "Python 3",
   "language": "python",
   "name": "python3"
  },
  "language_info": {
   "codemirror_mode": {
    "name": "ipython",
    "version": 3
   },
   "file_extension": ".py",
   "mimetype": "text/x-python",
   "name": "python",
   "nbconvert_exporter": "python",
   "pygments_lexer": "ipython3",
   "version": "3.6.3"
  }
 },
 "nbformat": 4,
 "nbformat_minor": 2
}
