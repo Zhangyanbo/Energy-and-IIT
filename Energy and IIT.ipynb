{
 "cells": [
  {
   "cell_type": "markdown",
   "metadata": {},
   "source": [
    "## Logic to Karnaugh map"
   ]
  },
  {
   "cell_type": "markdown",
   "metadata": {},
   "source": [
    "[Wiki: Karnaugh map](https://en.wikipedia.org/wiki/Karnaugh_map)\n",
    "![](https://upload.wikimedia.org/wikipedia/commons/thumb/0/02/K-map_6%2C8%2C9%2C10%2C11%2C12%2C13%2C14_anti-race.svg/440px-K-map_6%2C8%2C9%2C10%2C11%2C12%2C13%2C14_anti-race.svg.png)"
   ]
  },
  {
   "cell_type": "code",
   "execution_count": 10,
   "metadata": {
    "collapsed": true
   },
   "outputs": [],
   "source": [
    "from sympy.combinatorics.graycode import GrayCode\n",
    "import numpy as np"
   ]
  },
  {
   "cell_type": "code",
   "execution_count": 3,
   "metadata": {},
   "outputs": [
    {
     "name": "stdout",
     "output_type": "stream",
     "text": [
      "['000', '001', '011', '010', '110', '111', '101', '100']\n"
     ]
    }
   ],
   "source": [
    "a = GrayCode(3)\n",
    "print(list(a.generate_gray()))"
   ]
  },
  {
   "cell_type": "code",
   "execution_count": 13,
   "metadata": {},
   "outputs": [
    {
     "data": {
      "text/plain": [
       "'00101'"
      ]
     },
     "execution_count": 13,
     "metadata": {},
     "output_type": "execute_result"
    }
   ],
   "source": [
    "np.binary_repr(5, width=5)"
   ]
  },
  {
   "cell_type": "code",
   "execution_count": 25,
   "metadata": {
    "collapsed": true
   },
   "outputs": [],
   "source": [
    "def ReverseBinCode(l):\n",
    "    # Generate reversed binary code for pyphi\n",
    "    maxIndex = 2 ** l - 1\n",
    "    return [np.binary_repr(maxIndex - index, width=l) for index in range(2 ** l)]"
   ]
  },
  {
   "cell_type": "code",
   "execution_count": null,
   "metadata": {
    "collapsed": true
   },
   "outputs": [],
   "source": [
    "def GrayCode2Index(gCode)"
   ]
  },
  {
   "cell_type": "code",
   "execution_count": 145,
   "metadata": {},
   "outputs": [],
   "source": [
    "# 输入状态转移列表，给出各个量的卡诺图矩阵\n",
    "\n",
    "def MapToKarnaughMap(_map):\n",
    "    # Turn map to MapToKarnaugh Maps\n",
    "    # Generate ReverseBinCode\n",
    "    index = ReverseBinCode(len(_map[0]))\n",
    "    #index = np.array([[int(char) for char in strcode] for strcode in index])\n",
    "    \n",
    "    dim1 = (int(len(_map[0]) / 2))\n",
    "    dim2 = (len(_map[0]) - int(len(_map[0]) / 2))\n",
    "    #print('dim =', dim1, 'x', dim2)\n",
    "    \n",
    "    gc1 = GrayCode(dim1)\n",
    "    gc2 = GrayCode(dim2)\n",
    "    gd1 = dict(zip(list(gc1.generate_gray()), range(2 ** dim1)))\n",
    "    gd2 = dict(zip(list(gc2.generate_gray()), range(2 ** dim2)))\n",
    "    #print(gd1)\n",
    "    #print(gd2)\n",
    "    \n",
    "    _map = np.array(_map).T\n",
    "    KarnaughMaps = []\n",
    "    for targetStates in _map:\n",
    "        #print('-------')\n",
    "        Karnaugh = np.array(([[0] * (2 ** dim1)]) * (2 ** dim2)).T\n",
    "        #print(Karnaugh)\n",
    "        for state, mcode in zip(index, targetStates):\n",
    "            #print(state, '->', mcode)\n",
    "            #print('c1=',state[0:dim1])\n",
    "            #print('c2=',state[dim1:])\n",
    "            Karnaugh[gd1[state[0:dim1]], gd2[state[dim1:]]] = mcode\n",
    "        KarnaughMaps += [Karnaugh]\n",
    "        #print(Karnaugh)\n",
    "    \n",
    "    return np.array(KarnaughMaps)"
   ]
  },
  {
   "cell_type": "code",
   "execution_count": 147,
   "metadata": {
    "collapsed": true
   },
   "outputs": [],
   "source": [
    "def IsingEnergy(mat, energy={0:-1, 1:1}):\n",
    "    \n",
    "    return 0"
   ]
  },
  {
   "cell_type": "code",
   "execution_count": 146,
   "metadata": {},
   "outputs": [
    {
     "data": {
      "text/plain": [
       "array([[[1, 1, 1, 1],\n",
       "        [0, 0, 0, 0]],\n",
       "\n",
       "       [[1, 1, 0, 0],\n",
       "        [1, 1, 0, 0]],\n",
       "\n",
       "       [[1, 0, 0, 1],\n",
       "        [1, 0, 0, 1]]])"
      ]
     },
     "execution_count": 146,
     "metadata": {},
     "output_type": "execute_result"
    }
   ],
   "source": [
    "m = [\n",
    "    [0,0,0],\n",
    "    [0,0,1],\n",
    "    [0,1,0],\n",
    "    [0,1,1],\n",
    "    [1,0,0],\n",
    "    [1,0,1],\n",
    "    [1,1,0],\n",
    "    [1,1,1]\n",
    "    ]\n",
    "MapToKarnaughMap(m)"
   ]
  },
  {
   "cell_type": "code",
   "execution_count": 112,
   "metadata": {},
   "outputs": [
    {
     "data": {
      "text/plain": [
       "array([1, 2])"
      ]
     },
     "execution_count": 112,
     "metadata": {},
     "output_type": "execute_result"
    }
   ],
   "source": [
    "np.array([1,2,3,4,5])[0:2]"
   ]
  },
  {
   "cell_type": "code",
   "execution_count": null,
   "metadata": {
    "collapsed": true
   },
   "outputs": [],
   "source": []
  }
 ],
 "metadata": {
  "kernelspec": {
   "display_name": "Python 3",
   "language": "python",
   "name": "python3"
  },
  "language_info": {
   "codemirror_mode": {
    "name": "ipython",
    "version": 3
   },
   "file_extension": ".py",
   "mimetype": "text/x-python",
   "name": "python",
   "nbconvert_exporter": "python",
   "pygments_lexer": "ipython3",
   "version": "3.6.3"
  }
 },
 "nbformat": 4,
 "nbformat_minor": 2
}
