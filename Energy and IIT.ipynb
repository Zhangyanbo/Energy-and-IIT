{
 "cells": [
  {
   "cell_type": "markdown",
   "metadata": {},
   "source": [
    "## Logic to Karnaugh map"
   ]
  },
  {
   "cell_type": "markdown",
   "metadata": {},
   "source": [
    "[Wiki: Karnaugh map](https://en.wikipedia.org/wiki/Karnaugh_map)\n",
    "![](https://upload.wikimedia.org/wikipedia/commons/thumb/0/02/K-map_6%2C8%2C9%2C10%2C11%2C12%2C13%2C14_anti-race.svg/440px-K-map_6%2C8%2C9%2C10%2C11%2C12%2C13%2C14_anti-race.svg.png)"
   ]
  },
  {
   "cell_type": "code",
   "execution_count": 8,
   "metadata": {
    "collapsed": true
   },
   "outputs": [],
   "source": [
    "from sympy.combinatorics.graycode import GrayCode\n",
    "from itertools import permutations\n",
    "import numpy as np"
   ]
  },
  {
   "cell_type": "code",
   "execution_count": 9,
   "metadata": {
    "collapsed": true
   },
   "outputs": [],
   "source": [
    "def ReverseBinCode(l):\n",
    "    # Generate reversed binary code for pyphi\n",
    "    maxIndex = 2 ** l - 1\n",
    "    return [np.binary_repr(maxIndex - index, width=l) for index in range(2 ** l)]"
   ]
  },
  {
   "cell_type": "markdown",
   "metadata": {},
   "source": [
    "## 输入`pyphi`中状态转移矩阵，给出各个变量的卡诺图"
   ]
  },
  {
   "cell_type": "code",
   "execution_count": 10,
   "metadata": {
    "collapsed": true
   },
   "outputs": [],
   "source": [
    "# 输入状态转移列表，给出各个量的卡诺图矩阵\n",
    "\n",
    "def MapToKarnaughMap(_map):\n",
    "    # Turn map to MapToKarnaugh Maps\n",
    "    # Generate ReverseBinCode\n",
    "    index = ReverseBinCode(len(_map[0]))\n",
    "    #index = np.array([[int(char) for char in strcode] for strcode in index])\n",
    "    \n",
    "    dim1 = (int(len(_map[0]) / 2))\n",
    "    dim2 = (len(_map[0]) - int(len(_map[0]) / 2))\n",
    "    #print('dim =', dim1, 'x', dim2)\n",
    "    \n",
    "    gc1 = GrayCode(dim1)\n",
    "    gc2 = GrayCode(dim2)\n",
    "    gd1 = dict(zip(list(gc1.generate_gray()), range(2 ** dim1)))\n",
    "    gd2 = dict(zip(list(gc2.generate_gray()), range(2 ** dim2)))\n",
    "    #print(gd1)\n",
    "    #print(gd2)\n",
    "    \n",
    "    _map = np.array(_map).T\n",
    "    KarnaughMaps = []\n",
    "    for targetStates in _map:\n",
    "        #print('-------')\n",
    "        Karnaugh = np.array(([[0] * (2 ** dim1)]) * (2 ** dim2)).T\n",
    "        #print(Karnaugh)\n",
    "        for state, mcode in zip(index, targetStates):\n",
    "            #print(state, '->', mcode)\n",
    "            #print('c1=',state[0:dim1])\n",
    "            #print('c2=',state[dim1:])\n",
    "            Karnaugh[gd1[state[0:dim1]], gd2[state[dim1:]]] = mcode\n",
    "        KarnaughMaps += [Karnaugh]\n",
    "        #print(Karnaugh)\n",
    "    \n",
    "    return np.array(KarnaughMaps)"
   ]
  },
  {
   "cell_type": "markdown",
   "metadata": {},
   "source": [
    "## 输入矩阵，给出Ising模型能量"
   ]
  },
  {
   "cell_type": "code",
   "execution_count": 11,
   "metadata": {
    "collapsed": true
   },
   "outputs": [],
   "source": [
    "def IsingEnergy(mat, energy={0:-1, 1:1}):\n",
    "    # 给出mat的Ising能量\n",
    "    # Return Ising energy of mat\n",
    "    mat = np.array(mat)\n",
    "    # If mat is a list of mat, then return all energy\n",
    "    if len(mat.shape) == 3:\n",
    "        return np.array([IsingEnergy(_mat, energy) for _mat in mat])\n",
    "    # Otherwise return this energy\n",
    "    x, y = mat.shape\n",
    "    total_E = 0\n",
    "    for i in range(x):\n",
    "        for j in range(y):\n",
    "            total_E += energy[mat[i][j]] * energy[mat[(i - 1) % x][j]]\n",
    "            total_E += energy[mat[i][j]] * energy[mat[(i + 1) % x][j]]\n",
    "            total_E += energy[mat[i][j]] * energy[mat[i][(j - 1) % y]]\n",
    "            total_E += energy[mat[i][j]] * energy[mat[i][(j + 1) % y]]\n",
    "    return -total_E"
   ]
  },
  {
   "cell_type": "code",
   "execution_count": 5,
   "metadata": {},
   "outputs": [
    {
     "data": {
      "text/plain": [
       "array([[[1, 1, 1, 1],\n",
       "        [0, 0, 0, 0]],\n",
       "\n",
       "       [[1, 1, 0, 0],\n",
       "        [1, 1, 0, 0]],\n",
       "\n",
       "       [[1, 0, 0, 1],\n",
       "        [1, 0, 0, 1]]])"
      ]
     },
     "execution_count": 5,
     "metadata": {},
     "output_type": "execute_result"
    }
   ],
   "source": [
    "m = [\n",
    "    [0,0,0],\n",
    "    [0,0,1],\n",
    "    [0,1,0],\n",
    "    [0,1,1],\n",
    "    [1,0,0],\n",
    "    [1,0,1],\n",
    "    [1,1,0],\n",
    "    [1,1,1]\n",
    "    ]\n",
    "MapToKarnaughMap(m)"
   ]
  },
  {
   "cell_type": "markdown",
   "metadata": {},
   "source": [
    "## 对状态名重新标记 Relabel"
   ]
  },
  {
   "cell_type": "code",
   "execution_count": 7,
   "metadata": {
    "collapsed": true
   },
   "outputs": [],
   "source": [
    "testorder=permutations(m).__next__()"
   ]
  },
  {
   "cell_type": "code",
   "execution_count": 32,
   "metadata": {
    "collapsed": true
   },
   "outputs": [],
   "source": []
  },
  {
   "cell_type": "code",
   "execution_count": 8,
   "metadata": {},
   "outputs": [
    {
     "name": "stdout",
     "output_type": "stream",
     "text": [
      "[[0 0 0]\n",
      " [0 0 1]\n",
      " [0 1 0]\n",
      " [0 1 1]\n",
      " [1 0 0]\n",
      " [1 0 1]\n",
      " [1 1 0]\n",
      " [1 1 1]]\n"
     ]
    }
   ],
   "source": [
    "print(relabel(m, testorder))"
   ]
  },
  {
   "cell_type": "code",
   "execution_count": 9,
   "metadata": {},
   "outputs": [
    {
     "ename": "NameError",
     "evalue": "name 'testM' is not defined",
     "output_type": "error",
     "traceback": [
      "\u001b[1;31m---------------------------------------------------------------------------\u001b[0m",
      "\u001b[1;31mNameError\u001b[0m                                 Traceback (most recent call last)",
      "\u001b[1;32m<ipython-input-9-52bcd0234e71>\u001b[0m in \u001b[0;36m<module>\u001b[1;34m\u001b[0m\n\u001b[1;32m----> 1\u001b[1;33m \u001b[0mMapToKarnaughMap\u001b[0m\u001b[1;33m(\u001b[0m\u001b[0mrelabel\u001b[0m\u001b[1;33m(\u001b[0m\u001b[0mtestM\u001b[0m\u001b[1;33m,\u001b[0m \u001b[0mtestOrder\u001b[0m\u001b[1;33m)\u001b[0m\u001b[1;33m)\u001b[0m\u001b[1;33m\u001b[0m\u001b[1;33m\u001b[0m\u001b[0m\n\u001b[0m",
      "\u001b[1;31mNameError\u001b[0m: name 'testM' is not defined"
     ]
    }
   ],
   "source": [
    "MapToKarnaughMap(relabel(testM, testOrder))"
   ]
  },
  {
   "cell_type": "markdown",
   "metadata": {},
   "source": [
    "## 计算不同排序的Ising能量"
   ]
  },
  {
   "cell_type": "code",
   "execution_count": 54,
   "metadata": {},
   "outputs": [
    {
     "name": "stdout",
     "output_type": "stream",
     "text": [
      "[0, -16, -16, 0, -16, 32, 0, -16, -16, 0, 8, 8, 0, 8, 8, 0, 32, -16, 0, -16, 32, 0, -16, -16, 0, 8, 8, 0, 0, -16, 0, 16, 16, 0, 8, 8, 0, 8, 8, 0, 16, 16, 0, 32, -16, 0, 8, 8, 0, -16, -16, 0, -16, 0, 0, 0, -16, 0, 8, 8, 0, 8, 8, 0, -16, -16, 0, -16, 0, 0, -16, -16, 0, -16, -16, 0, -16, 32, 0, -16, -16, 0, 8, 8, 0, 8, 8, 0, 32, -16, -16, 0, -16, -16, 0, 32, 0, 0, 0, 8, 0, 8, 0, 16, 16, 8, 16, -16, 0, 0, 0, 0, 16, 16, -16, -16, 0, 8, -16, 16, -16, 32, 0, 8, 8, 0, 8, 0, 8, 8, 16, -16, 8, -16, 16, 32, -16, -16, 8, 8, 0, 32, -16, -16, 0, -16, 32, 0, -16, -16]\n"
     ]
    }
   ],
   "source": [
    "m = [\n",
    "    [0,0,0],\n",
    "    [0,0,1],\n",
    "    [0,1,0],\n",
    "    [0,1,1],\n",
    "    [1,0,0],\n",
    "    [1,0,1],\n",
    "    [1,1,0],\n",
    "    [1,1,1]\n",
    "    ]\n",
    "energyList = []\n",
    "maxlen = 50\n",
    "\n",
    "testorders=permutations(m)\n",
    "\n",
    "for i, order in zip(range(maxlen), testorders):\n",
    "    current_m = relabel(m, list(order))\n",
    "    energy = [IsingEnergy(kmap) for kmap in MapToKarnaughMap(current_m)]\n",
    "    energyList += energy\n",
    "\n",
    "print(energyList)"
   ]
  },
  {
   "cell_type": "markdown",
   "metadata": {
    "collapsed": true
   },
   "source": [
    "## NN for learning dynamic of network"
   ]
  },
  {
   "cell_type": "code",
   "execution_count": 14,
   "metadata": {
    "collapsed": true
   },
   "outputs": [],
   "source": [
    "import torch\n",
    "import torch.nn as nn\n",
    "import torch.nn.functional as F\n",
    "import torch.utils.data as data\n",
    "import torch.optim as optim"
   ]
  },
  {
   "cell_type": "code",
   "execution_count": 15,
   "metadata": {
    "collapsed": true
   },
   "outputs": [],
   "source": [
    "class net(nn.Module):\n",
    "    def __init__(self, size_vis, size_hidden):\n",
    "        super(net, self).__init__()\n",
    "        self.fcn_v = nn.Linear(size_vis, size_vis)\n",
    "        self.fcn_v2h = nn.Linear(size_vis, size_hidden)\n",
    "        self.fcn_h2v = nn.Linear(size_hidden, size_vis)\n",
    "        \n",
    "    def forward(self, x):\n",
    "        h = torch.sigmoid(self.fcn_v2h(x))\n",
    "        xp = torch.sigmoid(self.fcn_v(x))\n",
    "        \n",
    "        xout = torch.sigmoid(self.fcn_h2v(h) + self.fcn_v(xp))\n",
    "        \n",
    "        return xout"
   ]
  },
  {
   "cell_type": "code",
   "execution_count": 12,
   "metadata": {
    "collapsed": true
   },
   "outputs": [],
   "source": [
    "IITnet = net(3, 4)"
   ]
  },
  {
   "cell_type": "code",
   "execution_count": 13,
   "metadata": {},
   "outputs": [
    {
     "data": {
      "text/plain": [
       "tensor([0.5867, 0.4844, 0.2930], grad_fn=<SigmoidBackward>)"
      ]
     },
     "execution_count": 13,
     "metadata": {},
     "output_type": "execute_result"
    }
   ],
   "source": [
    "IITnet.forward(torch.Tensor([0,0,0]))"
   ]
  },
  {
   "cell_type": "code",
   "execution_count": 28,
   "metadata": {
    "collapsed": true
   },
   "outputs": [],
   "source": [
    "m = [\n",
    "    [0,0,0],\n",
    "    [0,0,1],\n",
    "    [0,1,0],\n",
    "    [0,1,1],\n",
    "    [1,0,0],\n",
    "    [1,0,1],\n",
    "    [1,1,0],\n",
    "    [1,1,1]\n",
    "    ]"
   ]
  },
  {
   "cell_type": "code",
   "execution_count": 16,
   "metadata": {},
   "outputs": [],
   "source": [
    "def BinCodeList(length):\n",
    "    s = ReverseBinCode(length)\n",
    "\n",
    "    return [[int(char) for char in ss] for ss in s]\n",
    "\n",
    "class graphData(data.Dataset):\n",
    "    def __init__(self, _m):\n",
    "        super(graphData, self).__init__()\n",
    "        self.inputs = BinCodeList(len(m[0]))\n",
    "        self.m = _m\n",
    "        \n",
    "    def __len__(self):\n",
    "        return len(self.inputs)\n",
    "    def __getitem__(self, index):\n",
    "        return self.inputs[index], self.m[index]"
   ]
  },
  {
   "cell_type": "code",
   "execution_count": 93,
   "metadata": {},
   "outputs": [
    {
     "name": "stdout",
     "output_type": "stream",
     "text": [
      "epco 0 loss: 0.22029556334018707\n",
      "epco 400 loss: 0.08167281746864319\n",
      "epco 800 loss: 0.021813470870256424\n",
      "epco 1200 loss: 0.014217870309948921\n",
      "epco 1600 loss: 0.012218523770570755\n",
      "epco 2000 loss: 0.011513054370880127\n",
      "epco 2400 loss: 0.011218958534300327\n",
      "epco 2800 loss: 0.011076707392930984\n",
      "epco 3200 loss: 0.010997287929058075\n",
      "epco 3600 loss: 0.010946993716061115\n"
     ]
    }
   ],
   "source": [
    "IITnet = net(3, 4)\n",
    "\n",
    "\n",
    "\n",
    "dataset = graphData(m)\n",
    "setLoader = data.DataLoader(dataset, batch_size = 1)\n",
    "optimizer = optim.SGD(IITnet.parameters(), lr = 0.01, momentum=0.9, weight_decay=0.0005)\n",
    "\n",
    "loss_fn = torch.nn.MSELoss()\n",
    "\n",
    "for epco in range(4000):\n",
    "    for inputdata, target in setLoader:\n",
    "        optimizer.zero_grad()\n",
    "        output = IITnet.forward(torch.Tensor(inputdata))\n",
    "        loss = loss_fn(output, torch.Tensor(target))\n",
    "        loss.backward()\n",
    "        optimizer.step()\n",
    "    if epco % 400 == 0:\n",
    "        print('epco', epco, 'loss:',loss.item())"
   ]
  },
  {
   "cell_type": "code",
   "execution_count": 17,
   "metadata": {
    "collapsed": true
   },
   "outputs": [],
   "source": [
    "def trainNet(_m):\n",
    "    _IITnet = net(3, 4)\n",
    "\n",
    "    dataset = graphData(_m)\n",
    "    setLoader = data.DataLoader(dataset, batch_size = 1)\n",
    "    optimizer = optim.SGD(_IITnet.parameters(), lr = 0.01, momentum=0.9, weight_decay=0.0005)\n",
    "\n",
    "    loss_fn = torch.nn.MSELoss()\n",
    "\n",
    "    for epco in range(1400):\n",
    "        for inputdata, target in setLoader:\n",
    "            optimizer.zero_grad()\n",
    "            output = _IITnet.forward(torch.Tensor(inputdata))\n",
    "            loss = loss_fn(output, torch.Tensor(target))\n",
    "            loss.backward()\n",
    "            optimizer.step()\n",
    "        #if epco % 400 == 0:\n",
    "            #print('epco', epco, 'loss:',loss.item())\n",
    "    return _IITnet"
   ]
  },
  {
   "cell_type": "code",
   "execution_count": 30,
   "metadata": {},
   "outputs": [
    {
     "name": "stdout",
     "output_type": "stream",
     "text": [
      "4.8015077114105225\n"
     ]
    }
   ],
   "source": [
    "import time\n",
    "\n",
    "start = time.time()\n",
    "\n",
    "trainNet(m)\n",
    "\n",
    "end = time.time()\n",
    "print(end-start)"
   ]
  },
  {
   "cell_type": "code",
   "execution_count": 104,
   "metadata": {},
   "outputs": [
    {
     "name": "stdout",
     "output_type": "stream",
     "text": [
      "[([0, 0, 0], [0, 0, 1], [0, 1, 0], [0, 1, 1], [1, 0, 0], [1, 0, 1], [1, 1, 0], [1, 1, 1]), [113.74878692626953, 112.23719024658203, 112.02633666992188], ([0, 0, 0], [0, 0, 1], [0, 1, 0], [0, 1, 1], [1, 0, 0], [1, 0, 1], [1, 1, 1], [1, 1, 0]), [99.32850646972656, 101.95207214355469, 92.23348999023438], ([0, 0, 0], [0, 0, 1], [0, 1, 0], [0, 1, 1], [1, 0, 0], [1, 1, 0], [1, 0, 1], [1, 1, 1]), [109.4934310913086, 68.52285766601562, 69.92340850830078], ([0, 0, 0], [0, 0, 1], [0, 1, 0], [0, 1, 1], [1, 0, 0], [1, 1, 0], [1, 1, 1], [1, 0, 1]), [98.31291198730469, 112.57115936279297, 122.3484115600586], ([0, 0, 0], [0, 0, 1], [0, 1, 0], [0, 1, 1], [1, 0, 0], [1, 1, 1], [1, 0, 1], [1, 1, 0]), [103.64986419677734, 101.21601867675781, 93.5998306274414]]\n"
     ]
    }
   ],
   "source": [
    "testorders=permutations(m)\n",
    "\n",
    "energylist = []\n",
    "\n",
    "for i,ms in zip(range(5),testorders):\n",
    "    energylist += [ms, [NetEnergy(trainNet(ms)) for j in range(3)]]\n",
    "\n",
    "print(energylist)"
   ]
  },
  {
   "cell_type": "code",
   "execution_count": 23,
   "metadata": {},
   "outputs": [
    {
     "data": {
      "text/plain": [
       "4.904812335968018"
      ]
     },
     "execution_count": 23,
     "metadata": {},
     "output_type": "execute_result"
    }
   ],
   "source": [
    "NetEnergy(IITnet)"
   ]
  },
  {
   "cell_type": "code",
   "execution_count": 24,
   "metadata": {
    "collapsed": true
   },
   "outputs": [],
   "source": [
    "def NetEnergy(net):\n",
    "    totalEnergy = 0.0\n",
    "    for para in net.parameters():\n",
    "        flat_para = para.view(para.numel())\n",
    "        totalEnergy += sum(flat_para * flat_para)\n",
    "    \n",
    "    return totalEnergy.item()"
   ]
  },
  {
   "cell_type": "code",
   "execution_count": 105,
   "metadata": {},
   "outputs": [
    {
     "data": {
      "text/plain": [
       "40315"
      ]
     },
     "execution_count": 105,
     "metadata": {},
     "output_type": "execute_result"
    }
   ],
   "source": [
    "len(list(testorders))"
   ]
  },
  {
   "cell_type": "code",
   "execution_count": 108,
   "metadata": {},
   "outputs": [
    {
     "data": {
      "text/plain": [
       "[[0, 0, 0],\n",
       " [0, 0, 1],\n",
       " [0, 1, 0],\n",
       " [0, 1, 1],\n",
       " [1, 0, 0],\n",
       " [1, 0, 1],\n",
       " [1, 1, 0],\n",
       " [1, 1, 1]]"
      ]
     },
     "execution_count": 108,
     "metadata": {},
     "output_type": "execute_result"
    }
   ],
   "source": [
    "m"
   ]
  },
  {
   "cell_type": "code",
   "execution_count": 124,
   "metadata": {
    "collapsed": true
   },
   "outputs": [],
   "source": [
    "check = {}\n",
    "for order in permutations(m):\n",
    "    check[str(relabel(m, order))] = relabel(m, order)"
   ]
  },
  {
   "cell_type": "code",
   "execution_count": 46,
   "metadata": {
    "collapsed": true
   },
   "outputs": [],
   "source": [
    "def code2str(codeList):\n",
    "    s = ''\n",
    "    for i in codeList:\n",
    "        s += str(i)\n",
    "    return s\n",
    "\n",
    "def relabel(m0, order):\n",
    "    length = len(m0[0])\n",
    "    bcode = ReverseBinCode(length)\n",
    "    reorderRule = {}\n",
    "    for originLabel, newLabel in zip(bcode, order):\n",
    "        reorderRule[originLabel] = newLabel\n",
    "    #print(reorderRule)\n",
    "    rule = {}\n",
    "    # 初始化rule\n",
    "    for currentState, nextState in zip(bcode, m0):\n",
    "        rule[code2str(currentState)] = nextState\n",
    "    # 更新顺序\n",
    "    for currentState, nextState in zip(bcode, m0):\n",
    "        #print(reorderRule[code2str(currentState)], 'to', str(nextState))\n",
    "        rule[code2str(reorderRule[code2str(currentState)])] = reorderRule[code2str(nextState)]\n",
    "    \n",
    "    new_m = [rule[startState] for startState in ReverseBinCode(length)]\n",
    "    \n",
    "    return np.array(new_m)\n",
    "\n",
    "def AllLabelConfigurations(mat):\n",
    "    # 返回所有可能的重标记方法\n",
    "    _check = {}\n",
    "    for order in permutations(mat):\n",
    "        _check[str(relabel(mat, list(order)))] = relabel(mat, list(order))\n",
    "    return list(_check.values())"
   ]
  },
  {
   "cell_type": "code",
   "execution_count": 47,
   "metadata": {},
   "outputs": [
    {
     "data": {
      "text/plain": [
       "array([[0, 0, 0],\n",
       "       [0, 0, 1],\n",
       "       [1, 0, 1],\n",
       "       [1, 0, 0],\n",
       "       [1, 1, 0],\n",
       "       [1, 1, 1],\n",
       "       [1, 1, 1],\n",
       "       [1, 1, 0]])"
      ]
     },
     "execution_count": 47,
     "metadata": {},
     "output_type": "execute_result"
    }
   ],
   "source": [
    "relabel(m,[[0, 0, 0], [0, 0, 1], [1, 0, 1], [1, 0, 0], [1, 1, 0], [1, 1, 1], [1, 1, 1], [1, 1, 0]])"
   ]
  },
  {
   "cell_type": "code",
   "execution_count": 25,
   "metadata": {
    "scrolled": true
   },
   "outputs": [
    {
     "data": {
      "text/plain": [
       "105"
      ]
     },
     "execution_count": 25,
     "metadata": {},
     "output_type": "execute_result"
    }
   ],
   "source": [
    "len(AllLabelConfigurations(m))"
   ]
  },
  {
   "cell_type": "code",
   "execution_count": 26,
   "metadata": {
    "collapsed": true
   },
   "outputs": [],
   "source": [
    "all_labels = AllLabelConfigurations(m)"
   ]
  },
  {
   "cell_type": "code",
   "execution_count": 161,
   "metadata": {},
   "outputs": [
    {
     "data": {
      "text/plain": [
       "125.50801086425781"
      ]
     },
     "execution_count": 161,
     "metadata": {},
     "output_type": "execute_result"
    }
   ],
   "source": [
    "NetEnergy(trainNet(all_labels[0].tolist()))"
   ]
  },
  {
   "cell_type": "code",
   "execution_count": 31,
   "metadata": {},
   "outputs": [
    {
     "name": "stdout",
     "output_type": "stream",
     "text": [
      "[[111.5406494140625, 109.67989349365234, 110.9552993774414, 108.75184631347656, 114.32801055908203, 112.37532043457031, 112.61180877685547, 109.82459259033203, 111.62741088867188, 113.04523468017578, 119.81019592285156, 112.51264953613281, 115.0881118774414, 109.69331359863281, 110.81085968017578, 110.8729248046875, 110.69241333007812, 107.08590698242188, 113.44341278076172, 114.39774322509766, 108.85160064697266, 109.6169662475586, 111.40321350097656, 114.26602935791016, 112.2437744140625, 109.07392120361328, 109.16975402832031, 107.95294189453125, 110.02708435058594, 110.11180114746094, 113.12081146240234, 109.57000732421875, 108.73204803466797, 108.83275604248047, 108.76665496826172, 108.86824035644531, 110.09841918945312, 110.09121704101562, 109.96764373779297, 107.59036254882812], [72.22057342529297, 74.84281921386719, 64.8193130493164, 67.5648422241211, 70.52532196044922, 67.50662231445312, 78.20569610595703, 65.0877914428711, 72.6133041381836, 89.07587432861328, 65.60433197021484, 67.70660400390625, 68.00096130371094, 64.71697235107422, 74.38811492919922, 65.38185119628906, 71.3641128540039, 85.97294616699219, 101.23851776123047, 69.98480987548828, 67.02584838867188, 88.22820281982422, 69.56531524658203, 65.07118225097656, 68.01061248779297, 65.0535888671875, 65.8294906616211, 88.68376159667969, 67.74127197265625, 94.36705780029297, 75.68016052246094, 67.24849700927734, 78.528076171875, 65.8861083984375, 88.3489761352539, 69.08977508544922, 90.478759765625, 75.8103256225586, 90.41149139404297, 75.02064514160156], [117.2233657836914, 125.0372543334961, 109.6888427734375, 111.49925231933594, 110.75116729736328, 109.9981918334961, 113.56477355957031, 116.72833251953125, 111.61629486083984, 113.84720611572266, 110.78685760498047, 116.90801239013672, 111.10768127441406, 111.54426574707031, 110.24624633789062, 112.24322509765625, 111.87388610839844, 110.84176635742188, 109.61512756347656, 121.33712005615234, 121.27110290527344, 116.41744232177734, 111.23687744140625, 109.80029296875, 110.80962371826172, 111.2088623046875, 111.039306640625, 112.98529815673828, 111.67973327636719, 110.54353332519531, 115.41927337646484, 110.6647720336914, 111.65760803222656, 109.76363372802734, 112.39330291748047, 113.09862518310547, 116.54730987548828, 124.3017807006836, 112.80619049072266, 112.32218170166016], [92.33406066894531, 88.81129455566406, 94.4762191772461, 100.27243041992188, 80.93855285644531, 91.24212646484375, 89.04067993164062, 83.60453033447266, 78.21076202392578, 76.72676849365234, 94.74561309814453, 93.61354064941406, 99.22700500488281, 92.38829803466797, 91.83456420898438, 81.12528991699219, 75.7118911743164, 91.066162109375, 97.93385314941406, 75.10762023925781, 86.1317138671875, 94.1889877319336, 81.2527847290039, 92.65775299072266, 89.99980163574219, 94.95279693603516, 85.70132446289062, 91.04065704345703, 94.31106567382812, 91.8089599609375, 80.6400375366211, 86.25846099853516, 89.62185668945312, 89.74605560302734, 102.40279388427734, 99.4928207397461, 80.06448364257812, 89.1058349609375, 90.80117797851562, 96.17495727539062], [88.75968933105469, 81.18256378173828, 91.36408996582031, 74.2540283203125, 81.22371673583984, 77.83499908447266, 81.48778533935547, 99.1550521850586, 82.49799346923828, 102.99117279052734, 76.14407348632812, 85.31900024414062, 80.57069396972656, 96.19850158691406, 83.41686248779297, 93.59716033935547, 105.33768463134766, 77.3218765258789, 89.48416137695312, 72.47371673583984, 90.8436279296875, 87.32013702392578, 94.12059783935547, 88.99519348144531, 85.32447052001953, 88.8046646118164, 93.7333755493164, 74.50273132324219, 78.92732238769531, 93.85636901855469, 81.11354064941406, 73.4670181274414, 89.14464569091797, 91.92333221435547, 88.14851379394531, 81.90740966796875, 110.52220916748047, 92.70999908447266, 94.61332702636719, 82.19569396972656]]\n",
      "time cost: 961.2007584571838\n"
     ]
    }
   ],
   "source": [
    "energys = []\n",
    "\n",
    "# expect time: 16min\n",
    "start = time.time()\n",
    "for i, graph in zip(range(5), all_labels):\n",
    "    energys += [[NetEnergy(trainNet(graph.tolist())) for j in range(40)]]\n",
    "    \n",
    "end = time.time()\n",
    "print(energys)\n",
    "print('time cost:', end-start)"
   ]
  },
  {
   "cell_type": "markdown",
   "metadata": {},
   "source": [
    "# 测试矩阵"
   ]
  },
  {
   "cell_type": "code",
   "execution_count": 30,
   "metadata": {
    "collapsed": true
   },
   "outputs": [],
   "source": [
    "m = [[0, 0, 0],\n",
    "     [0, 0, 1],\n",
    "     [1, 0, 1],\n",
    "     [1, 0, 0],\n",
    "     [1, 1, 0],\n",
    "     [1, 1, 1],\n",
    "     [1, 1, 1],\n",
    "     [1, 1, 0]]"
   ]
  },
  {
   "cell_type": "code",
   "execution_count": 4,
   "metadata": {
    "collapsed": true
   },
   "outputs": [],
   "source": [
    "import multiprocessing"
   ]
  },
  {
   "cell_type": "code",
   "execution_count": 19,
   "metadata": {},
   "outputs": [],
   "source": [
    "core = multiprocessing.cpu_count()\n",
    "pool = multiprocessing.Pool(processes=core-1)"
   ]
  },
  {
   "cell_type": "code",
   "execution_count": 20,
   "metadata": {},
   "outputs": [
    {
     "name": "stdout",
     "output_type": "stream",
     "text": [
      "8.818902015686035\n",
      "[net(\n",
      "  (fcn_v): Linear(in_features=3, out_features=3, bias=True)\n",
      "  (fcn_v2h): Linear(in_features=3, out_features=4, bias=True)\n",
      "  (fcn_h2v): Linear(in_features=4, out_features=3, bias=True)\n",
      "), net(\n",
      "  (fcn_v): Linear(in_features=3, out_features=3, bias=True)\n",
      "  (fcn_v2h): Linear(in_features=3, out_features=4, bias=True)\n",
      "  (fcn_h2v): Linear(in_features=4, out_features=3, bias=True)\n",
      "), net(\n",
      "  (fcn_v): Linear(in_features=3, out_features=3, bias=True)\n",
      "  (fcn_v2h): Linear(in_features=3, out_features=4, bias=True)\n",
      "  (fcn_h2v): Linear(in_features=4, out_features=3, bias=True)\n",
      "), net(\n",
      "  (fcn_v): Linear(in_features=3, out_features=3, bias=True)\n",
      "  (fcn_v2h): Linear(in_features=3, out_features=4, bias=True)\n",
      "  (fcn_h2v): Linear(in_features=4, out_features=3, bias=True)\n",
      ")]\n"
     ]
    }
   ],
   "source": [
    "import time\n",
    "\n",
    "start = time.time()\n",
    "\n",
    "trainNet(m)\n",
    "\n",
    "nets = pool.map(trainNet, [m for i in range(4)])\n",
    "\n",
    "end = time.time()\n",
    "print(end-start)\n",
    "print(nets)"
   ]
  },
  {
   "cell_type": "code",
   "execution_count": 48,
   "metadata": {},
   "outputs": [],
   "source": [
    "all_labels = AllLabelConfigurations(m)"
   ]
  },
  {
   "cell_type": "code",
   "execution_count": 49,
   "metadata": {},
   "outputs": [
    {
     "data": {
      "text/plain": [
       "1714"
      ]
     },
     "execution_count": 49,
     "metadata": {},
     "output_type": "execute_result"
    }
   ],
   "source": [
    "len(all_labels)"
   ]
  },
  {
   "cell_type": "code",
   "execution_count": null,
   "metadata": {
    "collapsed": true
   },
   "outputs": [],
   "source": []
  }
 ],
 "metadata": {
  "kernelspec": {
   "display_name": "Python 3",
   "language": "python",
   "name": "python3"
  },
  "language_info": {
   "codemirror_mode": {
    "name": "ipython",
    "version": 3
   },
   "file_extension": ".py",
   "mimetype": "text/x-python",
   "name": "python",
   "nbconvert_exporter": "python",
   "pygments_lexer": "ipython3",
   "version": "3.6.3"
  }
 },
 "nbformat": 4,
 "nbformat_minor": 2
}
