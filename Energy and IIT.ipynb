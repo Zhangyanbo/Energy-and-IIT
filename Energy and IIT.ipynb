{
 "cells": [
  {
   "cell_type": "markdown",
   "metadata": {},
   "source": [
    "## Logic to Karnaugh map"
   ]
  },
  {
   "cell_type": "markdown",
   "metadata": {},
   "source": [
    "[Wiki: Karnaugh map](https://en.wikipedia.org/wiki/Karnaugh_map)\n",
    "![](https://upload.wikimedia.org/wikipedia/commons/thumb/0/02/K-map_6%2C8%2C9%2C10%2C11%2C12%2C13%2C14_anti-race.svg/440px-K-map_6%2C8%2C9%2C10%2C11%2C12%2C13%2C14_anti-race.svg.png)"
   ]
  },
  {
   "cell_type": "code",
   "execution_count": 1,
   "metadata": {
    "collapsed": true
   },
   "outputs": [],
   "source": [
    "from sympy.combinatorics.graycode import GrayCode\n",
    "from itertools import permutations\n",
    "import numpy as np"
   ]
  },
  {
   "cell_type": "code",
   "execution_count": 2,
   "metadata": {
    "collapsed": true
   },
   "outputs": [],
   "source": [
    "def ReverseBinCode(l):\n",
    "    # Generate reversed binary code for pyphi\n",
    "    maxIndex = 2 ** l - 1\n",
    "    return [np.binary_repr(maxIndex - index, width=l) for index in range(2 ** l)]"
   ]
  },
  {
   "cell_type": "markdown",
   "metadata": {},
   "source": [
    "## 输入`pyphi`中状态转移矩阵，给出各个变量的卡诺图"
   ]
  },
  {
   "cell_type": "code",
   "execution_count": 3,
   "metadata": {
    "collapsed": true
   },
   "outputs": [],
   "source": [
    "# 输入状态转移列表，给出各个量的卡诺图矩阵\n",
    "\n",
    "def MapToKarnaughMap(_map):\n",
    "    # Turn map to MapToKarnaugh Maps\n",
    "    # Generate ReverseBinCode\n",
    "    index = ReverseBinCode(len(_map[0]))\n",
    "    #index = np.array([[int(char) for char in strcode] for strcode in index])\n",
    "    \n",
    "    dim1 = (int(len(_map[0]) / 2))\n",
    "    dim2 = (len(_map[0]) - int(len(_map[0]) / 2))\n",
    "    #print('dim =', dim1, 'x', dim2)\n",
    "    \n",
    "    gc1 = GrayCode(dim1)\n",
    "    gc2 = GrayCode(dim2)\n",
    "    gd1 = dict(zip(list(gc1.generate_gray()), range(2 ** dim1)))\n",
    "    gd2 = dict(zip(list(gc2.generate_gray()), range(2 ** dim2)))\n",
    "    #print(gd1)\n",
    "    #print(gd2)\n",
    "    \n",
    "    _map = np.array(_map).T\n",
    "    KarnaughMaps = []\n",
    "    for targetStates in _map:\n",
    "        #print('-------')\n",
    "        Karnaugh = np.array(([[0] * (2 ** dim1)]) * (2 ** dim2)).T\n",
    "        #print(Karnaugh)\n",
    "        for state, mcode in zip(index, targetStates):\n",
    "            #print(state, '->', mcode)\n",
    "            #print('c1=',state[0:dim1])\n",
    "            #print('c2=',state[dim1:])\n",
    "            Karnaugh[gd1[state[0:dim1]], gd2[state[dim1:]]] = mcode\n",
    "        KarnaughMaps += [Karnaugh]\n",
    "        #print(Karnaugh)\n",
    "    \n",
    "    return np.array(KarnaughMaps)"
   ]
  },
  {
   "cell_type": "markdown",
   "metadata": {},
   "source": [
    "## 输入矩阵，给出Ising模型能量"
   ]
  },
  {
   "cell_type": "code",
   "execution_count": 4,
   "metadata": {
    "collapsed": true
   },
   "outputs": [],
   "source": [
    "def IsingEnergy(mat, energy={0:-1, 1:1}):\n",
    "    # 给出mat的Ising能量\n",
    "    # Return Ising energy of mat\n",
    "    mat = np.array(mat)\n",
    "    # If mat is a list of mat, then return all energy\n",
    "    if len(mat.shape) == 3:\n",
    "        return np.array([IsingEnergy(_mat, energy) for _mat in mat])\n",
    "    # Otherwise return this energy\n",
    "    x, y = mat.shape\n",
    "    total_E = 0\n",
    "    for i in range(x):\n",
    "        for j in range(y):\n",
    "            total_E += energy[mat[i][j]] * energy[mat[(i - 1) % x][j]]\n",
    "            total_E += energy[mat[i][j]] * energy[mat[(i + 1) % x][j]]\n",
    "            total_E += energy[mat[i][j]] * energy[mat[i][(j - 1) % y]]\n",
    "            total_E += energy[mat[i][j]] * energy[mat[i][(j + 1) % y]]\n",
    "    return -total_E"
   ]
  },
  {
   "cell_type": "code",
   "execution_count": 57,
   "metadata": {},
   "outputs": [
    {
     "data": {
      "text/plain": [
       "array([[[1, 1, 1, 1],\n",
       "        [0, 0, 0, 0]],\n",
       "\n",
       "       [[1, 1, 0, 0],\n",
       "        [1, 1, 0, 0]],\n",
       "\n",
       "       [[1, 0, 0, 1],\n",
       "        [1, 0, 0, 1]]])"
      ]
     },
     "execution_count": 57,
     "metadata": {},
     "output_type": "execute_result"
    }
   ],
   "source": [
    "m = [\n",
    "    [0,0,0],\n",
    "    [0,0,1],\n",
    "    [0,1,0],\n",
    "    [0,1,1],\n",
    "    [1,0,0],\n",
    "    [1,0,1],\n",
    "    [1,1,0],\n",
    "    [1,1,1]\n",
    "    ]\n",
    "MapToKarnaughMap(m)"
   ]
  },
  {
   "cell_type": "markdown",
   "metadata": {},
   "source": [
    "## 对状态名重新标记 Relabel"
   ]
  },
  {
   "cell_type": "code",
   "execution_count": 6,
   "metadata": {
    "collapsed": true
   },
   "outputs": [],
   "source": [
    "testorder=permutations(m).__next__()"
   ]
  },
  {
   "cell_type": "code",
   "execution_count": 40,
   "metadata": {
    "collapsed": true
   },
   "outputs": [],
   "source": [
    "def code2str(codeList):\n",
    "    s = ''\n",
    "    for i in codeList:\n",
    "        s += str(i)\n",
    "    return s\n",
    "\n",
    "def relabel(m0, order):\n",
    "    length = len(m0[0])\n",
    "    bcode = ReverseBinCode(length)\n",
    "    reorderRule = {}\n",
    "    for originLabel, newLabel in zip(bcode, order):\n",
    "        reorderRule[originLabel] = newLabel\n",
    "    #print(reorderRule)\n",
    "    rule = {}\n",
    "    for currentState, nextState in zip(bcode, m0):\n",
    "        #print(reorderRule[code2str(currentState)], 'to', str(nextState))\n",
    "        rule[code2str(reorderRule[code2str(currentState)])] = reorderRule[code2str(nextState)]\n",
    "    \n",
    "    new_m = [rule[startState] for startState in ReverseBinCode(length)]\n",
    "    \n",
    "    return np.array(new_m)"
   ]
  },
  {
   "cell_type": "code",
   "execution_count": 41,
   "metadata": {},
   "outputs": [
    {
     "name": "stdout",
     "output_type": "stream",
     "text": [
      "[[0 0 0]\n",
      " [0 0 1]\n",
      " [0 1 0]\n",
      " [0 1 1]\n",
      " [1 0 0]\n",
      " [1 0 1]\n",
      " [1 1 0]\n",
      " [1 1 1]]\n"
     ]
    }
   ],
   "source": [
    "print(relabel(m, testorder))"
   ]
  },
  {
   "cell_type": "code",
   "execution_count": 43,
   "metadata": {},
   "outputs": [
    {
     "data": {
      "text/plain": [
       "array([[[0, 0],\n",
       "        [1, 1]],\n",
       "\n",
       "       [[0, 1],\n",
       "        [1, 0]]])"
      ]
     },
     "execution_count": 43,
     "metadata": {},
     "output_type": "execute_result"
    }
   ],
   "source": [
    "MapToKarnaughMap(relabel(testM, testOrder))"
   ]
  },
  {
   "cell_type": "markdown",
   "metadata": {},
   "source": [
    "## 计算不同排序的Ising能量"
   ]
  },
  {
   "cell_type": "code",
   "execution_count": 54,
   "metadata": {},
   "outputs": [
    {
     "name": "stdout",
     "output_type": "stream",
     "text": [
      "[0, -16, -16, 0, -16, 32, 0, -16, -16, 0, 8, 8, 0, 8, 8, 0, 32, -16, 0, -16, 32, 0, -16, -16, 0, 8, 8, 0, 0, -16, 0, 16, 16, 0, 8, 8, 0, 8, 8, 0, 16, 16, 0, 32, -16, 0, 8, 8, 0, -16, -16, 0, -16, 0, 0, 0, -16, 0, 8, 8, 0, 8, 8, 0, -16, -16, 0, -16, 0, 0, -16, -16, 0, -16, -16, 0, -16, 32, 0, -16, -16, 0, 8, 8, 0, 8, 8, 0, 32, -16, -16, 0, -16, -16, 0, 32, 0, 0, 0, 8, 0, 8, 0, 16, 16, 8, 16, -16, 0, 0, 0, 0, 16, 16, -16, -16, 0, 8, -16, 16, -16, 32, 0, 8, 8, 0, 8, 0, 8, 8, 16, -16, 8, -16, 16, 32, -16, -16, 8, 8, 0, 32, -16, -16, 0, -16, 32, 0, -16, -16]\n"
     ]
    }
   ],
   "source": [
    "m = [\n",
    "    [0,0,0],\n",
    "    [0,0,1],\n",
    "    [0,1,0],\n",
    "    [0,1,1],\n",
    "    [1,0,0],\n",
    "    [1,0,1],\n",
    "    [1,1,0],\n",
    "    [1,1,1]\n",
    "    ]\n",
    "energyList = []\n",
    "maxlen = 50\n",
    "\n",
    "testorders=permutations(m)\n",
    "\n",
    "for i, order in zip(range(maxlen), testorders):\n",
    "    current_m = relabel(m, list(order))\n",
    "    energy = [IsingEnergy(kmap) for kmap in MapToKarnaughMap(current_m)]\n",
    "    energyList += energy\n",
    "\n",
    "print(energyList)"
   ]
  },
  {
   "cell_type": "code",
   "execution_count": null,
   "metadata": {
    "collapsed": true
   },
   "outputs": [],
   "source": []
  }
 ],
 "metadata": {
  "kernelspec": {
   "display_name": "Python 3",
   "language": "python",
   "name": "python3"
  },
  "language_info": {
   "codemirror_mode": {
    "name": "ipython",
    "version": 3
   },
   "file_extension": ".py",
   "mimetype": "text/x-python",
   "name": "python",
   "nbconvert_exporter": "python",
   "pygments_lexer": "ipython3",
   "version": "3.6.3"
  }
 },
 "nbformat": 4,
 "nbformat_minor": 2
}
